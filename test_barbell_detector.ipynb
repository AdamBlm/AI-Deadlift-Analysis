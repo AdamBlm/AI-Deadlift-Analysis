{
 "cells": [
  {
   "cell_type": "code",
   "execution_count": 1,
   "metadata": {},
   "outputs": [],
   "source": [
    "from ultralytics import YOLO\n",
    "import cv2\n",
    "\n",
    "# Load your YOLO model\n",
    "model = YOLO(\"runs/detect/train/weights/best.pt\")  # Replace with the path to your trained model\n"
   ]
  },
  {
   "cell_type": "code",
   "execution_count": 2,
   "metadata": {},
   "outputs": [],
   "source": [
    "# Path to your video file\n",
    "video_path = \"Worst deadlift form ever [QfP02tIWoPU].mp4\"\n",
    "\n",
    "# Open the video file\n",
    "cap = cv2.VideoCapture(video_path)\n",
    "\n",
    "# Check if the video was loaded\n",
    "if not cap.isOpened():\n",
    "    print(\"Error: Unable to open video file.\")\n"
   ]
  },
  {
   "cell_type": "code",
   "execution_count": 3,
   "metadata": {},
   "outputs": [
    {
     "ename": "",
     "evalue": "",
     "output_type": "error",
     "traceback": [
      "\u001b[1;31mThe Kernel crashed while executing code in the current cell or a previous cell. \n",
      "\u001b[1;31mPlease review the code in the cell(s) to identify a possible cause of the failure. \n",
      "\u001b[1;31mClick <a href='https://aka.ms/vscodeJupyterKernelCrash'>here</a> for more info. \n",
      "\u001b[1;31mView Jupyter <a href='command:jupyter.viewOutput'>log</a> for further details."
     ]
    }
   ],
   "source": [
    "while cap.isOpened():\n",
    "    ret, frame = cap.read()  # Read a frame\n",
    "    if not ret:\n",
    "        break  # Exit loop if no frame is returned (end of video)\n",
    "    \n",
    "    # Run YOLO inference on the frame\n",
    "    results = model.predict(source=frame, imgsz=640, conf=0.25, verbose=False)\n",
    "\n",
    "    # Extract detections for the barbell\n",
    "    for result in results:\n",
    "        boxes = result.boxes  # Get bounding boxes\n",
    "        \n",
    "        for box in boxes:\n",
    "            x1, y1, x2, y2 = box.xyxy[0]  # Bounding box coordinates\n",
    "            y_center = (y1 + y2) / 2  # Calculate the vertical position (y-center)\n",
    "            print(f\"Barbell y-coordinate: {y_center}\")\n",
    "\n",
    "            # Optional: Draw the bounding box and display it\n",
    "            cv2.rectangle(frame, (int(x1), int(y1)), (int(x2), int(y2)), (0, 255, 0), 2)\n",
    "            cv2.circle(frame, (int((x1 + x2) / 2), int(y_center)), 5, (0, 0, 255), -1)\n",
    "\n",
    "    # Display the frame (optional)\n",
    "    cv2.imshow(\"Barbell Detection\", frame)\n",
    "\n",
    "    # Break on 'q' key press\n",
    "    if cv2.waitKey(1) & 0xFF == ord('q'):\n",
    "        break\n"
   ]
  },
  {
   "cell_type": "code",
   "execution_count": null,
   "metadata": {},
   "outputs": [],
   "source": [
    "# Define the output video writer\n",
    "output_path = \"output_video.mp4\"\n",
    "fourcc = cv2.VideoWriter_fourcc(*'mp4v')\n",
    "out = cv2.VideoWriter(output_path, fourcc, cap.get(cv2.CAP_PROP_FPS), \n",
    "                      (int(cap.get(cv2.CAP_PROP_FRAME_WIDTH)), int(cap.get(cv2.CAP_PROP_FRAME_HEIGHT))))\n",
    "\n",
    "# Inside the frame processing loop, write each frame to the output video\n",
    "out.write(frame)\n",
    "\n",
    "# Release the video writer\n",
    "out.release()\n"
   ]
  }
 ],
 "metadata": {
  "kernelspec": {
   "display_name": ".venv",
   "language": "python",
   "name": "python3"
  },
  "language_info": {
   "codemirror_mode": {
    "name": "ipython",
    "version": 3
   },
   "file_extension": ".py",
   "mimetype": "text/x-python",
   "name": "python",
   "nbconvert_exporter": "python",
   "pygments_lexer": "ipython3",
   "version": "3.9.19"
  }
 },
 "nbformat": 4,
 "nbformat_minor": 2
}
