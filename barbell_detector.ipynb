{
 "cells": [
  {
   "cell_type": "code",
   "execution_count": 28,
   "metadata": {},
   "outputs": [],
   "source": [
    "from ultralytics import YOLO\n",
    "import cv2\n",
    "import numpy as np\n",
    "import os\n",
    "\n",
    "# Initialize YOLO model\n",
    "model = YOLO('yolo11n.pt')"
   ]
  },
  {
   "cell_type": "code",
   "execution_count": 31,
   "metadata": {},
   "outputs": [
    {
     "name": "stdout",
     "output_type": "stream",
     "text": [
      "Dataset structure is valid.\n"
     ]
    }
   ],
   "source": [
    "import shutil\n",
    "\n",
    "# Set dataset paths\n",
    "dataset_dir = \"./dataset/barbell-detector.v12i.yolov11\"\n",
    "train_dir = os.path.join(dataset_dir, \"train\")\n",
    "val_dir = os.path.join(dataset_dir, \"valid\")\n",
    "test_dir = os.path.join(dataset_dir, \"test\")\n",
    "\n",
    "# Check dataset structure\n",
    "for split in [train_dir, val_dir, test_dir]:\n",
    "    assert os.path.exists(os.path.join(split, \"images\")), f\"Missing images folder in {split}\"\n",
    "    assert os.path.exists(os.path.join(split, \"labels\")), f\"Missing labels folder in {split}\"\n",
    "\n",
    "print(\"Dataset structure is valid.\")\n"
   ]
  },
  {
   "cell_type": "code",
   "execution_count": 32,
   "metadata": {},
   "outputs": [
    {
     "data": {
      "text/plain": [
       "'/users/eleves-a/2022/amine.chraibi/AI-Deadlift-Analysis'"
      ]
     },
     "execution_count": 32,
     "metadata": {},
     "output_type": "execute_result"
    }
   ],
   "source": [
    "base_path = os.getcwd()\n",
    "base_path"
   ]
  },
  {
   "cell_type": "code",
   "execution_count": 33,
   "metadata": {},
   "outputs": [
    {
     "name": "stdout",
     "output_type": "stream",
     "text": [
      "Ultralytics 8.3.34 🚀 Python-3.9.19 torch-2.5.1+cu124 CUDA:0 (NVIDIA RTX A5000, 24219MiB)\n",
      "\u001b[34m\u001b[1mengine/trainer: \u001b[0mtask=detect, mode=train, model=yolo11n.pt, data=/users/eleves-a/2022/amine.chraibi/AI-Deadlift-Analysis/dataset/barbell-detector.v12i.yolov11/data.yaml, epochs=50, time=None, patience=100, batch=16, imgsz=640, save=True, save_period=-1, cache=False, device=None, workers=8, project=None, name=train4, exist_ok=False, pretrained=True, optimizer=auto, verbose=True, seed=0, deterministic=True, single_cls=False, rect=False, cos_lr=False, close_mosaic=10, resume=False, amp=True, fraction=1.0, profile=False, freeze=None, multi_scale=False, overlap_mask=True, mask_ratio=4, dropout=0.0, val=True, split=val, save_json=False, save_hybrid=False, conf=None, iou=0.7, max_det=300, half=False, dnn=False, plots=True, source=None, vid_stride=1, stream_buffer=False, visualize=False, augment=False, agnostic_nms=False, classes=None, retina_masks=False, embed=None, show=False, save_frames=False, save_txt=False, save_conf=False, save_crop=False, show_labels=True, show_conf=True, show_boxes=True, line_width=None, format=torchscript, keras=False, optimize=False, int8=False, dynamic=False, simplify=True, opset=None, workspace=4, nms=False, lr0=0.01, lrf=0.01, momentum=0.937, weight_decay=0.0005, warmup_epochs=3.0, warmup_momentum=0.8, warmup_bias_lr=0.1, box=7.5, cls=0.5, dfl=1.5, pose=12.0, kobj=1.0, label_smoothing=0.0, nbs=64, hsv_h=0.015, hsv_s=0.7, hsv_v=0.4, degrees=0.0, translate=0.1, scale=0.5, shear=0.0, perspective=0.0, flipud=0.0, fliplr=0.5, bgr=0.0, mosaic=1.0, mixup=0.0, copy_paste=0.0, copy_paste_mode=flip, auto_augment=randaugment, erasing=0.4, crop_fraction=1.0, cfg=None, tracker=botsort.yaml, save_dir=/users/eleves-a/2022/amine.chraibi/AI-Deadlift-Analysis/runs/detect/train4\n",
      "Overriding model.yaml nc=80 with nc=1\n",
      "\n",
      "                   from  n    params  module                                       arguments                     \n",
      "  0                  -1  1       464  ultralytics.nn.modules.conv.Conv             [3, 16, 3, 2]                 \n",
      "  1                  -1  1      4672  ultralytics.nn.modules.conv.Conv             [16, 32, 3, 2]                \n",
      "  2                  -1  1      6640  ultralytics.nn.modules.block.C3k2            [32, 64, 1, False, 0.25]      \n",
      "  3                  -1  1     36992  ultralytics.nn.modules.conv.Conv             [64, 64, 3, 2]                \n",
      "  4                  -1  1     26080  ultralytics.nn.modules.block.C3k2            [64, 128, 1, False, 0.25]     \n",
      "  5                  -1  1    147712  ultralytics.nn.modules.conv.Conv             [128, 128, 3, 2]              \n",
      "  6                  -1  1     87040  ultralytics.nn.modules.block.C3k2            [128, 128, 1, True]           \n",
      "  7                  -1  1    295424  ultralytics.nn.modules.conv.Conv             [128, 256, 3, 2]              \n",
      "  8                  -1  1    346112  ultralytics.nn.modules.block.C3k2            [256, 256, 1, True]           \n",
      "  9                  -1  1    164608  ultralytics.nn.modules.block.SPPF            [256, 256, 5]                 \n",
      " 10                  -1  1    249728  ultralytics.nn.modules.block.C2PSA           [256, 256, 1]                 \n",
      " 11                  -1  1         0  torch.nn.modules.upsampling.Upsample         [None, 2, 'nearest']          \n",
      " 12             [-1, 6]  1         0  ultralytics.nn.modules.conv.Concat           [1]                           \n",
      " 13                  -1  1    111296  ultralytics.nn.modules.block.C3k2            [384, 128, 1, False]          \n",
      " 14                  -1  1         0  torch.nn.modules.upsampling.Upsample         [None, 2, 'nearest']          \n",
      " 15             [-1, 4]  1         0  ultralytics.nn.modules.conv.Concat           [1]                           \n",
      " 16                  -1  1     32096  ultralytics.nn.modules.block.C3k2            [256, 64, 1, False]           \n",
      " 17                  -1  1     36992  ultralytics.nn.modules.conv.Conv             [64, 64, 3, 2]                \n",
      " 18            [-1, 13]  1         0  ultralytics.nn.modules.conv.Concat           [1]                           \n",
      " 19                  -1  1     86720  ultralytics.nn.modules.block.C3k2            [192, 128, 1, False]          \n",
      " 20                  -1  1    147712  ultralytics.nn.modules.conv.Conv             [128, 128, 3, 2]              \n",
      " 21            [-1, 10]  1         0  ultralytics.nn.modules.conv.Concat           [1]                           \n",
      " 22                  -1  1    378880  ultralytics.nn.modules.block.C3k2            [384, 256, 1, True]           \n",
      " 23        [16, 19, 22]  1    430867  ultralytics.nn.modules.head.Detect           [1, [64, 128, 256]]           \n",
      "YOLO11n summary: 319 layers, 2,590,035 parameters, 2,590,019 gradients, 6.4 GFLOPs\n",
      "\n",
      "Transferred 448/499 items from pretrained weights\n",
      "Freezing layer 'model.23.dfl.conv.weight'\n",
      "\u001b[34m\u001b[1mAMP: \u001b[0mrunning Automatic Mixed Precision (AMP) checks...\n",
      "\u001b[34m\u001b[1mAMP: \u001b[0mchecks passed ✅\n"
     ]
    },
    {
     "name": "stderr",
     "output_type": "stream",
     "text": [
      "\u001b[34m\u001b[1mtrain: \u001b[0mScanning /users/eleves-a/2022/amine.chraibi/AI-Deadlift-Analysis/dataset/barbell-detector.v12i.yolov11/train/labels.cache... 903 images, 0 backgrounds, 0 corrupt: 100%|██████████| 903/903 [00:00<?, ?it/s]\n",
      "\u001b[34m\u001b[1mval: \u001b[0mScanning /users/eleves-a/2022/amine.chraibi/AI-Deadlift-Analysis/dataset/barbell-detector.v12i.yolov11/valid/labels.cache... 84 images, 0 backgrounds, 0 corrupt: 100%|██████████| 84/84 [00:00<?, ?it/s]\n"
     ]
    },
    {
     "name": "stdout",
     "output_type": "stream",
     "text": [
      "Plotting labels to /users/eleves-a/2022/amine.chraibi/AI-Deadlift-Analysis/runs/detect/train4/labels.jpg... \n",
      "\u001b[34m\u001b[1moptimizer:\u001b[0m 'optimizer=auto' found, ignoring 'lr0=0.01' and 'momentum=0.937' and determining best 'optimizer', 'lr0' and 'momentum' automatically... \n",
      "\u001b[34m\u001b[1moptimizer:\u001b[0m AdamW(lr=0.002, momentum=0.9) with parameter groups 81 weight(decay=0.0), 88 weight(decay=0.0005), 87 bias(decay=0.0)\n",
      "Image sizes 640 train, 640 val\n",
      "Using 8 dataloader workers\n",
      "Logging results to \u001b[1m/users/eleves-a/2022/amine.chraibi/AI-Deadlift-Analysis/runs/detect/train4\u001b[0m\n",
      "Starting training for 50 epochs...\n",
      "\n",
      "      Epoch    GPU_mem   box_loss   cls_loss   dfl_loss  Instances       Size\n"
     ]
    },
    {
     "name": "stderr",
     "output_type": "stream",
     "text": [
      "       1/50      2.38G     0.9108      2.033       1.12         19        640: 100%|██████████| 57/57 [00:05<00:00, 11.34it/s]\n",
      "                 Class     Images  Instances      Box(P          R      mAP50  mAP50-95): 100%|██████████| 3/3 [00:00<00:00,  9.40it/s]\n"
     ]
    },
    {
     "name": "stdout",
     "output_type": "stream",
     "text": [
      "                   all         84        151      0.771      0.735      0.769      0.608\n",
      "\n",
      "      Epoch    GPU_mem   box_loss   cls_loss   dfl_loss  Instances       Size\n"
     ]
    },
    {
     "name": "stderr",
     "output_type": "stream",
     "text": [
      "       2/50      2.37G     0.7532      1.237      1.012         25        640: 100%|██████████| 57/57 [00:04<00:00, 12.99it/s]\n",
      "                 Class     Images  Instances      Box(P          R      mAP50  mAP50-95): 100%|██████████| 3/3 [00:00<00:00,  9.97it/s]"
     ]
    },
    {
     "name": "stdout",
     "output_type": "stream",
     "text": [
      "                   all         84        151      0.697      0.742      0.731      0.572\n"
     ]
    },
    {
     "name": "stderr",
     "output_type": "stream",
     "text": [
      "\n"
     ]
    },
    {
     "name": "stdout",
     "output_type": "stream",
     "text": [
      "\n",
      "      Epoch    GPU_mem   box_loss   cls_loss   dfl_loss  Instances       Size\n"
     ]
    },
    {
     "name": "stderr",
     "output_type": "stream",
     "text": [
      "       3/50      2.36G     0.7505      1.113      1.013         22        640: 100%|██████████| 57/57 [00:04<00:00, 12.99it/s]\n",
      "                 Class     Images  Instances      Box(P          R      mAP50  mAP50-95): 100%|██████████| 3/3 [00:00<00:00, 10.35it/s]"
     ]
    },
    {
     "name": "stdout",
     "output_type": "stream",
     "text": [
      "                   all         84        151      0.225     0.0993       0.08     0.0561\n"
     ]
    },
    {
     "name": "stderr",
     "output_type": "stream",
     "text": [
      "\n"
     ]
    },
    {
     "name": "stdout",
     "output_type": "stream",
     "text": [
      "\n",
      "      Epoch    GPU_mem   box_loss   cls_loss   dfl_loss  Instances       Size\n"
     ]
    },
    {
     "name": "stderr",
     "output_type": "stream",
     "text": [
      "       4/50      2.37G     0.6916     0.9854     0.9884         15        640: 100%|██████████| 57/57 [00:04<00:00, 13.67it/s]\n",
      "                 Class     Images  Instances      Box(P          R      mAP50  mAP50-95): 100%|██████████| 3/3 [00:00<00:00, 10.40it/s]"
     ]
    },
    {
     "name": "stdout",
     "output_type": "stream",
     "text": [
      "                   all         84        151      0.779      0.841      0.825      0.597\n"
     ]
    },
    {
     "name": "stderr",
     "output_type": "stream",
     "text": [
      "\n"
     ]
    },
    {
     "name": "stdout",
     "output_type": "stream",
     "text": [
      "\n",
      "      Epoch    GPU_mem   box_loss   cls_loss   dfl_loss  Instances       Size\n"
     ]
    },
    {
     "name": "stderr",
     "output_type": "stream",
     "text": [
      "       5/50      2.38G     0.6775     0.8785     0.9835         16        640: 100%|██████████| 57/57 [00:04<00:00, 13.32it/s]\n",
      "                 Class     Images  Instances      Box(P          R      mAP50  mAP50-95): 100%|██████████| 3/3 [00:00<00:00, 10.73it/s]"
     ]
    },
    {
     "name": "stdout",
     "output_type": "stream",
     "text": [
      "                   all         84        151      0.792      0.833      0.801       0.64\n"
     ]
    },
    {
     "name": "stderr",
     "output_type": "stream",
     "text": [
      "\n"
     ]
    },
    {
     "name": "stdout",
     "output_type": "stream",
     "text": [
      "\n",
      "      Epoch    GPU_mem   box_loss   cls_loss   dfl_loss  Instances       Size\n"
     ]
    },
    {
     "name": "stderr",
     "output_type": "stream",
     "text": [
      "       6/50      2.37G     0.6374     0.7854     0.9624         22        640: 100%|██████████| 57/57 [00:04<00:00, 13.50it/s]\n",
      "                 Class     Images  Instances      Box(P          R      mAP50  mAP50-95): 100%|██████████| 3/3 [00:00<00:00, 10.58it/s]"
     ]
    },
    {
     "name": "stdout",
     "output_type": "stream",
     "text": [
      "                   all         84        151      0.562      0.576      0.533      0.367\n"
     ]
    },
    {
     "name": "stderr",
     "output_type": "stream",
     "text": [
      "\n"
     ]
    },
    {
     "name": "stdout",
     "output_type": "stream",
     "text": [
      "\n",
      "      Epoch    GPU_mem   box_loss   cls_loss   dfl_loss  Instances       Size\n"
     ]
    },
    {
     "name": "stderr",
     "output_type": "stream",
     "text": [
      "       7/50      2.36G     0.5868     0.7397     0.9618         18        640: 100%|██████████| 57/57 [00:04<00:00, 13.47it/s]\n",
      "                 Class     Images  Instances      Box(P          R      mAP50  mAP50-95): 100%|██████████| 3/3 [00:00<00:00, 10.70it/s]"
     ]
    },
    {
     "name": "stdout",
     "output_type": "stream",
     "text": [
      "                   all         84        151      0.775      0.866      0.831      0.659\n"
     ]
    },
    {
     "name": "stderr",
     "output_type": "stream",
     "text": [
      "\n"
     ]
    },
    {
     "name": "stdout",
     "output_type": "stream",
     "text": [
      "\n",
      "      Epoch    GPU_mem   box_loss   cls_loss   dfl_loss  Instances       Size\n"
     ]
    },
    {
     "name": "stderr",
     "output_type": "stream",
     "text": [
      "       8/50      2.38G     0.5704     0.6781     0.9417         25        640: 100%|██████████| 57/57 [00:04<00:00, 13.36it/s]\n",
      "                 Class     Images  Instances      Box(P          R      mAP50  mAP50-95): 100%|██████████| 3/3 [00:00<00:00, 11.31it/s]"
     ]
    },
    {
     "name": "stdout",
     "output_type": "stream",
     "text": [
      "                   all         84        151      0.791      0.827      0.826      0.683\n"
     ]
    },
    {
     "name": "stderr",
     "output_type": "stream",
     "text": [
      "\n"
     ]
    },
    {
     "name": "stdout",
     "output_type": "stream",
     "text": [
      "\n",
      "      Epoch    GPU_mem   box_loss   cls_loss   dfl_loss  Instances       Size\n"
     ]
    },
    {
     "name": "stderr",
     "output_type": "stream",
     "text": [
      "       9/50      2.38G     0.5681     0.6548     0.9491         29        640: 100%|██████████| 57/57 [00:04<00:00, 13.54it/s]\n",
      "                 Class     Images  Instances      Box(P          R      mAP50  mAP50-95): 100%|██████████| 3/3 [00:00<00:00, 11.29it/s]"
     ]
    },
    {
     "name": "stdout",
     "output_type": "stream",
     "text": [
      "                   all         84        151      0.851      0.834      0.859      0.713\n"
     ]
    },
    {
     "name": "stderr",
     "output_type": "stream",
     "text": [
      "\n"
     ]
    },
    {
     "name": "stdout",
     "output_type": "stream",
     "text": [
      "\n",
      "      Epoch    GPU_mem   box_loss   cls_loss   dfl_loss  Instances       Size\n"
     ]
    },
    {
     "name": "stderr",
     "output_type": "stream",
     "text": [
      "      10/50      2.36G     0.5486     0.6238     0.9428         35        640: 100%|██████████| 57/57 [00:04<00:00, 13.17it/s]\n",
      "                 Class     Images  Instances      Box(P          R      mAP50  mAP50-95): 100%|██████████| 3/3 [00:00<00:00, 11.30it/s]"
     ]
    },
    {
     "name": "stdout",
     "output_type": "stream",
     "text": [
      "                   all         84        151      0.779      0.788      0.756        0.6\n"
     ]
    },
    {
     "name": "stderr",
     "output_type": "stream",
     "text": [
      "\n"
     ]
    },
    {
     "name": "stdout",
     "output_type": "stream",
     "text": [
      "\n",
      "      Epoch    GPU_mem   box_loss   cls_loss   dfl_loss  Instances       Size\n"
     ]
    },
    {
     "name": "stderr",
     "output_type": "stream",
     "text": [
      "      11/50      2.35G     0.4973     0.5877     0.9184         23        640: 100%|██████████| 57/57 [00:04<00:00, 13.05it/s]\n",
      "                 Class     Images  Instances      Box(P          R      mAP50  mAP50-95): 100%|██████████| 3/3 [00:00<00:00, 10.78it/s]"
     ]
    },
    {
     "name": "stdout",
     "output_type": "stream",
     "text": [
      "                   all         84        151      0.848      0.813      0.828      0.647\n"
     ]
    },
    {
     "name": "stderr",
     "output_type": "stream",
     "text": [
      "\n"
     ]
    },
    {
     "name": "stdout",
     "output_type": "stream",
     "text": [
      "\n",
      "      Epoch    GPU_mem   box_loss   cls_loss   dfl_loss  Instances       Size\n"
     ]
    },
    {
     "name": "stderr",
     "output_type": "stream",
     "text": [
      "      12/50       2.4G     0.5044     0.5791     0.9228         19        640: 100%|██████████| 57/57 [00:04<00:00, 13.54it/s]\n",
      "                 Class     Images  Instances      Box(P          R      mAP50  mAP50-95): 100%|██████████| 3/3 [00:00<00:00, 11.37it/s]"
     ]
    },
    {
     "name": "stdout",
     "output_type": "stream",
     "text": [
      "                   all         84        151      0.878      0.815      0.858       0.71\n"
     ]
    },
    {
     "name": "stderr",
     "output_type": "stream",
     "text": [
      "\n"
     ]
    },
    {
     "name": "stdout",
     "output_type": "stream",
     "text": [
      "\n",
      "      Epoch    GPU_mem   box_loss   cls_loss   dfl_loss  Instances       Size\n"
     ]
    },
    {
     "name": "stderr",
     "output_type": "stream",
     "text": [
      "      13/50      2.37G     0.5169     0.5813     0.9275         24        640: 100%|██████████| 57/57 [00:04<00:00, 13.35it/s]\n",
      "                 Class     Images  Instances      Box(P          R      mAP50  mAP50-95): 100%|██████████| 3/3 [00:00<00:00, 10.98it/s]"
     ]
    },
    {
     "name": "stdout",
     "output_type": "stream",
     "text": [
      "                   all         84        151      0.814      0.874      0.844      0.703\n"
     ]
    },
    {
     "name": "stderr",
     "output_type": "stream",
     "text": [
      "\n"
     ]
    },
    {
     "name": "stdout",
     "output_type": "stream",
     "text": [
      "\n",
      "      Epoch    GPU_mem   box_loss   cls_loss   dfl_loss  Instances       Size\n"
     ]
    },
    {
     "name": "stderr",
     "output_type": "stream",
     "text": [
      "      14/50      2.37G      0.486     0.5407     0.9155         16        640: 100%|██████████| 57/57 [00:04<00:00, 13.51it/s]\n",
      "                 Class     Images  Instances      Box(P          R      mAP50  mAP50-95): 100%|██████████| 3/3 [00:00<00:00, 11.47it/s]"
     ]
    },
    {
     "name": "stdout",
     "output_type": "stream",
     "text": [
      "                   all         84        151      0.841      0.795       0.85      0.699\n"
     ]
    },
    {
     "name": "stderr",
     "output_type": "stream",
     "text": [
      "\n"
     ]
    },
    {
     "name": "stdout",
     "output_type": "stream",
     "text": [
      "\n",
      "      Epoch    GPU_mem   box_loss   cls_loss   dfl_loss  Instances       Size\n"
     ]
    },
    {
     "name": "stderr",
     "output_type": "stream",
     "text": [
      "      15/50      2.39G     0.4694     0.5279     0.9128         18        640: 100%|██████████| 57/57 [00:04<00:00, 13.42it/s]\n",
      "                 Class     Images  Instances      Box(P          R      mAP50  mAP50-95): 100%|██████████| 3/3 [00:00<00:00, 11.27it/s]"
     ]
    },
    {
     "name": "stdout",
     "output_type": "stream",
     "text": [
      "                   all         84        151      0.878      0.859      0.869      0.739\n"
     ]
    },
    {
     "name": "stderr",
     "output_type": "stream",
     "text": [
      "\n"
     ]
    },
    {
     "name": "stdout",
     "output_type": "stream",
     "text": [
      "\n",
      "      Epoch    GPU_mem   box_loss   cls_loss   dfl_loss  Instances       Size\n"
     ]
    },
    {
     "name": "stderr",
     "output_type": "stream",
     "text": [
      "      16/50      2.37G     0.4461     0.5048     0.8988         21        640: 100%|██████████| 57/57 [00:04<00:00, 13.33it/s]\n",
      "                 Class     Images  Instances      Box(P          R      mAP50  mAP50-95): 100%|██████████| 3/3 [00:00<00:00, 10.44it/s]"
     ]
    },
    {
     "name": "stdout",
     "output_type": "stream",
     "text": [
      "                   all         84        151      0.825      0.872      0.846      0.709\n"
     ]
    },
    {
     "name": "stderr",
     "output_type": "stream",
     "text": [
      "\n"
     ]
    },
    {
     "name": "stdout",
     "output_type": "stream",
     "text": [
      "\n",
      "      Epoch    GPU_mem   box_loss   cls_loss   dfl_loss  Instances       Size\n"
     ]
    },
    {
     "name": "stderr",
     "output_type": "stream",
     "text": [
      "      17/50      2.37G     0.4493     0.4741      0.905         12        640: 100%|██████████| 57/57 [00:04<00:00, 12.97it/s]\n",
      "                 Class     Images  Instances      Box(P          R      mAP50  mAP50-95): 100%|██████████| 3/3 [00:00<00:00, 11.31it/s]"
     ]
    },
    {
     "name": "stdout",
     "output_type": "stream",
     "text": [
      "                   all         84        151      0.837      0.849      0.832      0.692\n"
     ]
    },
    {
     "name": "stderr",
     "output_type": "stream",
     "text": [
      "\n"
     ]
    },
    {
     "name": "stdout",
     "output_type": "stream",
     "text": [
      "\n",
      "      Epoch    GPU_mem   box_loss   cls_loss   dfl_loss  Instances       Size\n"
     ]
    },
    {
     "name": "stderr",
     "output_type": "stream",
     "text": [
      "      18/50      2.37G     0.4421     0.4886     0.8925         26        640: 100%|██████████| 57/57 [00:04<00:00, 13.04it/s]\n",
      "                 Class     Images  Instances      Box(P          R      mAP50  mAP50-95): 100%|██████████| 3/3 [00:00<00:00, 10.86it/s]"
     ]
    },
    {
     "name": "stdout",
     "output_type": "stream",
     "text": [
      "                   all         84        151      0.907      0.795      0.837      0.723\n"
     ]
    },
    {
     "name": "stderr",
     "output_type": "stream",
     "text": [
      "\n"
     ]
    },
    {
     "name": "stdout",
     "output_type": "stream",
     "text": [
      "\n",
      "      Epoch    GPU_mem   box_loss   cls_loss   dfl_loss  Instances       Size\n"
     ]
    },
    {
     "name": "stderr",
     "output_type": "stream",
     "text": [
      "      19/50      2.38G     0.4462     0.4852     0.8984         18        640: 100%|██████████| 57/57 [00:04<00:00, 13.26it/s]\n",
      "                 Class     Images  Instances      Box(P          R      mAP50  mAP50-95): 100%|██████████| 3/3 [00:00<00:00, 10.41it/s]"
     ]
    },
    {
     "name": "stdout",
     "output_type": "stream",
     "text": [
      "                   all         84        151      0.867      0.861      0.866      0.742\n"
     ]
    },
    {
     "name": "stderr",
     "output_type": "stream",
     "text": [
      "\n"
     ]
    },
    {
     "name": "stdout",
     "output_type": "stream",
     "text": [
      "\n",
      "      Epoch    GPU_mem   box_loss   cls_loss   dfl_loss  Instances       Size\n"
     ]
    },
    {
     "name": "stderr",
     "output_type": "stream",
     "text": [
      "      20/50      2.38G     0.4215     0.4509     0.8879         17        640: 100%|██████████| 57/57 [00:04<00:00, 13.49it/s]\n",
      "                 Class     Images  Instances      Box(P          R      mAP50  mAP50-95): 100%|██████████| 3/3 [00:00<00:00, 11.36it/s]"
     ]
    },
    {
     "name": "stdout",
     "output_type": "stream",
     "text": [
      "                   all         84        151      0.863      0.801      0.857      0.733\n"
     ]
    },
    {
     "name": "stderr",
     "output_type": "stream",
     "text": [
      "\n"
     ]
    },
    {
     "name": "stdout",
     "output_type": "stream",
     "text": [
      "\n",
      "      Epoch    GPU_mem   box_loss   cls_loss   dfl_loss  Instances       Size\n"
     ]
    },
    {
     "name": "stderr",
     "output_type": "stream",
     "text": [
      "      21/50      2.37G     0.4329     0.4615     0.8977         22        640: 100%|██████████| 57/57 [00:04<00:00, 13.59it/s]\n",
      "                 Class     Images  Instances      Box(P          R      mAP50  mAP50-95): 100%|██████████| 3/3 [00:00<00:00, 11.39it/s]"
     ]
    },
    {
     "name": "stdout",
     "output_type": "stream",
     "text": [
      "                   all         84        151      0.868      0.872      0.871      0.764\n"
     ]
    },
    {
     "name": "stderr",
     "output_type": "stream",
     "text": [
      "\n"
     ]
    },
    {
     "name": "stdout",
     "output_type": "stream",
     "text": [
      "\n",
      "      Epoch    GPU_mem   box_loss   cls_loss   dfl_loss  Instances       Size\n"
     ]
    },
    {
     "name": "stderr",
     "output_type": "stream",
     "text": [
      "      22/50      2.37G     0.4177     0.4559     0.8898         21        640: 100%|██████████| 57/57 [00:04<00:00, 13.51it/s]\n",
      "                 Class     Images  Instances      Box(P          R      mAP50  mAP50-95): 100%|██████████| 3/3 [00:00<00:00, 11.22it/s]"
     ]
    },
    {
     "name": "stdout",
     "output_type": "stream",
     "text": [
      "                   all         84        151      0.804      0.897       0.87      0.756\n"
     ]
    },
    {
     "name": "stderr",
     "output_type": "stream",
     "text": [
      "\n"
     ]
    },
    {
     "name": "stdout",
     "output_type": "stream",
     "text": [
      "\n",
      "      Epoch    GPU_mem   box_loss   cls_loss   dfl_loss  Instances       Size\n"
     ]
    },
    {
     "name": "stderr",
     "output_type": "stream",
     "text": [
      "      23/50      2.36G     0.3964     0.4332     0.8851         13        640: 100%|██████████| 57/57 [00:04<00:00, 13.59it/s]\n",
      "                 Class     Images  Instances      Box(P          R      mAP50  mAP50-95): 100%|██████████| 3/3 [00:00<00:00, 11.40it/s]"
     ]
    },
    {
     "name": "stdout",
     "output_type": "stream",
     "text": [
      "                   all         84        151       0.87      0.861      0.868      0.732\n"
     ]
    },
    {
     "name": "stderr",
     "output_type": "stream",
     "text": [
      "\n"
     ]
    },
    {
     "name": "stdout",
     "output_type": "stream",
     "text": [
      "\n",
      "      Epoch    GPU_mem   box_loss   cls_loss   dfl_loss  Instances       Size\n"
     ]
    },
    {
     "name": "stderr",
     "output_type": "stream",
     "text": [
      "      24/50      2.37G     0.3944     0.4324     0.8812         19        640: 100%|██████████| 57/57 [00:04<00:00, 13.56it/s]\n",
      "                 Class     Images  Instances      Box(P          R      mAP50  mAP50-95): 100%|██████████| 3/3 [00:00<00:00, 11.35it/s]"
     ]
    },
    {
     "name": "stdout",
     "output_type": "stream",
     "text": [
      "                   all         84        151      0.863      0.887      0.882      0.782\n"
     ]
    },
    {
     "name": "stderr",
     "output_type": "stream",
     "text": [
      "\n"
     ]
    },
    {
     "name": "stdout",
     "output_type": "stream",
     "text": [
      "\n",
      "      Epoch    GPU_mem   box_loss   cls_loss   dfl_loss  Instances       Size\n"
     ]
    },
    {
     "name": "stderr",
     "output_type": "stream",
     "text": [
      "      25/50       2.4G     0.3836     0.4016     0.8791         18        640: 100%|██████████| 57/57 [00:04<00:00, 13.53it/s]\n",
      "                 Class     Images  Instances      Box(P          R      mAP50  mAP50-95): 100%|██████████| 3/3 [00:00<00:00, 11.39it/s]"
     ]
    },
    {
     "name": "stdout",
     "output_type": "stream",
     "text": [
      "                   all         84        151      0.882      0.887      0.879      0.778\n"
     ]
    },
    {
     "name": "stderr",
     "output_type": "stream",
     "text": [
      "\n"
     ]
    },
    {
     "name": "stdout",
     "output_type": "stream",
     "text": [
      "\n",
      "      Epoch    GPU_mem   box_loss   cls_loss   dfl_loss  Instances       Size\n"
     ]
    },
    {
     "name": "stderr",
     "output_type": "stream",
     "text": [
      "      26/50      2.37G     0.3757     0.4039     0.8774         28        640: 100%|██████████| 57/57 [00:04<00:00, 13.48it/s]\n",
      "                 Class     Images  Instances      Box(P          R      mAP50  mAP50-95): 100%|██████████| 3/3 [00:00<00:00, 11.43it/s]"
     ]
    },
    {
     "name": "stdout",
     "output_type": "stream",
     "text": [
      "                   all         84        151      0.878      0.874      0.879      0.764\n"
     ]
    },
    {
     "name": "stderr",
     "output_type": "stream",
     "text": [
      "\n"
     ]
    },
    {
     "name": "stdout",
     "output_type": "stream",
     "text": [
      "\n",
      "      Epoch    GPU_mem   box_loss   cls_loss   dfl_loss  Instances       Size\n"
     ]
    },
    {
     "name": "stderr",
     "output_type": "stream",
     "text": [
      "      27/50      2.37G     0.3852     0.4012     0.8769         16        640: 100%|██████████| 57/57 [00:04<00:00, 13.56it/s]\n",
      "                 Class     Images  Instances      Box(P          R      mAP50  mAP50-95): 100%|██████████| 3/3 [00:00<00:00, 11.06it/s]"
     ]
    },
    {
     "name": "stdout",
     "output_type": "stream",
     "text": [
      "                   all         84        151       0.85      0.874      0.879      0.789\n"
     ]
    },
    {
     "name": "stderr",
     "output_type": "stream",
     "text": [
      "\n"
     ]
    },
    {
     "name": "stdout",
     "output_type": "stream",
     "text": [
      "\n",
      "      Epoch    GPU_mem   box_loss   cls_loss   dfl_loss  Instances       Size\n"
     ]
    },
    {
     "name": "stderr",
     "output_type": "stream",
     "text": [
      "      28/50      2.37G      0.384     0.3933     0.8791         23        640: 100%|██████████| 57/57 [00:04<00:00, 13.56it/s]\n",
      "                 Class     Images  Instances      Box(P          R      mAP50  mAP50-95): 100%|██████████| 3/3 [00:00<00:00, 11.42it/s]"
     ]
    },
    {
     "name": "stdout",
     "output_type": "stream",
     "text": [
      "                   all         84        151      0.893      0.848      0.876      0.768\n"
     ]
    },
    {
     "name": "stderr",
     "output_type": "stream",
     "text": [
      "\n"
     ]
    },
    {
     "name": "stdout",
     "output_type": "stream",
     "text": [
      "\n",
      "      Epoch    GPU_mem   box_loss   cls_loss   dfl_loss  Instances       Size\n"
     ]
    },
    {
     "name": "stderr",
     "output_type": "stream",
     "text": [
      "      29/50      2.38G      0.362     0.3721     0.8646         15        640: 100%|██████████| 57/57 [00:04<00:00, 13.48it/s]\n",
      "                 Class     Images  Instances      Box(P          R      mAP50  mAP50-95): 100%|██████████| 3/3 [00:00<00:00, 11.08it/s]"
     ]
    },
    {
     "name": "stdout",
     "output_type": "stream",
     "text": [
      "                   all         84        151      0.827      0.894       0.86      0.772\n"
     ]
    },
    {
     "name": "stderr",
     "output_type": "stream",
     "text": [
      "\n"
     ]
    },
    {
     "name": "stdout",
     "output_type": "stream",
     "text": [
      "\n",
      "      Epoch    GPU_mem   box_loss   cls_loss   dfl_loss  Instances       Size\n"
     ]
    },
    {
     "name": "stderr",
     "output_type": "stream",
     "text": [
      "      30/50      2.38G     0.3653      0.372     0.8678         25        640: 100%|██████████| 57/57 [00:04<00:00, 13.47it/s]\n",
      "                 Class     Images  Instances      Box(P          R      mAP50  mAP50-95): 100%|██████████| 3/3 [00:00<00:00, 11.41it/s]"
     ]
    },
    {
     "name": "stdout",
     "output_type": "stream",
     "text": [
      "                   all         84        151       0.89      0.874      0.863      0.781\n"
     ]
    },
    {
     "name": "stderr",
     "output_type": "stream",
     "text": [
      "\n"
     ]
    },
    {
     "name": "stdout",
     "output_type": "stream",
     "text": [
      "\n",
      "      Epoch    GPU_mem   box_loss   cls_loss   dfl_loss  Instances       Size\n"
     ]
    },
    {
     "name": "stderr",
     "output_type": "stream",
     "text": [
      "      31/50      2.36G     0.3652     0.3773     0.8767         25        640: 100%|██████████| 57/57 [00:04<00:00, 13.54it/s]\n",
      "                 Class     Images  Instances      Box(P          R      mAP50  mAP50-95): 100%|██████████| 3/3 [00:00<00:00, 11.37it/s]"
     ]
    },
    {
     "name": "stdout",
     "output_type": "stream",
     "text": [
      "                   all         84        151      0.839      0.907      0.884      0.782\n"
     ]
    },
    {
     "name": "stderr",
     "output_type": "stream",
     "text": [
      "\n"
     ]
    },
    {
     "name": "stdout",
     "output_type": "stream",
     "text": [
      "\n",
      "      Epoch    GPU_mem   box_loss   cls_loss   dfl_loss  Instances       Size\n"
     ]
    },
    {
     "name": "stderr",
     "output_type": "stream",
     "text": [
      "      32/50      2.37G     0.3554     0.3673     0.8741         20        640: 100%|██████████| 57/57 [00:04<00:00, 13.56it/s]\n",
      "                 Class     Images  Instances      Box(P          R      mAP50  mAP50-95): 100%|██████████| 3/3 [00:00<00:00, 11.49it/s]"
     ]
    },
    {
     "name": "stdout",
     "output_type": "stream",
     "text": [
      "                   all         84        151      0.866      0.881      0.893      0.802\n"
     ]
    },
    {
     "name": "stderr",
     "output_type": "stream",
     "text": [
      "\n"
     ]
    },
    {
     "name": "stdout",
     "output_type": "stream",
     "text": [
      "\n",
      "      Epoch    GPU_mem   box_loss   cls_loss   dfl_loss  Instances       Size\n"
     ]
    },
    {
     "name": "stderr",
     "output_type": "stream",
     "text": [
      "      33/50      2.38G     0.3468     0.3597     0.8702         18        640: 100%|██████████| 57/57 [00:04<00:00, 13.38it/s]\n",
      "                 Class     Images  Instances      Box(P          R      mAP50  mAP50-95): 100%|██████████| 3/3 [00:00<00:00, 11.37it/s]"
     ]
    },
    {
     "name": "stdout",
     "output_type": "stream",
     "text": [
      "                   all         84        151      0.896      0.868      0.896      0.816\n"
     ]
    },
    {
     "name": "stderr",
     "output_type": "stream",
     "text": [
      "\n"
     ]
    },
    {
     "name": "stdout",
     "output_type": "stream",
     "text": [
      "\n",
      "      Epoch    GPU_mem   box_loss   cls_loss   dfl_loss  Instances       Size\n"
     ]
    },
    {
     "name": "stderr",
     "output_type": "stream",
     "text": [
      "      34/50      2.38G     0.3233     0.3381     0.8617         38        640: 100%|██████████| 57/57 [00:04<00:00, 13.38it/s]\n",
      "                 Class     Images  Instances      Box(P          R      mAP50  mAP50-95): 100%|██████████| 3/3 [00:00<00:00, 11.34it/s]"
     ]
    },
    {
     "name": "stdout",
     "output_type": "stream",
     "text": [
      "                   all         84        151      0.883      0.854      0.881      0.774\n"
     ]
    },
    {
     "name": "stderr",
     "output_type": "stream",
     "text": [
      "\n"
     ]
    },
    {
     "name": "stdout",
     "output_type": "stream",
     "text": [
      "\n",
      "      Epoch    GPU_mem   box_loss   cls_loss   dfl_loss  Instances       Size\n"
     ]
    },
    {
     "name": "stderr",
     "output_type": "stream",
     "text": [
      "      35/50      2.37G     0.3316      0.343     0.8605         12        640: 100%|██████████| 57/57 [00:04<00:00, 13.34it/s]\n",
      "                 Class     Images  Instances      Box(P          R      mAP50  mAP50-95): 100%|██████████| 3/3 [00:00<00:00, 11.13it/s]"
     ]
    },
    {
     "name": "stdout",
     "output_type": "stream",
     "text": [
      "                   all         84        151      0.904      0.821      0.867      0.776\n"
     ]
    },
    {
     "name": "stderr",
     "output_type": "stream",
     "text": [
      "\n"
     ]
    },
    {
     "name": "stdout",
     "output_type": "stream",
     "text": [
      "\n",
      "      Epoch    GPU_mem   box_loss   cls_loss   dfl_loss  Instances       Size\n"
     ]
    },
    {
     "name": "stderr",
     "output_type": "stream",
     "text": [
      "      36/50      2.36G     0.3353     0.3456     0.8655         20        640: 100%|██████████| 57/57 [00:04<00:00, 13.48it/s]\n",
      "                 Class     Images  Instances      Box(P          R      mAP50  mAP50-95): 100%|██████████| 3/3 [00:00<00:00, 11.31it/s]"
     ]
    },
    {
     "name": "stdout",
     "output_type": "stream",
     "text": [
      "                   all         84        151      0.855      0.907      0.886      0.803\n"
     ]
    },
    {
     "name": "stderr",
     "output_type": "stream",
     "text": [
      "\n"
     ]
    },
    {
     "name": "stdout",
     "output_type": "stream",
     "text": [
      "\n",
      "      Epoch    GPU_mem   box_loss   cls_loss   dfl_loss  Instances       Size\n"
     ]
    },
    {
     "name": "stderr",
     "output_type": "stream",
     "text": [
      "      37/50      2.38G     0.3266     0.3385     0.8585         25        640: 100%|██████████| 57/57 [00:04<00:00, 13.38it/s]\n",
      "                 Class     Images  Instances      Box(P          R      mAP50  mAP50-95): 100%|██████████| 3/3 [00:00<00:00, 11.36it/s]"
     ]
    },
    {
     "name": "stdout",
     "output_type": "stream",
     "text": [
      "                   all         84        151      0.876      0.854      0.896      0.824\n"
     ]
    },
    {
     "name": "stderr",
     "output_type": "stream",
     "text": [
      "\n"
     ]
    },
    {
     "name": "stdout",
     "output_type": "stream",
     "text": [
      "\n",
      "      Epoch    GPU_mem   box_loss   cls_loss   dfl_loss  Instances       Size\n"
     ]
    },
    {
     "name": "stderr",
     "output_type": "stream",
     "text": [
      "      38/50      2.38G     0.3238     0.3317     0.8536         25        640: 100%|██████████| 57/57 [00:04<00:00, 13.49it/s]\n",
      "                 Class     Images  Instances      Box(P          R      mAP50  mAP50-95): 100%|██████████| 3/3 [00:00<00:00, 11.51it/s]"
     ]
    },
    {
     "name": "stdout",
     "output_type": "stream",
     "text": [
      "                   all         84        151      0.901      0.844       0.88      0.801\n"
     ]
    },
    {
     "name": "stderr",
     "output_type": "stream",
     "text": [
      "\n"
     ]
    },
    {
     "name": "stdout",
     "output_type": "stream",
     "text": [
      "\n",
      "      Epoch    GPU_mem   box_loss   cls_loss   dfl_loss  Instances       Size\n"
     ]
    },
    {
     "name": "stderr",
     "output_type": "stream",
     "text": [
      "      39/50      2.37G     0.3211     0.3254     0.8555         17        640: 100%|██████████| 57/57 [00:04<00:00, 13.42it/s]\n",
      "                 Class     Images  Instances      Box(P          R      mAP50  mAP50-95): 100%|██████████| 3/3 [00:00<00:00, 11.43it/s]"
     ]
    },
    {
     "name": "stdout",
     "output_type": "stream",
     "text": [
      "                   all         84        151      0.898      0.841      0.871      0.798\n"
     ]
    },
    {
     "name": "stderr",
     "output_type": "stream",
     "text": [
      "\n"
     ]
    },
    {
     "name": "stdout",
     "output_type": "stream",
     "text": [
      "\n",
      "      Epoch    GPU_mem   box_loss   cls_loss   dfl_loss  Instances       Size\n"
     ]
    },
    {
     "name": "stderr",
     "output_type": "stream",
     "text": [
      "      40/50      2.37G     0.3177       0.32     0.8581         21        640: 100%|██████████| 57/57 [00:04<00:00, 13.48it/s]\n",
      "                 Class     Images  Instances      Box(P          R      mAP50  mAP50-95): 100%|██████████| 3/3 [00:00<00:00, 11.57it/s]"
     ]
    },
    {
     "name": "stdout",
     "output_type": "stream",
     "text": [
      "                   all         84        151      0.884      0.861      0.877      0.823\n"
     ]
    },
    {
     "name": "stderr",
     "output_type": "stream",
     "text": [
      "\n"
     ]
    },
    {
     "name": "stdout",
     "output_type": "stream",
     "text": [
      "Closing dataloader mosaic\n",
      "\n",
      "      Epoch    GPU_mem   box_loss   cls_loss   dfl_loss  Instances       Size\n"
     ]
    },
    {
     "name": "stderr",
     "output_type": "stream",
     "text": [
      "      41/50      2.46G     0.2645     0.2635     0.8195         13        640: 100%|██████████| 57/57 [00:04<00:00, 12.11it/s]\n",
      "                 Class     Images  Instances      Box(P          R      mAP50  mAP50-95): 100%|██████████| 3/3 [00:00<00:00, 11.67it/s]"
     ]
    },
    {
     "name": "stdout",
     "output_type": "stream",
     "text": [
      "                   all         84        151      0.874      0.873      0.883      0.797\n"
     ]
    },
    {
     "name": "stderr",
     "output_type": "stream",
     "text": [
      "\n"
     ]
    },
    {
     "name": "stdout",
     "output_type": "stream",
     "text": [
      "\n",
      "      Epoch    GPU_mem   box_loss   cls_loss   dfl_loss  Instances       Size\n"
     ]
    },
    {
     "name": "stderr",
     "output_type": "stream",
     "text": [
      "      42/50      2.36G      0.257     0.2448     0.8199         12        640: 100%|██████████| 57/57 [00:04<00:00, 13.26it/s]\n",
      "                 Class     Images  Instances      Box(P          R      mAP50  mAP50-95): 100%|██████████| 3/3 [00:00<00:00, 11.71it/s]"
     ]
    },
    {
     "name": "stdout",
     "output_type": "stream",
     "text": [
      "                   all         84        151      0.887       0.88      0.881      0.793\n"
     ]
    },
    {
     "name": "stderr",
     "output_type": "stream",
     "text": [
      "\n"
     ]
    },
    {
     "name": "stdout",
     "output_type": "stream",
     "text": [
      "\n",
      "      Epoch    GPU_mem   box_loss   cls_loss   dfl_loss  Instances       Size\n"
     ]
    },
    {
     "name": "stderr",
     "output_type": "stream",
     "text": [
      "      43/50      2.35G     0.2539     0.2403     0.8219         12        640: 100%|██████████| 57/57 [00:04<00:00, 13.49it/s]\n",
      "                 Class     Images  Instances      Box(P          R      mAP50  mAP50-95): 100%|██████████| 3/3 [00:00<00:00, 11.75it/s]"
     ]
    },
    {
     "name": "stdout",
     "output_type": "stream",
     "text": [
      "                   all         84        151      0.887      0.885      0.894      0.811\n"
     ]
    },
    {
     "name": "stderr",
     "output_type": "stream",
     "text": [
      "\n"
     ]
    },
    {
     "name": "stdout",
     "output_type": "stream",
     "text": [
      "\n",
      "      Epoch    GPU_mem   box_loss   cls_loss   dfl_loss  Instances       Size\n"
     ]
    },
    {
     "name": "stderr",
     "output_type": "stream",
     "text": [
      "      44/50      2.36G     0.2485     0.2377      0.813         13        640: 100%|██████████| 57/57 [00:04<00:00, 13.83it/s]\n",
      "                 Class     Images  Instances      Box(P          R      mAP50  mAP50-95): 100%|██████████| 3/3 [00:00<00:00, 11.37it/s]"
     ]
    },
    {
     "name": "stdout",
     "output_type": "stream",
     "text": [
      "                   all         84        151      0.889      0.881      0.889      0.818\n"
     ]
    },
    {
     "name": "stderr",
     "output_type": "stream",
     "text": [
      "\n"
     ]
    },
    {
     "name": "stdout",
     "output_type": "stream",
     "text": [
      "\n",
      "      Epoch    GPU_mem   box_loss   cls_loss   dfl_loss  Instances       Size\n"
     ]
    },
    {
     "name": "stderr",
     "output_type": "stream",
     "text": [
      "      45/50      2.36G     0.2359     0.2276     0.8089         16        640: 100%|██████████| 57/57 [00:04<00:00, 13.84it/s]\n",
      "                 Class     Images  Instances      Box(P          R      mAP50  mAP50-95): 100%|██████████| 3/3 [00:00<00:00, 10.88it/s]"
     ]
    },
    {
     "name": "stdout",
     "output_type": "stream",
     "text": [
      "                   all         84        151      0.878      0.881      0.885      0.818\n"
     ]
    },
    {
     "name": "stderr",
     "output_type": "stream",
     "text": [
      "\n"
     ]
    },
    {
     "name": "stdout",
     "output_type": "stream",
     "text": [
      "\n",
      "      Epoch    GPU_mem   box_loss   cls_loss   dfl_loss  Instances       Size\n"
     ]
    },
    {
     "name": "stderr",
     "output_type": "stream",
     "text": [
      "      46/50      2.37G     0.2358     0.2237     0.8111         12        640: 100%|██████████| 57/57 [00:04<00:00, 13.81it/s]\n",
      "                 Class     Images  Instances      Box(P          R      mAP50  mAP50-95): 100%|██████████| 3/3 [00:00<00:00, 11.87it/s]"
     ]
    },
    {
     "name": "stdout",
     "output_type": "stream",
     "text": [
      "                   all         84        151      0.874      0.887      0.889       0.82\n"
     ]
    },
    {
     "name": "stderr",
     "output_type": "stream",
     "text": [
      "\n"
     ]
    },
    {
     "name": "stdout",
     "output_type": "stream",
     "text": [
      "\n",
      "      Epoch    GPU_mem   box_loss   cls_loss   dfl_loss  Instances       Size\n"
     ]
    },
    {
     "name": "stderr",
     "output_type": "stream",
     "text": [
      "      47/50      2.35G     0.2285      0.214     0.8088         12        640: 100%|██████████| 57/57 [00:04<00:00, 13.85it/s]\n",
      "                 Class     Images  Instances      Box(P          R      mAP50  mAP50-95): 100%|██████████| 3/3 [00:00<00:00, 11.74it/s]"
     ]
    },
    {
     "name": "stdout",
     "output_type": "stream",
     "text": [
      "                   all         84        151      0.878      0.887      0.886      0.824\n"
     ]
    },
    {
     "name": "stderr",
     "output_type": "stream",
     "text": [
      "\n"
     ]
    },
    {
     "name": "stdout",
     "output_type": "stream",
     "text": [
      "\n",
      "      Epoch    GPU_mem   box_loss   cls_loss   dfl_loss  Instances       Size\n"
     ]
    },
    {
     "name": "stderr",
     "output_type": "stream",
     "text": [
      "      48/50      2.36G     0.2231     0.2099     0.8082         15        640: 100%|██████████| 57/57 [00:04<00:00, 13.89it/s]\n",
      "                 Class     Images  Instances      Box(P          R      mAP50  mAP50-95): 100%|██████████| 3/3 [00:00<00:00, 11.80it/s]"
     ]
    },
    {
     "name": "stdout",
     "output_type": "stream",
     "text": [
      "                   all         84        151      0.873      0.868      0.885      0.809\n"
     ]
    },
    {
     "name": "stderr",
     "output_type": "stream",
     "text": [
      "\n"
     ]
    },
    {
     "name": "stdout",
     "output_type": "stream",
     "text": [
      "\n",
      "      Epoch    GPU_mem   box_loss   cls_loss   dfl_loss  Instances       Size\n"
     ]
    },
    {
     "name": "stderr",
     "output_type": "stream",
     "text": [
      "      49/50      2.36G     0.2187     0.2131     0.8099         10        640: 100%|██████████| 57/57 [00:04<00:00, 13.89it/s]\n",
      "                 Class     Images  Instances      Box(P          R      mAP50  mAP50-95): 100%|██████████| 3/3 [00:00<00:00, 11.71it/s]"
     ]
    },
    {
     "name": "stdout",
     "output_type": "stream",
     "text": [
      "                   all         84        151      0.855      0.897       0.89      0.824\n"
     ]
    },
    {
     "name": "stderr",
     "output_type": "stream",
     "text": [
      "\n"
     ]
    },
    {
     "name": "stdout",
     "output_type": "stream",
     "text": [
      "\n",
      "      Epoch    GPU_mem   box_loss   cls_loss   dfl_loss  Instances       Size\n"
     ]
    },
    {
     "name": "stderr",
     "output_type": "stream",
     "text": [
      "      50/50      2.36G     0.2174     0.2014     0.8001         12        640: 100%|██████████| 57/57 [00:04<00:00, 13.80it/s]\n",
      "                 Class     Images  Instances      Box(P          R      mAP50  mAP50-95): 100%|██████████| 3/3 [00:00<00:00, 11.78it/s]"
     ]
    },
    {
     "name": "stdout",
     "output_type": "stream",
     "text": [
      "                   all         84        151      0.901      0.847       0.89      0.822\n"
     ]
    },
    {
     "name": "stderr",
     "output_type": "stream",
     "text": [
      "\n"
     ]
    },
    {
     "name": "stdout",
     "output_type": "stream",
     "text": [
      "\n",
      "50 epochs completed in 0.072 hours.\n",
      "Optimizer stripped from /users/eleves-a/2022/amine.chraibi/AI-Deadlift-Analysis/runs/detect/train4/weights/last.pt, 5.5MB\n",
      "Optimizer stripped from /users/eleves-a/2022/amine.chraibi/AI-Deadlift-Analysis/runs/detect/train4/weights/best.pt, 5.5MB\n",
      "\n",
      "Validating /users/eleves-a/2022/amine.chraibi/AI-Deadlift-Analysis/runs/detect/train4/weights/best.pt...\n",
      "Ultralytics 8.3.34 🚀 Python-3.9.19 torch-2.5.1+cu124 CUDA:0 (NVIDIA RTX A5000, 24219MiB)\n",
      "YOLO11n summary (fused): 238 layers, 2,582,347 parameters, 0 gradients, 6.3 GFLOPs\n"
     ]
    },
    {
     "name": "stderr",
     "output_type": "stream",
     "text": [
      "                 Class     Images  Instances      Box(P          R      mAP50  mAP50-95): 100%|██████████| 3/3 [00:00<00:00,  6.53it/s]\n"
     ]
    },
    {
     "name": "stdout",
     "output_type": "stream",
     "text": [
      "                   all         84        151      0.883      0.852      0.896      0.824\n",
      "Speed: 0.7ms preprocess, 0.8ms inference, 0.0ms loss, 0.5ms postprocess per image\n",
      "Results saved to \u001b[1m/users/eleves-a/2022/amine.chraibi/AI-Deadlift-Analysis/runs/detect/train4\u001b[0m\n"
     ]
    },
    {
     "data": {
      "text/plain": [
       "ultralytics.utils.metrics.DetMetrics object with attributes:\n",
       "\n",
       "ap_class_index: array([0])\n",
       "box: ultralytics.utils.metrics.Metric object\n",
       "confusion_matrix: <ultralytics.utils.metrics.ConfusionMatrix object at 0x7fe77994c1f0>\n",
       "curves: ['Precision-Recall(B)', 'F1-Confidence(B)', 'Precision-Confidence(B)', 'Recall-Confidence(B)']\n",
       "curves_results: [[array([          0,    0.001001,    0.002002,    0.003003,    0.004004,    0.005005,    0.006006,    0.007007,    0.008008,    0.009009,     0.01001,    0.011011,    0.012012,    0.013013,    0.014014,    0.015015,    0.016016,    0.017017,    0.018018,    0.019019,     0.02002,    0.021021,    0.022022,    0.023023,\n",
       "          0.024024,    0.025025,    0.026026,    0.027027,    0.028028,    0.029029,     0.03003,    0.031031,    0.032032,    0.033033,    0.034034,    0.035035,    0.036036,    0.037037,    0.038038,    0.039039,     0.04004,    0.041041,    0.042042,    0.043043,    0.044044,    0.045045,    0.046046,    0.047047,\n",
       "          0.048048,    0.049049,     0.05005,    0.051051,    0.052052,    0.053053,    0.054054,    0.055055,    0.056056,    0.057057,    0.058058,    0.059059,     0.06006,    0.061061,    0.062062,    0.063063,    0.064064,    0.065065,    0.066066,    0.067067,    0.068068,    0.069069,     0.07007,    0.071071,\n",
       "          0.072072,    0.073073,    0.074074,    0.075075,    0.076076,    0.077077,    0.078078,    0.079079,     0.08008,    0.081081,    0.082082,    0.083083,    0.084084,    0.085085,    0.086086,    0.087087,    0.088088,    0.089089,     0.09009,    0.091091,    0.092092,    0.093093,    0.094094,    0.095095,\n",
       "          0.096096,    0.097097,    0.098098,    0.099099,      0.1001,      0.1011,      0.1021,      0.1031,      0.1041,     0.10511,     0.10611,     0.10711,     0.10811,     0.10911,     0.11011,     0.11111,     0.11211,     0.11311,     0.11411,     0.11512,     0.11612,     0.11712,     0.11812,     0.11912,\n",
       "           0.12012,     0.12112,     0.12212,     0.12312,     0.12412,     0.12513,     0.12613,     0.12713,     0.12813,     0.12913,     0.13013,     0.13113,     0.13213,     0.13313,     0.13413,     0.13514,     0.13614,     0.13714,     0.13814,     0.13914,     0.14014,     0.14114,     0.14214,     0.14314,\n",
       "           0.14414,     0.14515,     0.14615,     0.14715,     0.14815,     0.14915,     0.15015,     0.15115,     0.15215,     0.15315,     0.15415,     0.15516,     0.15616,     0.15716,     0.15816,     0.15916,     0.16016,     0.16116,     0.16216,     0.16316,     0.16416,     0.16517,     0.16617,     0.16717,\n",
       "           0.16817,     0.16917,     0.17017,     0.17117,     0.17217,     0.17317,     0.17417,     0.17518,     0.17618,     0.17718,     0.17818,     0.17918,     0.18018,     0.18118,     0.18218,     0.18318,     0.18418,     0.18519,     0.18619,     0.18719,     0.18819,     0.18919,     0.19019,     0.19119,\n",
       "           0.19219,     0.19319,     0.19419,      0.1952,      0.1962,      0.1972,      0.1982,      0.1992,      0.2002,      0.2012,      0.2022,      0.2032,      0.2042,     0.20521,     0.20621,     0.20721,     0.20821,     0.20921,     0.21021,     0.21121,     0.21221,     0.21321,     0.21421,     0.21522,\n",
       "           0.21622,     0.21722,     0.21822,     0.21922,     0.22022,     0.22122,     0.22222,     0.22322,     0.22422,     0.22523,     0.22623,     0.22723,     0.22823,     0.22923,     0.23023,     0.23123,     0.23223,     0.23323,     0.23423,     0.23524,     0.23624,     0.23724,     0.23824,     0.23924,\n",
       "           0.24024,     0.24124,     0.24224,     0.24324,     0.24424,     0.24525,     0.24625,     0.24725,     0.24825,     0.24925,     0.25025,     0.25125,     0.25225,     0.25325,     0.25425,     0.25526,     0.25626,     0.25726,     0.25826,     0.25926,     0.26026,     0.26126,     0.26226,     0.26326,\n",
       "           0.26426,     0.26527,     0.26627,     0.26727,     0.26827,     0.26927,     0.27027,     0.27127,     0.27227,     0.27327,     0.27427,     0.27528,     0.27628,     0.27728,     0.27828,     0.27928,     0.28028,     0.28128,     0.28228,     0.28328,     0.28428,     0.28529,     0.28629,     0.28729,\n",
       "           0.28829,     0.28929,     0.29029,     0.29129,     0.29229,     0.29329,     0.29429,      0.2953,      0.2963,      0.2973,      0.2983,      0.2993,      0.3003,      0.3013,      0.3023,      0.3033,      0.3043,     0.30531,     0.30631,     0.30731,     0.30831,     0.30931,     0.31031,     0.31131,\n",
       "           0.31231,     0.31331,     0.31431,     0.31532,     0.31632,     0.31732,     0.31832,     0.31932,     0.32032,     0.32132,     0.32232,     0.32332,     0.32432,     0.32533,     0.32633,     0.32733,     0.32833,     0.32933,     0.33033,     0.33133,     0.33233,     0.33333,     0.33433,     0.33534,\n",
       "           0.33634,     0.33734,     0.33834,     0.33934,     0.34034,     0.34134,     0.34234,     0.34334,     0.34434,     0.34535,     0.34635,     0.34735,     0.34835,     0.34935,     0.35035,     0.35135,     0.35235,     0.35335,     0.35435,     0.35536,     0.35636,     0.35736,     0.35836,     0.35936,\n",
       "           0.36036,     0.36136,     0.36236,     0.36336,     0.36436,     0.36537,     0.36637,     0.36737,     0.36837,     0.36937,     0.37037,     0.37137,     0.37237,     0.37337,     0.37437,     0.37538,     0.37638,     0.37738,     0.37838,     0.37938,     0.38038,     0.38138,     0.38238,     0.38338,\n",
       "           0.38438,     0.38539,     0.38639,     0.38739,     0.38839,     0.38939,     0.39039,     0.39139,     0.39239,     0.39339,     0.39439,      0.3954,      0.3964,      0.3974,      0.3984,      0.3994,      0.4004,      0.4014,      0.4024,      0.4034,      0.4044,     0.40541,     0.40641,     0.40741,\n",
       "           0.40841,     0.40941,     0.41041,     0.41141,     0.41241,     0.41341,     0.41441,     0.41542,     0.41642,     0.41742,     0.41842,     0.41942,     0.42042,     0.42142,     0.42242,     0.42342,     0.42442,     0.42543,     0.42643,     0.42743,     0.42843,     0.42943,     0.43043,     0.43143,\n",
       "           0.43243,     0.43343,     0.43443,     0.43544,     0.43644,     0.43744,     0.43844,     0.43944,     0.44044,     0.44144,     0.44244,     0.44344,     0.44444,     0.44545,     0.44645,     0.44745,     0.44845,     0.44945,     0.45045,     0.45145,     0.45245,     0.45345,     0.45445,     0.45546,\n",
       "           0.45646,     0.45746,     0.45846,     0.45946,     0.46046,     0.46146,     0.46246,     0.46346,     0.46446,     0.46547,     0.46647,     0.46747,     0.46847,     0.46947,     0.47047,     0.47147,     0.47247,     0.47347,     0.47447,     0.47548,     0.47648,     0.47748,     0.47848,     0.47948,\n",
       "           0.48048,     0.48148,     0.48248,     0.48348,     0.48448,     0.48549,     0.48649,     0.48749,     0.48849,     0.48949,     0.49049,     0.49149,     0.49249,     0.49349,     0.49449,      0.4955,      0.4965,      0.4975,      0.4985,      0.4995,      0.5005,      0.5015,      0.5025,      0.5035,\n",
       "            0.5045,     0.50551,     0.50651,     0.50751,     0.50851,     0.50951,     0.51051,     0.51151,     0.51251,     0.51351,     0.51451,     0.51552,     0.51652,     0.51752,     0.51852,     0.51952,     0.52052,     0.52152,     0.52252,     0.52352,     0.52452,     0.52553,     0.52653,     0.52753,\n",
       "           0.52853,     0.52953,     0.53053,     0.53153,     0.53253,     0.53353,     0.53453,     0.53554,     0.53654,     0.53754,     0.53854,     0.53954,     0.54054,     0.54154,     0.54254,     0.54354,     0.54454,     0.54555,     0.54655,     0.54755,     0.54855,     0.54955,     0.55055,     0.55155,\n",
       "           0.55255,     0.55355,     0.55455,     0.55556,     0.55656,     0.55756,     0.55856,     0.55956,     0.56056,     0.56156,     0.56256,     0.56356,     0.56456,     0.56557,     0.56657,     0.56757,     0.56857,     0.56957,     0.57057,     0.57157,     0.57257,     0.57357,     0.57457,     0.57558,\n",
       "           0.57658,     0.57758,     0.57858,     0.57958,     0.58058,     0.58158,     0.58258,     0.58358,     0.58458,     0.58559,     0.58659,     0.58759,     0.58859,     0.58959,     0.59059,     0.59159,     0.59259,     0.59359,     0.59459,      0.5956,      0.5966,      0.5976,      0.5986,      0.5996,\n",
       "            0.6006,      0.6016,      0.6026,      0.6036,      0.6046,     0.60561,     0.60661,     0.60761,     0.60861,     0.60961,     0.61061,     0.61161,     0.61261,     0.61361,     0.61461,     0.61562,     0.61662,     0.61762,     0.61862,     0.61962,     0.62062,     0.62162,     0.62262,     0.62362,\n",
       "           0.62462,     0.62563,     0.62663,     0.62763,     0.62863,     0.62963,     0.63063,     0.63163,     0.63263,     0.63363,     0.63463,     0.63564,     0.63664,     0.63764,     0.63864,     0.63964,     0.64064,     0.64164,     0.64264,     0.64364,     0.64464,     0.64565,     0.64665,     0.64765,\n",
       "           0.64865,     0.64965,     0.65065,     0.65165,     0.65265,     0.65365,     0.65465,     0.65566,     0.65666,     0.65766,     0.65866,     0.65966,     0.66066,     0.66166,     0.66266,     0.66366,     0.66466,     0.66567,     0.66667,     0.66767,     0.66867,     0.66967,     0.67067,     0.67167,\n",
       "           0.67267,     0.67367,     0.67467,     0.67568,     0.67668,     0.67768,     0.67868,     0.67968,     0.68068,     0.68168,     0.68268,     0.68368,     0.68468,     0.68569,     0.68669,     0.68769,     0.68869,     0.68969,     0.69069,     0.69169,     0.69269,     0.69369,     0.69469,      0.6957,\n",
       "            0.6967,      0.6977,      0.6987,      0.6997,      0.7007,      0.7017,      0.7027,      0.7037,      0.7047,     0.70571,     0.70671,     0.70771,     0.70871,     0.70971,     0.71071,     0.71171,     0.71271,     0.71371,     0.71471,     0.71572,     0.71672,     0.71772,     0.71872,     0.71972,\n",
       "           0.72072,     0.72172,     0.72272,     0.72372,     0.72472,     0.72573,     0.72673,     0.72773,     0.72873,     0.72973,     0.73073,     0.73173,     0.73273,     0.73373,     0.73473,     0.73574,     0.73674,     0.73774,     0.73874,     0.73974,     0.74074,     0.74174,     0.74274,     0.74374,\n",
       "           0.74474,     0.74575,     0.74675,     0.74775,     0.74875,     0.74975,     0.75075,     0.75175,     0.75275,     0.75375,     0.75475,     0.75576,     0.75676,     0.75776,     0.75876,     0.75976,     0.76076,     0.76176,     0.76276,     0.76376,     0.76476,     0.76577,     0.76677,     0.76777,\n",
       "           0.76877,     0.76977,     0.77077,     0.77177,     0.77277,     0.77377,     0.77477,     0.77578,     0.77678,     0.77778,     0.77878,     0.77978,     0.78078,     0.78178,     0.78278,     0.78378,     0.78478,     0.78579,     0.78679,     0.78779,     0.78879,     0.78979,     0.79079,     0.79179,\n",
       "           0.79279,     0.79379,     0.79479,      0.7958,      0.7968,      0.7978,      0.7988,      0.7998,      0.8008,      0.8018,      0.8028,      0.8038,      0.8048,     0.80581,     0.80681,     0.80781,     0.80881,     0.80981,     0.81081,     0.81181,     0.81281,     0.81381,     0.81481,     0.81582,\n",
       "           0.81682,     0.81782,     0.81882,     0.81982,     0.82082,     0.82182,     0.82282,     0.82382,     0.82482,     0.82583,     0.82683,     0.82783,     0.82883,     0.82983,     0.83083,     0.83183,     0.83283,     0.83383,     0.83483,     0.83584,     0.83684,     0.83784,     0.83884,     0.83984,\n",
       "           0.84084,     0.84184,     0.84284,     0.84384,     0.84484,     0.84585,     0.84685,     0.84785,     0.84885,     0.84985,     0.85085,     0.85185,     0.85285,     0.85385,     0.85485,     0.85586,     0.85686,     0.85786,     0.85886,     0.85986,     0.86086,     0.86186,     0.86286,     0.86386,\n",
       "           0.86486,     0.86587,     0.86687,     0.86787,     0.86887,     0.86987,     0.87087,     0.87187,     0.87287,     0.87387,     0.87487,     0.87588,     0.87688,     0.87788,     0.87888,     0.87988,     0.88088,     0.88188,     0.88288,     0.88388,     0.88488,     0.88589,     0.88689,     0.88789,\n",
       "           0.88889,     0.88989,     0.89089,     0.89189,     0.89289,     0.89389,     0.89489,      0.8959,      0.8969,      0.8979,      0.8989,      0.8999,      0.9009,      0.9019,      0.9029,      0.9039,      0.9049,     0.90591,     0.90691,     0.90791,     0.90891,     0.90991,     0.91091,     0.91191,\n",
       "           0.91291,     0.91391,     0.91491,     0.91592,     0.91692,     0.91792,     0.91892,     0.91992,     0.92092,     0.92192,     0.92292,     0.92392,     0.92492,     0.92593,     0.92693,     0.92793,     0.92893,     0.92993,     0.93093,     0.93193,     0.93293,     0.93393,     0.93493,     0.93594,\n",
       "           0.93694,     0.93794,     0.93894,     0.93994,     0.94094,     0.94194,     0.94294,     0.94394,     0.94494,     0.94595,     0.94695,     0.94795,     0.94895,     0.94995,     0.95095,     0.95195,     0.95295,     0.95395,     0.95495,     0.95596,     0.95696,     0.95796,     0.95896,     0.95996,\n",
       "           0.96096,     0.96196,     0.96296,     0.96396,     0.96496,     0.96597,     0.96697,     0.96797,     0.96897,     0.96997,     0.97097,     0.97197,     0.97297,     0.97397,     0.97497,     0.97598,     0.97698,     0.97798,     0.97898,     0.97998,     0.98098,     0.98198,     0.98298,     0.98398,\n",
       "           0.98498,     0.98599,     0.98699,     0.98799,     0.98899,     0.98999,     0.99099,     0.99199,     0.99299,     0.99399,     0.99499,       0.996,       0.997,       0.998,       0.999,           1]), array([[          1,           1,           1,           1,           1,           1,           1,           1,           1,           1,           1,           1,           1,           1,           1,           1,           1,           1,           1,           1,           1,           1,           1,\n",
       "                  1,           1,           1,           1,           1,           1,           1,           1,           1,           1,           1,           1,           1,           1,           1,           1,           1,           1,           1,           1,           1,           1,           1,\n",
       "                  1,           1,           1,           1,           1,           1,           1,           1,           1,           1,           1,           1,           1,           1,           1,           1,           1,           1,           1,           1,           1,           1,           1,\n",
       "                  1,           1,           1,           1,           1,           1,           1,           1,           1,           1,           1,           1,           1,           1,           1,           1,           1,           1,           1,           1,           1,           1,           1,\n",
       "                  1,           1,           1,           1,           1,           1,           1,           1,           1,           1,           1,           1,           1,           1,           1,           1,           1,           1,           1,           1,           1,           1,           1,\n",
       "                  1,           1,           1,           1,           1,           1,           1,           1,           1,           1,           1,           1,           1,           1,           1,           1,           1,           1,           1,           1,           1,           1,           1,\n",
       "                  1,           1,           1,           1,           1,           1,           1,           1,     0.97368,     0.97368,     0.97368,     0.97368,     0.97368,     0.97368,     0.97368,     0.97368,     0.97368,     0.97368,     0.97368,     0.97368,     0.97368,     0.97368,     0.97368,\n",
       "            0.97368,     0.97368,     0.97368,     0.97368,     0.97368,     0.97368,     0.97368,     0.97368,     0.97368,     0.97368,     0.97368,     0.97368,     0.97368,     0.97368,     0.97368,     0.97368,     0.97368,     0.97368,     0.97368,     0.97368,     0.97368,     0.97368,     0.97368,\n",
       "            0.97368,     0.97368,     0.97368,     0.97368,     0.97368,     0.97368,     0.97368,     0.97368,     0.97368,     0.97368,     0.97368,     0.97368,     0.97368,     0.97368,     0.97368,     0.97368,     0.97368,     0.97368,     0.97368,     0.97368,     0.97368,     0.97368,     0.97368,\n",
       "            0.97368,     0.97368,     0.97368,     0.97368,     0.97368,     0.97368,     0.97368,     0.97368,     0.97368,     0.97368,     0.97368,     0.97368,     0.97368,     0.97368,     0.97368,     0.97368,     0.97368,     0.97368,     0.97368,     0.97368,     0.97368,     0.97368,     0.97368,\n",
       "            0.97368,     0.97368,     0.97368,     0.97368,     0.97368,     0.97368,     0.97368,     0.97368,     0.97368,     0.97368,     0.97368,     0.97368,     0.97368,     0.97368,     0.97368,     0.96364,     0.96364,     0.96364,     0.96364,     0.96364,     0.96364,     0.96364,     0.96364,\n",
       "            0.96364,     0.96364,     0.96364,     0.96364,     0.96364,     0.96364,     0.96364,     0.96364,     0.96364,     0.96364,     0.96364,     0.96364,     0.96364,     0.96364,     0.96364,     0.96364,     0.96364,     0.96364,     0.96364,     0.96364,     0.96364,     0.96364,     0.96364,\n",
       "            0.96364,     0.96364,     0.96364,     0.96364,     0.96364,     0.96364,     0.96364,     0.96364,     0.96364,     0.96364,     0.96364,     0.96364,     0.96364,     0.96364,     0.96364,     0.96364,     0.96364,     0.96364,     0.96364,     0.96364,     0.96364,     0.96364,     0.96364,\n",
       "            0.96364,     0.96364,     0.96364,     0.96364,     0.96364,     0.96364,     0.96364,     0.96364,     0.96364,     0.96364,     0.96364,     0.96364,     0.96364,     0.96364,     0.96364,     0.96364,     0.96364,     0.96364,     0.96364,     0.96364,     0.96364,     0.96364,     0.96364,\n",
       "            0.96364,     0.96364,     0.96364,     0.96364,     0.96364,     0.96364,     0.96364,     0.96364,     0.96364,     0.96364,     0.96364,     0.96364,     0.96364,     0.96364,     0.96364,     0.96364,     0.96364,     0.96364,     0.96364,     0.96364,     0.96364,     0.96364,     0.96364,\n",
       "            0.96364,     0.96364,     0.96364,     0.96364,     0.96364,     0.96364,     0.95876,     0.95876,     0.95876,     0.95876,     0.95876,     0.95876,     0.95876,     0.95876,     0.95876,     0.95876,     0.95876,     0.95876,     0.95876,     0.95876,     0.95876,     0.95876,     0.95876,\n",
       "            0.95876,     0.95876,     0.95876,     0.95876,     0.95876,     0.95876,     0.95876,     0.95876,     0.95876,     0.95876,     0.95876,     0.95876,     0.95876,     0.95876,     0.95876,     0.95876,     0.95876,     0.95876,     0.95876,     0.95876,     0.95876,     0.95876,     0.95876,\n",
       "            0.95876,     0.95876,     0.95876,     0.95876,     0.95876,     0.95876,     0.95876,     0.95876,     0.95876,     0.95876,     0.95876,     0.95876,     0.95876,     0.95876,     0.95876,     0.95876,     0.95876,     0.95876,     0.95876,     0.95876,     0.95876,     0.95876,     0.95876,\n",
       "            0.95876,     0.95876,     0.95876,     0.95876,     0.95876,     0.95876,     0.95876,     0.95876,     0.95876,     0.95876,     0.95876,     0.95876,     0.95876,     0.95876,     0.95876,     0.95876,     0.95876,     0.95876,     0.95876,     0.95876,     0.95876,     0.95876,     0.95876,\n",
       "            0.95876,     0.95876,     0.95876,     0.95876,     0.95876,     0.95876,     0.95876,     0.95876,     0.95876,     0.95876,     0.95876,     0.95876,     0.95876,     0.95876,     0.95876,     0.95876,     0.95876,     0.95876,     0.95876,     0.95876,     0.95876,     0.95876,     0.95876,\n",
       "            0.95876,     0.95876,     0.95876,     0.95876,     0.95876,     0.95876,     0.95876,     0.95876,     0.95876,     0.95876,     0.95876,     0.95876,     0.95876,     0.95876,     0.95876,     0.95876,     0.95876,     0.95876,     0.95876,     0.95876,     0.95876,     0.95876,     0.95876,\n",
       "            0.95876,     0.95876,     0.95876,     0.95876,     0.95876,     0.95876,     0.95876,     0.95876,     0.95876,     0.95876,     0.95876,     0.95876,     0.95876,     0.95876,     0.95876,     0.95876,     0.95876,     0.95876,     0.95876,     0.95876,     0.95876,     0.95876,     0.95876,\n",
       "            0.95876,     0.95876,     0.95876,     0.95876,     0.95876,     0.95876,     0.95876,     0.95876,     0.95876,     0.95876,     0.95876,     0.95876,     0.95876,     0.95876,     0.95876,     0.95876,     0.95876,     0.95876,     0.95876,     0.95876,     0.95876,     0.95876,     0.95876,\n",
       "            0.95876,     0.95876,     0.95876,     0.95876,     0.95876,     0.95876,     0.95876,     0.95876,     0.95876,     0.95876,     0.95876,     0.95876,     0.95876,     0.95876,     0.95876,     0.95876,     0.95876,     0.95876,     0.95876,     0.95876,     0.95876,     0.95876,     0.95876,\n",
       "            0.95876,     0.95876,     0.95876,     0.95876,     0.95876,     0.95876,     0.95876,     0.95876,     0.95876,     0.95876,     0.95876,     0.95876,     0.95876,     0.95876,     0.95876,     0.95876,     0.95876,     0.95876,     0.95876,     0.95876,     0.95876,     0.95876,     0.95876,\n",
       "            0.95876,     0.95876,     0.95876,     0.95876,     0.95876,     0.95876,     0.95876,     0.95876,     0.95876,     0.95876,     0.95876,     0.95876,     0.95876,     0.95876,     0.95876,     0.95876,     0.95876,     0.95876,     0.95876,     0.95876,     0.95876,     0.95876,     0.95876,\n",
       "            0.95876,     0.95876,     0.95876,     0.95876,     0.95876,     0.95876,     0.95876,     0.95876,     0.95876,     0.95876,     0.95876,     0.95876,     0.95876,     0.95876,     0.95876,     0.95876,     0.95876,     0.95876,        0.95,        0.95,        0.95,        0.95,        0.95,\n",
       "               0.95,        0.95,        0.95,        0.95,        0.95,        0.95,        0.95,        0.95,     0.94545,     0.94545,     0.94545,     0.94545,     0.94545,     0.94545,     0.94545,     0.94545,     0.94545,     0.94545,     0.94545,     0.94545,     0.94545,     0.94545,     0.94545,\n",
       "            0.94545,     0.94545,     0.94545,     0.94545,     0.94545,     0.94545,     0.94545,     0.94545,     0.94545,     0.94545,     0.94545,     0.94545,     0.94545,     0.94545,     0.94545,     0.94545,     0.94545,     0.94545,     0.94545,     0.94545,     0.94545,     0.94545,     0.94545,\n",
       "            0.94545,     0.94545,     0.94545,     0.94545,     0.94545,     0.94545,     0.94545,     0.94545,     0.94545,     0.94545,     0.94545,     0.94545,     0.94545,     0.94545,     0.94545,     0.94545,     0.94545,     0.94545,     0.94545,     0.94545,     0.94545,     0.94545,     0.94017,\n",
       "            0.94017,     0.94017,     0.94017,     0.94017,     0.94017,     0.94017,     0.94017,     0.94017,     0.94017,     0.94017,     0.94017,     0.94017,     0.94017,     0.94017,     0.94017,     0.94017,     0.94017,     0.94017,     0.94017,     0.94017,     0.94017,     0.94017,     0.94017,\n",
       "            0.94017,     0.94017,     0.94017,     0.94017,     0.94017,     0.94017,     0.94017,     0.94017,     0.94017,     0.94017,     0.94017,     0.94017,     0.94017,     0.94017,     0.94017,     0.92562,     0.92562,     0.92562,     0.92562,     0.92562,     0.92562,     0.92562,     0.92562,\n",
       "            0.92562,     0.92562,     0.92562,     0.92562,     0.92562,       0.912,       0.912,       0.912,       0.912,       0.912,       0.912,       0.912,       0.912,       0.912,       0.912,       0.912,       0.912,       0.912,       0.912,     0.90076,     0.90076,     0.90076,     0.90076,\n",
       "            0.90076,     0.90076,     0.90076,     0.90076,     0.90076,     0.90076,     0.90076,     0.90076,     0.90076,     0.90076,     0.90076,     0.90076,     0.90076,     0.90076,     0.90076,     0.90076,     0.90076,     0.90076,     0.90076,     0.90076,     0.90076,     0.90076,     0.89706,\n",
       "            0.89706,     0.89706,     0.89706,     0.89706,     0.89706,     0.89706,     0.89706,     0.89706,     0.89706,     0.89706,     0.89706,     0.89706,     0.89706,     0.89706,     0.89706,     0.89706,     0.89706,     0.89706,     0.89706,     0.89706,     0.89706,     0.89706,     0.89706,\n",
       "            0.89706,     0.89706,     0.89706,     0.89286,     0.89286,     0.89286,     0.89286,     0.89286,     0.89286,     0.89286,     0.89286,     0.89286,     0.89286,     0.89286,     0.89286,     0.89286,     0.89286,     0.89286,     0.89286,     0.89286,     0.89286,     0.89286,     0.88732,\n",
       "            0.88732,     0.88732,     0.88732,     0.88732,     0.88732,     0.88732,     0.88356,     0.88356,     0.88356,     0.88356,     0.88356,     0.88356,     0.88356,     0.88356,     0.88356,     0.88356,     0.88356,     0.88356,     0.88356,     0.88356,     0.88356,     0.88356,     0.88356,\n",
       "            0.88356,     0.88356,     0.88356,     0.86755,     0.86755,     0.86755,     0.86755,     0.86755,     0.86755,     0.86755,     0.86755,     0.86755,     0.86755,     0.86755,     0.86755,     0.86755,     0.86275,     0.86275,     0.86275,     0.86275,     0.86275,     0.86275,     0.86275,\n",
       "            0.85806,     0.85806,     0.85806,     0.85806,     0.85806,     0.85806,     0.84375,     0.84375,     0.84375,     0.84375,     0.84375,     0.84375,     0.84375,     0.84375,     0.84375,     0.84375,     0.84375,     0.84375,     0.84375,     0.84375,     0.80473,     0.80473,     0.80473,\n",
       "            0.80473,     0.80473,     0.80473,     0.79651,     0.79651,     0.79651,     0.79651,     0.79651,     0.79651,     0.79651,     0.74194,     0.74194,     0.74194,     0.74194,     0.74194,     0.74194,      0.6619,      0.6619,      0.6619,      0.6619,      0.6619,      0.6619,      0.6619,\n",
       "            0.63348,     0.63348,     0.63348,     0.63348,     0.63348,     0.63348,     0.63348,     0.58264,     0.58264,     0.58264,     0.58264,     0.58264,     0.58264,     0.55469,     0.55469,     0.55469,     0.55469,     0.55469,     0.55469,     0.55469,     0.38133,     0.38133,     0.38133,\n",
       "            0.38133,     0.38133,     0.38133,     0.38133,     0.34435,     0.33773,     0.33111,     0.32448,     0.31786,     0.31124,     0.30462,       0.298,     0.29137,     0.28475,     0.27813,     0.27151,     0.26488,     0.25826,     0.25164,     0.24502,      0.2384,     0.23177,     0.22515,\n",
       "            0.21853,     0.21191,     0.20529,     0.19866,     0.19204,     0.18542,      0.1788,     0.17218,     0.16555,     0.15893,     0.15231,     0.14569,     0.13906,     0.13244,     0.12582,      0.1192,     0.11258,     0.10595,    0.099332,     0.09271,    0.086088,    0.079465,    0.072843,\n",
       "           0.066221,    0.059599,    0.052977,    0.046355,    0.039733,    0.033111,    0.026488,    0.019866,    0.013244,   0.0066221,           0]]), 'Recall', 'Precision'], [array([          0,    0.001001,    0.002002,    0.003003,    0.004004,    0.005005,    0.006006,    0.007007,    0.008008,    0.009009,     0.01001,    0.011011,    0.012012,    0.013013,    0.014014,    0.015015,    0.016016,    0.017017,    0.018018,    0.019019,     0.02002,    0.021021,    0.022022,    0.023023,\n",
       "          0.024024,    0.025025,    0.026026,    0.027027,    0.028028,    0.029029,     0.03003,    0.031031,    0.032032,    0.033033,    0.034034,    0.035035,    0.036036,    0.037037,    0.038038,    0.039039,     0.04004,    0.041041,    0.042042,    0.043043,    0.044044,    0.045045,    0.046046,    0.047047,\n",
       "          0.048048,    0.049049,     0.05005,    0.051051,    0.052052,    0.053053,    0.054054,    0.055055,    0.056056,    0.057057,    0.058058,    0.059059,     0.06006,    0.061061,    0.062062,    0.063063,    0.064064,    0.065065,    0.066066,    0.067067,    0.068068,    0.069069,     0.07007,    0.071071,\n",
       "          0.072072,    0.073073,    0.074074,    0.075075,    0.076076,    0.077077,    0.078078,    0.079079,     0.08008,    0.081081,    0.082082,    0.083083,    0.084084,    0.085085,    0.086086,    0.087087,    0.088088,    0.089089,     0.09009,    0.091091,    0.092092,    0.093093,    0.094094,    0.095095,\n",
       "          0.096096,    0.097097,    0.098098,    0.099099,      0.1001,      0.1011,      0.1021,      0.1031,      0.1041,     0.10511,     0.10611,     0.10711,     0.10811,     0.10911,     0.11011,     0.11111,     0.11211,     0.11311,     0.11411,     0.11512,     0.11612,     0.11712,     0.11812,     0.11912,\n",
       "           0.12012,     0.12112,     0.12212,     0.12312,     0.12412,     0.12513,     0.12613,     0.12713,     0.12813,     0.12913,     0.13013,     0.13113,     0.13213,     0.13313,     0.13413,     0.13514,     0.13614,     0.13714,     0.13814,     0.13914,     0.14014,     0.14114,     0.14214,     0.14314,\n",
       "           0.14414,     0.14515,     0.14615,     0.14715,     0.14815,     0.14915,     0.15015,     0.15115,     0.15215,     0.15315,     0.15415,     0.15516,     0.15616,     0.15716,     0.15816,     0.15916,     0.16016,     0.16116,     0.16216,     0.16316,     0.16416,     0.16517,     0.16617,     0.16717,\n",
       "           0.16817,     0.16917,     0.17017,     0.17117,     0.17217,     0.17317,     0.17417,     0.17518,     0.17618,     0.17718,     0.17818,     0.17918,     0.18018,     0.18118,     0.18218,     0.18318,     0.18418,     0.18519,     0.18619,     0.18719,     0.18819,     0.18919,     0.19019,     0.19119,\n",
       "           0.19219,     0.19319,     0.19419,      0.1952,      0.1962,      0.1972,      0.1982,      0.1992,      0.2002,      0.2012,      0.2022,      0.2032,      0.2042,     0.20521,     0.20621,     0.20721,     0.20821,     0.20921,     0.21021,     0.21121,     0.21221,     0.21321,     0.21421,     0.21522,\n",
       "           0.21622,     0.21722,     0.21822,     0.21922,     0.22022,     0.22122,     0.22222,     0.22322,     0.22422,     0.22523,     0.22623,     0.22723,     0.22823,     0.22923,     0.23023,     0.23123,     0.23223,     0.23323,     0.23423,     0.23524,     0.23624,     0.23724,     0.23824,     0.23924,\n",
       "           0.24024,     0.24124,     0.24224,     0.24324,     0.24424,     0.24525,     0.24625,     0.24725,     0.24825,     0.24925,     0.25025,     0.25125,     0.25225,     0.25325,     0.25425,     0.25526,     0.25626,     0.25726,     0.25826,     0.25926,     0.26026,     0.26126,     0.26226,     0.26326,\n",
       "           0.26426,     0.26527,     0.26627,     0.26727,     0.26827,     0.26927,     0.27027,     0.27127,     0.27227,     0.27327,     0.27427,     0.27528,     0.27628,     0.27728,     0.27828,     0.27928,     0.28028,     0.28128,     0.28228,     0.28328,     0.28428,     0.28529,     0.28629,     0.28729,\n",
       "           0.28829,     0.28929,     0.29029,     0.29129,     0.29229,     0.29329,     0.29429,      0.2953,      0.2963,      0.2973,      0.2983,      0.2993,      0.3003,      0.3013,      0.3023,      0.3033,      0.3043,     0.30531,     0.30631,     0.30731,     0.30831,     0.30931,     0.31031,     0.31131,\n",
       "           0.31231,     0.31331,     0.31431,     0.31532,     0.31632,     0.31732,     0.31832,     0.31932,     0.32032,     0.32132,     0.32232,     0.32332,     0.32432,     0.32533,     0.32633,     0.32733,     0.32833,     0.32933,     0.33033,     0.33133,     0.33233,     0.33333,     0.33433,     0.33534,\n",
       "           0.33634,     0.33734,     0.33834,     0.33934,     0.34034,     0.34134,     0.34234,     0.34334,     0.34434,     0.34535,     0.34635,     0.34735,     0.34835,     0.34935,     0.35035,     0.35135,     0.35235,     0.35335,     0.35435,     0.35536,     0.35636,     0.35736,     0.35836,     0.35936,\n",
       "           0.36036,     0.36136,     0.36236,     0.36336,     0.36436,     0.36537,     0.36637,     0.36737,     0.36837,     0.36937,     0.37037,     0.37137,     0.37237,     0.37337,     0.37437,     0.37538,     0.37638,     0.37738,     0.37838,     0.37938,     0.38038,     0.38138,     0.38238,     0.38338,\n",
       "           0.38438,     0.38539,     0.38639,     0.38739,     0.38839,     0.38939,     0.39039,     0.39139,     0.39239,     0.39339,     0.39439,      0.3954,      0.3964,      0.3974,      0.3984,      0.3994,      0.4004,      0.4014,      0.4024,      0.4034,      0.4044,     0.40541,     0.40641,     0.40741,\n",
       "           0.40841,     0.40941,     0.41041,     0.41141,     0.41241,     0.41341,     0.41441,     0.41542,     0.41642,     0.41742,     0.41842,     0.41942,     0.42042,     0.42142,     0.42242,     0.42342,     0.42442,     0.42543,     0.42643,     0.42743,     0.42843,     0.42943,     0.43043,     0.43143,\n",
       "           0.43243,     0.43343,     0.43443,     0.43544,     0.43644,     0.43744,     0.43844,     0.43944,     0.44044,     0.44144,     0.44244,     0.44344,     0.44444,     0.44545,     0.44645,     0.44745,     0.44845,     0.44945,     0.45045,     0.45145,     0.45245,     0.45345,     0.45445,     0.45546,\n",
       "           0.45646,     0.45746,     0.45846,     0.45946,     0.46046,     0.46146,     0.46246,     0.46346,     0.46446,     0.46547,     0.46647,     0.46747,     0.46847,     0.46947,     0.47047,     0.47147,     0.47247,     0.47347,     0.47447,     0.47548,     0.47648,     0.47748,     0.47848,     0.47948,\n",
       "           0.48048,     0.48148,     0.48248,     0.48348,     0.48448,     0.48549,     0.48649,     0.48749,     0.48849,     0.48949,     0.49049,     0.49149,     0.49249,     0.49349,     0.49449,      0.4955,      0.4965,      0.4975,      0.4985,      0.4995,      0.5005,      0.5015,      0.5025,      0.5035,\n",
       "            0.5045,     0.50551,     0.50651,     0.50751,     0.50851,     0.50951,     0.51051,     0.51151,     0.51251,     0.51351,     0.51451,     0.51552,     0.51652,     0.51752,     0.51852,     0.51952,     0.52052,     0.52152,     0.52252,     0.52352,     0.52452,     0.52553,     0.52653,     0.52753,\n",
       "           0.52853,     0.52953,     0.53053,     0.53153,     0.53253,     0.53353,     0.53453,     0.53554,     0.53654,     0.53754,     0.53854,     0.53954,     0.54054,     0.54154,     0.54254,     0.54354,     0.54454,     0.54555,     0.54655,     0.54755,     0.54855,     0.54955,     0.55055,     0.55155,\n",
       "           0.55255,     0.55355,     0.55455,     0.55556,     0.55656,     0.55756,     0.55856,     0.55956,     0.56056,     0.56156,     0.56256,     0.56356,     0.56456,     0.56557,     0.56657,     0.56757,     0.56857,     0.56957,     0.57057,     0.57157,     0.57257,     0.57357,     0.57457,     0.57558,\n",
       "           0.57658,     0.57758,     0.57858,     0.57958,     0.58058,     0.58158,     0.58258,     0.58358,     0.58458,     0.58559,     0.58659,     0.58759,     0.58859,     0.58959,     0.59059,     0.59159,     0.59259,     0.59359,     0.59459,      0.5956,      0.5966,      0.5976,      0.5986,      0.5996,\n",
       "            0.6006,      0.6016,      0.6026,      0.6036,      0.6046,     0.60561,     0.60661,     0.60761,     0.60861,     0.60961,     0.61061,     0.61161,     0.61261,     0.61361,     0.61461,     0.61562,     0.61662,     0.61762,     0.61862,     0.61962,     0.62062,     0.62162,     0.62262,     0.62362,\n",
       "           0.62462,     0.62563,     0.62663,     0.62763,     0.62863,     0.62963,     0.63063,     0.63163,     0.63263,     0.63363,     0.63463,     0.63564,     0.63664,     0.63764,     0.63864,     0.63964,     0.64064,     0.64164,     0.64264,     0.64364,     0.64464,     0.64565,     0.64665,     0.64765,\n",
       "           0.64865,     0.64965,     0.65065,     0.65165,     0.65265,     0.65365,     0.65465,     0.65566,     0.65666,     0.65766,     0.65866,     0.65966,     0.66066,     0.66166,     0.66266,     0.66366,     0.66466,     0.66567,     0.66667,     0.66767,     0.66867,     0.66967,     0.67067,     0.67167,\n",
       "           0.67267,     0.67367,     0.67467,     0.67568,     0.67668,     0.67768,     0.67868,     0.67968,     0.68068,     0.68168,     0.68268,     0.68368,     0.68468,     0.68569,     0.68669,     0.68769,     0.68869,     0.68969,     0.69069,     0.69169,     0.69269,     0.69369,     0.69469,      0.6957,\n",
       "            0.6967,      0.6977,      0.6987,      0.6997,      0.7007,      0.7017,      0.7027,      0.7037,      0.7047,     0.70571,     0.70671,     0.70771,     0.70871,     0.70971,     0.71071,     0.71171,     0.71271,     0.71371,     0.71471,     0.71572,     0.71672,     0.71772,     0.71872,     0.71972,\n",
       "           0.72072,     0.72172,     0.72272,     0.72372,     0.72472,     0.72573,     0.72673,     0.72773,     0.72873,     0.72973,     0.73073,     0.73173,     0.73273,     0.73373,     0.73473,     0.73574,     0.73674,     0.73774,     0.73874,     0.73974,     0.74074,     0.74174,     0.74274,     0.74374,\n",
       "           0.74474,     0.74575,     0.74675,     0.74775,     0.74875,     0.74975,     0.75075,     0.75175,     0.75275,     0.75375,     0.75475,     0.75576,     0.75676,     0.75776,     0.75876,     0.75976,     0.76076,     0.76176,     0.76276,     0.76376,     0.76476,     0.76577,     0.76677,     0.76777,\n",
       "           0.76877,     0.76977,     0.77077,     0.77177,     0.77277,     0.77377,     0.77477,     0.77578,     0.77678,     0.77778,     0.77878,     0.77978,     0.78078,     0.78178,     0.78278,     0.78378,     0.78478,     0.78579,     0.78679,     0.78779,     0.78879,     0.78979,     0.79079,     0.79179,\n",
       "           0.79279,     0.79379,     0.79479,      0.7958,      0.7968,      0.7978,      0.7988,      0.7998,      0.8008,      0.8018,      0.8028,      0.8038,      0.8048,     0.80581,     0.80681,     0.80781,     0.80881,     0.80981,     0.81081,     0.81181,     0.81281,     0.81381,     0.81481,     0.81582,\n",
       "           0.81682,     0.81782,     0.81882,     0.81982,     0.82082,     0.82182,     0.82282,     0.82382,     0.82482,     0.82583,     0.82683,     0.82783,     0.82883,     0.82983,     0.83083,     0.83183,     0.83283,     0.83383,     0.83483,     0.83584,     0.83684,     0.83784,     0.83884,     0.83984,\n",
       "           0.84084,     0.84184,     0.84284,     0.84384,     0.84484,     0.84585,     0.84685,     0.84785,     0.84885,     0.84985,     0.85085,     0.85185,     0.85285,     0.85385,     0.85485,     0.85586,     0.85686,     0.85786,     0.85886,     0.85986,     0.86086,     0.86186,     0.86286,     0.86386,\n",
       "           0.86486,     0.86587,     0.86687,     0.86787,     0.86887,     0.86987,     0.87087,     0.87187,     0.87287,     0.87387,     0.87487,     0.87588,     0.87688,     0.87788,     0.87888,     0.87988,     0.88088,     0.88188,     0.88288,     0.88388,     0.88488,     0.88589,     0.88689,     0.88789,\n",
       "           0.88889,     0.88989,     0.89089,     0.89189,     0.89289,     0.89389,     0.89489,      0.8959,      0.8969,      0.8979,      0.8989,      0.8999,      0.9009,      0.9019,      0.9029,      0.9039,      0.9049,     0.90591,     0.90691,     0.90791,     0.90891,     0.90991,     0.91091,     0.91191,\n",
       "           0.91291,     0.91391,     0.91491,     0.91592,     0.91692,     0.91792,     0.91892,     0.91992,     0.92092,     0.92192,     0.92292,     0.92392,     0.92492,     0.92593,     0.92693,     0.92793,     0.92893,     0.92993,     0.93093,     0.93193,     0.93293,     0.93393,     0.93493,     0.93594,\n",
       "           0.93694,     0.93794,     0.93894,     0.93994,     0.94094,     0.94194,     0.94294,     0.94394,     0.94494,     0.94595,     0.94695,     0.94795,     0.94895,     0.94995,     0.95095,     0.95195,     0.95295,     0.95395,     0.95495,     0.95596,     0.95696,     0.95796,     0.95896,     0.95996,\n",
       "           0.96096,     0.96196,     0.96296,     0.96396,     0.96496,     0.96597,     0.96697,     0.96797,     0.96897,     0.96997,     0.97097,     0.97197,     0.97297,     0.97397,     0.97497,     0.97598,     0.97698,     0.97798,     0.97898,     0.97998,     0.98098,     0.98198,     0.98298,     0.98398,\n",
       "           0.98498,     0.98599,     0.98699,     0.98799,     0.98899,     0.98999,     0.99099,     0.99199,     0.99299,     0.99399,     0.99499,       0.996,       0.997,       0.998,       0.999,           1]), array([[    0.51163,     0.51163,     0.63059,     0.68104,      0.7166,     0.73604,     0.75019,     0.75709,     0.76844,     0.77372,      0.7771,     0.79288,     0.79986,     0.80709,     0.80758,     0.80807,     0.80856,     0.80904,     0.80991,     0.81164,     0.81327,     0.81509,     0.81686,\n",
       "            0.81791,     0.81897,     0.81575,     0.81775,     0.82136,     0.82283,     0.82377,      0.8247,     0.82561,     0.82646,     0.82731,     0.82788,     0.82807,     0.82825,     0.82844,     0.82863,     0.82882,     0.82901,      0.8292,     0.82939,     0.82958,     0.82976,     0.82995,\n",
       "            0.83014,      0.8306,     0.83267,      0.8405,     0.84134,     0.84218,     0.84302,     0.84785,     0.84524,     0.84594,     0.84664,     0.84734,     0.84981,       0.847,     0.84821,     0.84912,     0.84935,     0.84957,     0.84979,     0.85001,     0.85023,     0.85045,     0.85067,\n",
       "             0.8509,     0.85112,     0.85134,     0.85156,      0.8518,     0.85213,     0.85246,     0.85279,     0.85312,     0.85345,     0.85378,     0.85411,     0.85447,     0.85586,     0.85715,     0.85728,      0.8574,     0.85752,     0.85765,     0.85777,     0.85789,     0.85801,     0.85814,\n",
       "            0.85826,     0.85838,     0.85851,     0.85863,     0.85875,     0.85888,       0.859,     0.85912,     0.85924,     0.85937,     0.85949,     0.85961,     0.85974,     0.85986,     0.86108,     0.86244,     0.86286,     0.86314,     0.86342,      0.8637,     0.86398,     0.86425,     0.86453,\n",
       "            0.86481,     0.86509,     0.86537,     0.86571,     0.86605,      0.8664,     0.86675,     0.86709,     0.86744,     0.86778,     0.86813,     0.86685,     0.86535,     0.86427,     0.86371,     0.86316,      0.8626,     0.86204,     0.86148,     0.86092,     0.86103,     0.86126,     0.86148,\n",
       "             0.8617,     0.86192,     0.86215,     0.86237,     0.86259,     0.86281,     0.86304,     0.86326,     0.86348,      0.8639,     0.86479,     0.86568,     0.86658,     0.86759,      0.8686,     0.86923,     0.86907,      0.8689,     0.86874,     0.86858,     0.86841,     0.86825,     0.86809,\n",
       "            0.86792,     0.86776,      0.8676,     0.86743,     0.86727,     0.86711,     0.86694,     0.86678,     0.86662,     0.86645,     0.86629,     0.86612,     0.86596,      0.8658,     0.86563,     0.86611,     0.86694,     0.86778,     0.86814,     0.86686,     0.86559,     0.86476,     0.86502,\n",
       "            0.86527,     0.86553,     0.86579,     0.86604,      0.8663,     0.86655,     0.86681,     0.86706,     0.86732,     0.86707,     0.86088,     0.86013,     0.86027,     0.86042,     0.86057,     0.86071,     0.86086,     0.86101,     0.86115,      0.8613,     0.86145,     0.86159,     0.86174,\n",
       "            0.86189,     0.86203,     0.86218,     0.86232,     0.86247,     0.86262,     0.86276,     0.86291,     0.86304,     0.86317,     0.86331,     0.86344,     0.86357,      0.8637,     0.86384,     0.86397,      0.8641,     0.86424,     0.86437,      0.8645,     0.86463,     0.86477,      0.8649,\n",
       "            0.86503,     0.86516,      0.8653,     0.86543,     0.86556,     0.86569,     0.86584,     0.86603,     0.86621,      0.8664,     0.86658,     0.86677,     0.86695,     0.86713,     0.86732,      0.8675,     0.86769,     0.86787,     0.86805,     0.86824,     0.86842,      0.8686,     0.86865,\n",
       "            0.86857,     0.86849,     0.86842,     0.86834,     0.86827,     0.86819,     0.86811,     0.86804,     0.86796,     0.86789,     0.86781,     0.86773,     0.86766,     0.86758,     0.86751,     0.86743,     0.86735,     0.86728,      0.8672,     0.86713,     0.86705,     0.86697,      0.8669,\n",
       "            0.86682,     0.86675,     0.86667,     0.86659,     0.86652,     0.86644,     0.86637,     0.86629,     0.86621,     0.86614,     0.86606,     0.86599,     0.86591,     0.86583,     0.86576,     0.86568,      0.8656,     0.86553,     0.86545,     0.86538,      0.8653,     0.86522,     0.86515,\n",
       "            0.86507,     0.86499,     0.86492,     0.86484,     0.86474,     0.86464,     0.86454,     0.86444,     0.86434,     0.86424,     0.86414,     0.86404,     0.86394,     0.86384,     0.86375,     0.86365,     0.86355,     0.86345,     0.86335,     0.86325,     0.86315,     0.86305,     0.86295,\n",
       "            0.86285,     0.86275,     0.86265,     0.86256,     0.86246,     0.86236,     0.86226,     0.86216,     0.86206,     0.86196,     0.86186,     0.86176,     0.86166,     0.86156,     0.86146,     0.86136,     0.86126,     0.86116,     0.86106,     0.86099,     0.86093,     0.86087,     0.86081,\n",
       "            0.86075,     0.86069,     0.86063,     0.86057,     0.86051,     0.86045,     0.86039,     0.86033,     0.86027,     0.86021,     0.86015,     0.86009,     0.86003,     0.85997,     0.85991,     0.85985,     0.85979,     0.85973,     0.85967,     0.85961,     0.85955,     0.85949,     0.85943,\n",
       "            0.85937,     0.85931,     0.85925,     0.85919,     0.85913,     0.85907,     0.85901,     0.85895,     0.85889,     0.85883,     0.85877,     0.85871,     0.85865,     0.85859,     0.85853,     0.85847,     0.85841,     0.85835,     0.85829,     0.85823,     0.85817,     0.85811,     0.85805,\n",
       "            0.85799,     0.85793,     0.85787,     0.85781,     0.85775,     0.85769,     0.85763,     0.85757,     0.85751,     0.85745,     0.85739,     0.85733,     0.85727,     0.85721,     0.85715,     0.85719,     0.85724,     0.85729,     0.85734,     0.85739,     0.85744,     0.85749,     0.85754,\n",
       "            0.85759,     0.85764,     0.85769,     0.85774,     0.85779,     0.85784,     0.85789,     0.85794,     0.85799,     0.85804,     0.85809,     0.85814,     0.85819,     0.85824,     0.85829,     0.85834,     0.85839,     0.85844,     0.85849,     0.85855,      0.8586,     0.85865,      0.8587,\n",
       "            0.85875,      0.8588,     0.85885,      0.8589,     0.85895,       0.859,     0.85905,      0.8591,     0.85915,      0.8592,     0.85925,      0.8593,     0.85935,      0.8594,     0.85945,      0.8595,     0.85955,      0.8596,     0.85965,      0.8597,     0.85975,      0.8598,     0.85985,\n",
       "             0.8599,     0.85995,        0.86,     0.86005,     0.86001,      0.8599,      0.8598,     0.85969,     0.85959,     0.85948,     0.85938,     0.85927,     0.85916,     0.85906,     0.85895,     0.85885,     0.85874,     0.85864,     0.85853,     0.85843,     0.85832,     0.85822,     0.85811,\n",
       "            0.85801,      0.8579,      0.8578,     0.85769,     0.85759,     0.85748,     0.85738,     0.85727,     0.85716,     0.85706,     0.85695,     0.85685,     0.85674,     0.85664,     0.85653,     0.85643,     0.85632,     0.85621,     0.85669,      0.8577,      0.8587,       0.859,     0.85881,\n",
       "            0.85863,     0.85845,     0.85827,     0.85808,      0.8579,     0.85772,     0.85753,     0.85735,     0.85717,     0.85698,      0.8568,     0.85662,     0.85643,     0.85625,     0.85607,     0.85588,      0.8557,     0.85552,     0.85533,     0.85511,     0.85466,     0.85421,     0.85376,\n",
       "            0.85331,     0.85286,     0.85241,     0.85196,      0.8515,      0.8512,     0.85117,     0.85113,      0.8511,     0.85107,     0.85103,       0.851,     0.85097,     0.85093,      0.8509,     0.85086,     0.85083,      0.8508,     0.85076,     0.85073,      0.8507,     0.85066,     0.85063,\n",
       "             0.8506,     0.85056,     0.85053,      0.8505,     0.85046,     0.85043,      0.8504,     0.85036,     0.85033,      0.8503,     0.85026,     0.85023,      0.8502,     0.85016,     0.85013,      0.8501,     0.85006,     0.85003,        0.85,     0.84996,     0.84993,     0.84989,     0.84986,\n",
       "            0.84983,     0.84979,     0.84976,     0.84973,     0.84969,     0.84966,     0.84963,     0.84959,     0.84956,     0.84953,     0.84949,     0.84946,     0.84943,     0.84939,     0.84936,     0.84933,     0.84929,     0.84926,     0.84922,     0.84919,     0.84916,     0.84912,     0.84909,\n",
       "            0.84906,     0.84902,     0.84899,     0.84896,     0.84892,     0.84889,     0.84886,     0.84882,     0.84879,     0.84876,     0.84872,     0.84869,     0.84865,     0.84862,     0.84859,     0.84855,     0.84852,     0.84849,     0.84845,     0.84842,     0.84839,     0.84835,     0.84832,\n",
       "            0.84829,     0.84825,     0.84822,     0.84819,     0.84815,     0.84812,     0.84808,     0.84805,     0.84802,     0.84798,     0.84795,     0.84792,     0.84788,     0.84785,     0.84782,     0.84778,     0.84775,     0.84771,     0.84768,     0.84765,     0.84761,     0.84758,     0.84755,\n",
       "            0.84751,     0.84748,     0.84745,     0.84741,     0.84738,     0.84735,     0.84731,     0.84728,     0.84724,      0.8479,     0.84991,     0.85014,      0.8501,     0.85006,     0.85001,     0.84997,     0.84993,     0.84989,     0.84985,     0.84981,     0.84977,     0.84973,     0.84968,\n",
       "            0.84964,      0.8496,     0.84956,     0.84952,     0.84948,     0.84944,     0.84939,     0.84935,     0.84931,     0.84927,     0.84923,     0.84919,     0.84915,     0.84911,     0.84906,     0.84902,     0.84898,     0.84894,      0.8489,     0.84886,     0.84882,     0.84877,     0.84873,\n",
       "            0.84869,     0.84865,     0.84861,     0.84857,     0.84853,     0.84848,     0.84844,      0.8484,     0.84836,     0.84832,     0.84828,     0.84824,     0.84819,     0.84815,     0.84811,     0.84807,     0.84803,     0.84799,     0.84795,      0.8479,     0.84786,     0.84782,     0.84778,\n",
       "            0.84774,      0.8477,     0.84766,     0.84761,     0.84757,     0.84753,     0.84749,     0.84745,     0.84741,     0.84737,     0.84732,     0.84728,     0.84724,      0.8472,     0.84716,     0.84712,     0.84708,     0.84703,     0.84699,     0.84695,     0.84691,     0.84687,     0.84683,\n",
       "            0.84678,     0.84674,      0.8467,     0.84666,     0.84662,     0.84658,     0.84654,     0.84649,     0.84645,     0.84641,     0.84637,     0.84633,     0.84629,     0.84625,      0.8462,     0.84616,     0.84395,     0.84183,     0.84099,     0.84016,     0.83932,     0.83848,     0.83399,\n",
       "            0.83414,      0.8343,     0.83445,      0.8346,     0.83475,      0.8349,     0.83506,     0.83521,     0.83536,     0.83551,     0.83566,     0.83581,     0.83596,     0.83612,     0.83627,     0.83642,     0.83657,     0.83672,     0.83687,     0.83488,     0.83275,     0.82991,     0.82848,\n",
       "            0.82831,     0.82815,     0.82798,     0.82781,     0.82764,     0.82747,      0.8273,     0.82713,     0.82697,      0.8268,     0.82663,     0.82646,     0.82629,     0.82612,     0.82595,     0.82578,     0.82562,     0.82545,     0.82528,     0.82511,     0.82494,     0.82477,      0.8246,\n",
       "            0.82443,     0.82374,     0.82278,     0.82182,     0.82085,     0.82041,     0.82143,     0.82244,     0.82319,     0.82345,      0.8237,     0.82396,     0.82421,     0.82447,     0.82472,     0.82498,     0.82523,     0.82549,     0.82574,     0.82599,     0.82548,     0.82451,     0.82353,\n",
       "            0.82256,     0.82171,     0.82127,     0.82083,     0.82039,     0.81995,     0.81951,     0.81907,     0.81863,     0.81819,     0.81775,     0.81901,     0.82091,     0.82168,     0.82245,     0.82323,     0.82304,     0.82223,     0.82142,     0.82062,      0.8198,     0.81811,     0.81564,\n",
       "            0.82037,     0.81857,     0.81675,      0.8126,     0.81069,     0.80916,     0.80763,     0.80645,      0.8053,     0.80414,       0.803,     0.80234,     0.80167,       0.801,     0.80034,     0.79967,       0.799,     0.79746,      0.7944,     0.79647,      0.7951,     0.79272,     0.78968,\n",
       "            0.78648,     0.78327,     0.77858,     0.77752,     0.77677,     0.77601,     0.77526,     0.77451,     0.77375,     0.77229,     0.77032,     0.76349,     0.76149,     0.75949,     0.75653,     0.75546,     0.75071,       0.749,     0.74729,     0.74912,     0.74653,     0.74292,     0.73251,\n",
       "            0.72385,     0.72287,     0.72189,     0.72091,     0.71992,     0.71882,      0.7161,     0.71343,     0.71124,     0.70904,     0.70221,     0.69849,     0.69584,     0.69359,     0.68478,     0.67964,     0.67579,     0.66272,     0.65975,      0.6472,     0.64348,     0.64043,     0.62529,\n",
       "            0.61901,     0.61381,     0.61027,      0.6051,       0.592,     0.58936,     0.57838,     0.57099,     0.56595,     0.55963,     0.55502,     0.53822,     0.51846,     0.51602,     0.51358,     0.51406,     0.50056,     0.47839,     0.46272,     0.45456,     0.44256,     0.40598,     0.40029,\n",
       "            0.38813,     0.38245,     0.37802,     0.36253,     0.34425,     0.28783,     0.26783,     0.25514,     0.23599,     0.20614,     0.17304,     0.13149,     0.10304,    0.083465,    0.065369,     0.05804,    0.051619,    0.035696,    0.032416,    0.029126,           0,           0,           0,\n",
       "                  0,           0,           0,           0,           0,           0,           0,           0,           0,           0,           0,           0,           0,           0,           0,           0,           0,           0,           0,           0,           0,           0,           0,\n",
       "                  0,           0,           0,           0,           0,           0,           0,           0,           0,           0,           0]]), 'Confidence', 'F1'], [array([          0,    0.001001,    0.002002,    0.003003,    0.004004,    0.005005,    0.006006,    0.007007,    0.008008,    0.009009,     0.01001,    0.011011,    0.012012,    0.013013,    0.014014,    0.015015,    0.016016,    0.017017,    0.018018,    0.019019,     0.02002,    0.021021,    0.022022,    0.023023,\n",
       "          0.024024,    0.025025,    0.026026,    0.027027,    0.028028,    0.029029,     0.03003,    0.031031,    0.032032,    0.033033,    0.034034,    0.035035,    0.036036,    0.037037,    0.038038,    0.039039,     0.04004,    0.041041,    0.042042,    0.043043,    0.044044,    0.045045,    0.046046,    0.047047,\n",
       "          0.048048,    0.049049,     0.05005,    0.051051,    0.052052,    0.053053,    0.054054,    0.055055,    0.056056,    0.057057,    0.058058,    0.059059,     0.06006,    0.061061,    0.062062,    0.063063,    0.064064,    0.065065,    0.066066,    0.067067,    0.068068,    0.069069,     0.07007,    0.071071,\n",
       "          0.072072,    0.073073,    0.074074,    0.075075,    0.076076,    0.077077,    0.078078,    0.079079,     0.08008,    0.081081,    0.082082,    0.083083,    0.084084,    0.085085,    0.086086,    0.087087,    0.088088,    0.089089,     0.09009,    0.091091,    0.092092,    0.093093,    0.094094,    0.095095,\n",
       "          0.096096,    0.097097,    0.098098,    0.099099,      0.1001,      0.1011,      0.1021,      0.1031,      0.1041,     0.10511,     0.10611,     0.10711,     0.10811,     0.10911,     0.11011,     0.11111,     0.11211,     0.11311,     0.11411,     0.11512,     0.11612,     0.11712,     0.11812,     0.11912,\n",
       "           0.12012,     0.12112,     0.12212,     0.12312,     0.12412,     0.12513,     0.12613,     0.12713,     0.12813,     0.12913,     0.13013,     0.13113,     0.13213,     0.13313,     0.13413,     0.13514,     0.13614,     0.13714,     0.13814,     0.13914,     0.14014,     0.14114,     0.14214,     0.14314,\n",
       "           0.14414,     0.14515,     0.14615,     0.14715,     0.14815,     0.14915,     0.15015,     0.15115,     0.15215,     0.15315,     0.15415,     0.15516,     0.15616,     0.15716,     0.15816,     0.15916,     0.16016,     0.16116,     0.16216,     0.16316,     0.16416,     0.16517,     0.16617,     0.16717,\n",
       "           0.16817,     0.16917,     0.17017,     0.17117,     0.17217,     0.17317,     0.17417,     0.17518,     0.17618,     0.17718,     0.17818,     0.17918,     0.18018,     0.18118,     0.18218,     0.18318,     0.18418,     0.18519,     0.18619,     0.18719,     0.18819,     0.18919,     0.19019,     0.19119,\n",
       "           0.19219,     0.19319,     0.19419,      0.1952,      0.1962,      0.1972,      0.1982,      0.1992,      0.2002,      0.2012,      0.2022,      0.2032,      0.2042,     0.20521,     0.20621,     0.20721,     0.20821,     0.20921,     0.21021,     0.21121,     0.21221,     0.21321,     0.21421,     0.21522,\n",
       "           0.21622,     0.21722,     0.21822,     0.21922,     0.22022,     0.22122,     0.22222,     0.22322,     0.22422,     0.22523,     0.22623,     0.22723,     0.22823,     0.22923,     0.23023,     0.23123,     0.23223,     0.23323,     0.23423,     0.23524,     0.23624,     0.23724,     0.23824,     0.23924,\n",
       "           0.24024,     0.24124,     0.24224,     0.24324,     0.24424,     0.24525,     0.24625,     0.24725,     0.24825,     0.24925,     0.25025,     0.25125,     0.25225,     0.25325,     0.25425,     0.25526,     0.25626,     0.25726,     0.25826,     0.25926,     0.26026,     0.26126,     0.26226,     0.26326,\n",
       "           0.26426,     0.26527,     0.26627,     0.26727,     0.26827,     0.26927,     0.27027,     0.27127,     0.27227,     0.27327,     0.27427,     0.27528,     0.27628,     0.27728,     0.27828,     0.27928,     0.28028,     0.28128,     0.28228,     0.28328,     0.28428,     0.28529,     0.28629,     0.28729,\n",
       "           0.28829,     0.28929,     0.29029,     0.29129,     0.29229,     0.29329,     0.29429,      0.2953,      0.2963,      0.2973,      0.2983,      0.2993,      0.3003,      0.3013,      0.3023,      0.3033,      0.3043,     0.30531,     0.30631,     0.30731,     0.30831,     0.30931,     0.31031,     0.31131,\n",
       "           0.31231,     0.31331,     0.31431,     0.31532,     0.31632,     0.31732,     0.31832,     0.31932,     0.32032,     0.32132,     0.32232,     0.32332,     0.32432,     0.32533,     0.32633,     0.32733,     0.32833,     0.32933,     0.33033,     0.33133,     0.33233,     0.33333,     0.33433,     0.33534,\n",
       "           0.33634,     0.33734,     0.33834,     0.33934,     0.34034,     0.34134,     0.34234,     0.34334,     0.34434,     0.34535,     0.34635,     0.34735,     0.34835,     0.34935,     0.35035,     0.35135,     0.35235,     0.35335,     0.35435,     0.35536,     0.35636,     0.35736,     0.35836,     0.35936,\n",
       "           0.36036,     0.36136,     0.36236,     0.36336,     0.36436,     0.36537,     0.36637,     0.36737,     0.36837,     0.36937,     0.37037,     0.37137,     0.37237,     0.37337,     0.37437,     0.37538,     0.37638,     0.37738,     0.37838,     0.37938,     0.38038,     0.38138,     0.38238,     0.38338,\n",
       "           0.38438,     0.38539,     0.38639,     0.38739,     0.38839,     0.38939,     0.39039,     0.39139,     0.39239,     0.39339,     0.39439,      0.3954,      0.3964,      0.3974,      0.3984,      0.3994,      0.4004,      0.4014,      0.4024,      0.4034,      0.4044,     0.40541,     0.40641,     0.40741,\n",
       "           0.40841,     0.40941,     0.41041,     0.41141,     0.41241,     0.41341,     0.41441,     0.41542,     0.41642,     0.41742,     0.41842,     0.41942,     0.42042,     0.42142,     0.42242,     0.42342,     0.42442,     0.42543,     0.42643,     0.42743,     0.42843,     0.42943,     0.43043,     0.43143,\n",
       "           0.43243,     0.43343,     0.43443,     0.43544,     0.43644,     0.43744,     0.43844,     0.43944,     0.44044,     0.44144,     0.44244,     0.44344,     0.44444,     0.44545,     0.44645,     0.44745,     0.44845,     0.44945,     0.45045,     0.45145,     0.45245,     0.45345,     0.45445,     0.45546,\n",
       "           0.45646,     0.45746,     0.45846,     0.45946,     0.46046,     0.46146,     0.46246,     0.46346,     0.46446,     0.46547,     0.46647,     0.46747,     0.46847,     0.46947,     0.47047,     0.47147,     0.47247,     0.47347,     0.47447,     0.47548,     0.47648,     0.47748,     0.47848,     0.47948,\n",
       "           0.48048,     0.48148,     0.48248,     0.48348,     0.48448,     0.48549,     0.48649,     0.48749,     0.48849,     0.48949,     0.49049,     0.49149,     0.49249,     0.49349,     0.49449,      0.4955,      0.4965,      0.4975,      0.4985,      0.4995,      0.5005,      0.5015,      0.5025,      0.5035,\n",
       "            0.5045,     0.50551,     0.50651,     0.50751,     0.50851,     0.50951,     0.51051,     0.51151,     0.51251,     0.51351,     0.51451,     0.51552,     0.51652,     0.51752,     0.51852,     0.51952,     0.52052,     0.52152,     0.52252,     0.52352,     0.52452,     0.52553,     0.52653,     0.52753,\n",
       "           0.52853,     0.52953,     0.53053,     0.53153,     0.53253,     0.53353,     0.53453,     0.53554,     0.53654,     0.53754,     0.53854,     0.53954,     0.54054,     0.54154,     0.54254,     0.54354,     0.54454,     0.54555,     0.54655,     0.54755,     0.54855,     0.54955,     0.55055,     0.55155,\n",
       "           0.55255,     0.55355,     0.55455,     0.55556,     0.55656,     0.55756,     0.55856,     0.55956,     0.56056,     0.56156,     0.56256,     0.56356,     0.56456,     0.56557,     0.56657,     0.56757,     0.56857,     0.56957,     0.57057,     0.57157,     0.57257,     0.57357,     0.57457,     0.57558,\n",
       "           0.57658,     0.57758,     0.57858,     0.57958,     0.58058,     0.58158,     0.58258,     0.58358,     0.58458,     0.58559,     0.58659,     0.58759,     0.58859,     0.58959,     0.59059,     0.59159,     0.59259,     0.59359,     0.59459,      0.5956,      0.5966,      0.5976,      0.5986,      0.5996,\n",
       "            0.6006,      0.6016,      0.6026,      0.6036,      0.6046,     0.60561,     0.60661,     0.60761,     0.60861,     0.60961,     0.61061,     0.61161,     0.61261,     0.61361,     0.61461,     0.61562,     0.61662,     0.61762,     0.61862,     0.61962,     0.62062,     0.62162,     0.62262,     0.62362,\n",
       "           0.62462,     0.62563,     0.62663,     0.62763,     0.62863,     0.62963,     0.63063,     0.63163,     0.63263,     0.63363,     0.63463,     0.63564,     0.63664,     0.63764,     0.63864,     0.63964,     0.64064,     0.64164,     0.64264,     0.64364,     0.64464,     0.64565,     0.64665,     0.64765,\n",
       "           0.64865,     0.64965,     0.65065,     0.65165,     0.65265,     0.65365,     0.65465,     0.65566,     0.65666,     0.65766,     0.65866,     0.65966,     0.66066,     0.66166,     0.66266,     0.66366,     0.66466,     0.66567,     0.66667,     0.66767,     0.66867,     0.66967,     0.67067,     0.67167,\n",
       "           0.67267,     0.67367,     0.67467,     0.67568,     0.67668,     0.67768,     0.67868,     0.67968,     0.68068,     0.68168,     0.68268,     0.68368,     0.68468,     0.68569,     0.68669,     0.68769,     0.68869,     0.68969,     0.69069,     0.69169,     0.69269,     0.69369,     0.69469,      0.6957,\n",
       "            0.6967,      0.6977,      0.6987,      0.6997,      0.7007,      0.7017,      0.7027,      0.7037,      0.7047,     0.70571,     0.70671,     0.70771,     0.70871,     0.70971,     0.71071,     0.71171,     0.71271,     0.71371,     0.71471,     0.71572,     0.71672,     0.71772,     0.71872,     0.71972,\n",
       "           0.72072,     0.72172,     0.72272,     0.72372,     0.72472,     0.72573,     0.72673,     0.72773,     0.72873,     0.72973,     0.73073,     0.73173,     0.73273,     0.73373,     0.73473,     0.73574,     0.73674,     0.73774,     0.73874,     0.73974,     0.74074,     0.74174,     0.74274,     0.74374,\n",
       "           0.74474,     0.74575,     0.74675,     0.74775,     0.74875,     0.74975,     0.75075,     0.75175,     0.75275,     0.75375,     0.75475,     0.75576,     0.75676,     0.75776,     0.75876,     0.75976,     0.76076,     0.76176,     0.76276,     0.76376,     0.76476,     0.76577,     0.76677,     0.76777,\n",
       "           0.76877,     0.76977,     0.77077,     0.77177,     0.77277,     0.77377,     0.77477,     0.77578,     0.77678,     0.77778,     0.77878,     0.77978,     0.78078,     0.78178,     0.78278,     0.78378,     0.78478,     0.78579,     0.78679,     0.78779,     0.78879,     0.78979,     0.79079,     0.79179,\n",
       "           0.79279,     0.79379,     0.79479,      0.7958,      0.7968,      0.7978,      0.7988,      0.7998,      0.8008,      0.8018,      0.8028,      0.8038,      0.8048,     0.80581,     0.80681,     0.80781,     0.80881,     0.80981,     0.81081,     0.81181,     0.81281,     0.81381,     0.81481,     0.81582,\n",
       "           0.81682,     0.81782,     0.81882,     0.81982,     0.82082,     0.82182,     0.82282,     0.82382,     0.82482,     0.82583,     0.82683,     0.82783,     0.82883,     0.82983,     0.83083,     0.83183,     0.83283,     0.83383,     0.83483,     0.83584,     0.83684,     0.83784,     0.83884,     0.83984,\n",
       "           0.84084,     0.84184,     0.84284,     0.84384,     0.84484,     0.84585,     0.84685,     0.84785,     0.84885,     0.84985,     0.85085,     0.85185,     0.85285,     0.85385,     0.85485,     0.85586,     0.85686,     0.85786,     0.85886,     0.85986,     0.86086,     0.86186,     0.86286,     0.86386,\n",
       "           0.86486,     0.86587,     0.86687,     0.86787,     0.86887,     0.86987,     0.87087,     0.87187,     0.87287,     0.87387,     0.87487,     0.87588,     0.87688,     0.87788,     0.87888,     0.87988,     0.88088,     0.88188,     0.88288,     0.88388,     0.88488,     0.88589,     0.88689,     0.88789,\n",
       "           0.88889,     0.88989,     0.89089,     0.89189,     0.89289,     0.89389,     0.89489,      0.8959,      0.8969,      0.8979,      0.8989,      0.8999,      0.9009,      0.9019,      0.9029,      0.9039,      0.9049,     0.90591,     0.90691,     0.90791,     0.90891,     0.90991,     0.91091,     0.91191,\n",
       "           0.91291,     0.91391,     0.91491,     0.91592,     0.91692,     0.91792,     0.91892,     0.91992,     0.92092,     0.92192,     0.92292,     0.92392,     0.92492,     0.92593,     0.92693,     0.92793,     0.92893,     0.92993,     0.93093,     0.93193,     0.93293,     0.93393,     0.93493,     0.93594,\n",
       "           0.93694,     0.93794,     0.93894,     0.93994,     0.94094,     0.94194,     0.94294,     0.94394,     0.94494,     0.94595,     0.94695,     0.94795,     0.94895,     0.94995,     0.95095,     0.95195,     0.95295,     0.95395,     0.95495,     0.95596,     0.95696,     0.95796,     0.95896,     0.95996,\n",
       "           0.96096,     0.96196,     0.96296,     0.96396,     0.96496,     0.96597,     0.96697,     0.96797,     0.96897,     0.96997,     0.97097,     0.97197,     0.97297,     0.97397,     0.97497,     0.97598,     0.97698,     0.97798,     0.97898,     0.97998,     0.98098,     0.98198,     0.98298,     0.98398,\n",
       "           0.98498,     0.98599,     0.98699,     0.98799,     0.98899,     0.98999,     0.99099,     0.99199,     0.99299,     0.99399,     0.99499,       0.996,       0.997,       0.998,       0.999,           1]), array([[    0.35049,     0.35049,     0.47432,     0.53382,     0.58138,     0.61025,     0.62995,     0.64294,     0.66113,     0.67081,     0.67591,     0.70016,     0.71113,     0.72262,     0.72341,      0.7242,     0.72498,     0.72577,     0.72716,     0.72996,      0.7326,     0.73555,     0.73845,\n",
       "            0.74017,     0.74189,       0.741,      0.7443,      0.7503,     0.75277,     0.75434,      0.7559,     0.75742,     0.75886,      0.7603,     0.76125,     0.76157,     0.76189,     0.76221,     0.76253,     0.76285,     0.76317,     0.76349,     0.76381,     0.76413,     0.76445,     0.76477,\n",
       "            0.76509,     0.76586,     0.76939,     0.78287,     0.78433,     0.78579,     0.78725,     0.79571,     0.79624,     0.79749,     0.79874,     0.79999,     0.80439,     0.80466,     0.80685,      0.8085,     0.80891,     0.80931,     0.80971,     0.81011,     0.81052,     0.81092,     0.81132,\n",
       "            0.81172,     0.81213,     0.81253,     0.81293,     0.81337,     0.81398,     0.81458,     0.81518,     0.81578,     0.81639,     0.81699,     0.81759,     0.81825,     0.82081,     0.82319,     0.82342,     0.82364,     0.82387,      0.8241,     0.82433,     0.82455,     0.82478,     0.82501,\n",
       "            0.82524,     0.82546,     0.82569,     0.82592,     0.82615,     0.82637,      0.8266,     0.82683,     0.82706,     0.82728,     0.82751,     0.82774,     0.82797,     0.82819,     0.83046,       0.833,     0.83379,     0.83431,     0.83483,     0.83535,     0.83587,     0.83639,     0.83691,\n",
       "            0.83743,     0.83795,     0.83847,     0.83911,     0.83977,     0.84042,     0.84107,     0.84172,     0.84237,     0.84302,     0.84367,     0.84339,     0.84299,      0.8427,     0.84255,      0.8424,     0.84225,      0.8421,     0.84194,     0.84179,     0.84214,     0.84256,     0.84299,\n",
       "            0.84342,     0.84385,     0.84427,      0.8447,     0.84513,     0.84555,     0.84598,     0.84641,     0.84683,     0.84764,     0.84935,     0.85107,     0.85281,     0.85477,     0.85673,     0.85805,     0.85801,     0.85797,     0.85793,     0.85789,     0.85785,     0.85781,     0.85777,\n",
       "            0.85773,     0.85769,     0.85765,      0.8576,     0.85756,     0.85752,     0.85748,     0.85744,      0.8574,     0.85736,     0.85732,     0.85728,     0.85724,      0.8572,     0.85716,     0.85819,     0.85983,     0.86147,     0.86268,     0.86237,     0.86206,     0.86199,      0.8625,\n",
       "            0.86301,     0.86352,     0.86403,     0.86454,     0.86505,     0.86555,     0.86606,     0.86657,     0.86708,     0.86744,     0.86598,     0.86603,     0.86633,     0.86662,     0.86692,     0.86722,     0.86752,     0.86782,     0.86811,     0.86841,     0.86871,     0.86901,      0.8693,\n",
       "             0.8696,      0.8699,      0.8702,      0.8705,     0.87079,     0.87109,     0.87139,     0.87168,     0.87195,     0.87223,      0.8725,     0.87277,     0.87304,     0.87331,     0.87358,     0.87386,     0.87413,      0.8744,     0.87467,     0.87494,     0.87521,     0.87549,     0.87576,\n",
       "            0.87603,      0.8763,     0.87657,     0.87684,     0.87712,     0.87739,      0.8777,     0.87808,     0.87846,     0.87884,     0.87922,      0.8796,     0.87998,     0.88036,     0.88073,     0.88111,     0.88149,     0.88187,     0.88225,     0.88263,     0.88301,     0.88339,     0.88355,\n",
       "            0.88354,     0.88352,     0.88351,     0.88349,     0.88347,     0.88346,     0.88344,     0.88343,     0.88341,     0.88339,     0.88338,     0.88336,     0.88335,     0.88333,     0.88331,      0.8833,     0.88328,     0.88327,     0.88325,     0.88323,     0.88322,      0.8832,     0.88319,\n",
       "            0.88317,     0.88315,     0.88314,     0.88312,     0.88311,     0.88309,     0.88307,     0.88306,     0.88304,     0.88303,     0.88301,     0.88299,     0.88298,     0.88296,     0.88295,     0.88293,     0.88291,      0.8829,     0.88288,     0.88287,     0.88285,     0.88283,     0.88282,\n",
       "             0.8828,     0.88279,     0.88277,     0.88275,     0.88273,     0.88271,     0.88269,     0.88267,     0.88265,     0.88263,     0.88261,     0.88258,     0.88256,     0.88254,     0.88252,      0.8825,     0.88248,     0.88246,     0.88244,     0.88242,      0.8824,     0.88237,     0.88235,\n",
       "            0.88233,     0.88231,     0.88229,     0.88227,     0.88225,     0.88223,     0.88221,     0.88219,     0.88216,     0.88214,     0.88212,      0.8821,     0.88208,     0.88206,     0.88204,     0.88202,       0.882,     0.88198,     0.88195,     0.88194,     0.88193,     0.88191,      0.8819,\n",
       "            0.88189,     0.88187,     0.88186,     0.88185,     0.88184,     0.88182,     0.88181,      0.8818,     0.88178,     0.88177,     0.88176,     0.88175,     0.88173,     0.88172,     0.88171,      0.8817,     0.88168,     0.88167,     0.88166,     0.88164,     0.88163,     0.88162,     0.88161,\n",
       "            0.88159,     0.88158,     0.88157,     0.88155,     0.88154,     0.88153,     0.88152,      0.8815,     0.88149,     0.88148,     0.88147,     0.88145,     0.88144,     0.88143,     0.88141,      0.8814,     0.88139,     0.88138,     0.88136,     0.88135,     0.88134,     0.88132,     0.88131,\n",
       "             0.8813,     0.88129,     0.88127,     0.88126,     0.88125,     0.88124,     0.88122,     0.88121,      0.8812,     0.88118,     0.88117,     0.88116,     0.88115,     0.88113,     0.88112,     0.88121,     0.88132,     0.88143,     0.88153,     0.88164,     0.88175,     0.88185,     0.88196,\n",
       "            0.88206,     0.88217,     0.88228,     0.88238,     0.88249,      0.8826,      0.8827,     0.88281,     0.88292,     0.88302,     0.88313,     0.88324,     0.88334,     0.88345,     0.88356,     0.88366,     0.88377,     0.88387,     0.88398,     0.88409,     0.88419,      0.8843,     0.88441,\n",
       "            0.88451,     0.88462,     0.88473,     0.88483,     0.88494,     0.88505,     0.88515,     0.88526,     0.88536,     0.88547,     0.88558,     0.88568,     0.88579,      0.8859,       0.886,     0.88611,     0.88622,     0.88632,     0.88643,     0.88654,     0.88664,     0.88675,     0.88686,\n",
       "            0.88696,     0.88707,     0.88717,     0.88728,     0.88731,     0.88729,     0.88727,     0.88725,     0.88722,      0.8872,     0.88718,     0.88716,     0.88714,     0.88712,      0.8871,     0.88707,     0.88705,     0.88703,     0.88701,     0.88699,     0.88697,     0.88694,     0.88692,\n",
       "             0.8869,     0.88688,     0.88686,     0.88684,     0.88682,     0.88679,     0.88677,     0.88675,     0.88673,     0.88671,     0.88669,     0.88666,     0.88664,     0.88662,      0.8866,     0.88658,     0.88656,     0.88654,     0.88766,     0.88982,     0.89199,     0.89284,      0.8928,\n",
       "            0.89276,     0.89273,     0.89269,     0.89266,     0.89262,     0.89258,     0.89255,     0.89251,     0.89248,     0.89244,      0.8924,     0.89237,     0.89233,      0.8923,     0.89226,     0.89223,     0.89219,     0.89215,     0.89212,     0.89207,     0.89199,      0.8919,     0.89181,\n",
       "            0.89172,     0.89163,     0.89154,     0.89145,     0.89136,      0.8913,      0.8913,     0.89129,     0.89128,     0.89128,     0.89127,     0.89126,     0.89126,     0.89125,     0.89124,     0.89124,     0.89123,     0.89122,     0.89122,     0.89121,      0.8912,      0.8912,     0.89119,\n",
       "            0.89118,     0.89118,     0.89117,     0.89116,     0.89116,     0.89115,     0.89114,     0.89114,     0.89113,     0.89112,     0.89112,     0.89111,      0.8911,      0.8911,     0.89109,     0.89108,     0.89108,     0.89107,     0.89106,     0.89106,     0.89105,     0.89104,     0.89104,\n",
       "            0.89103,     0.89102,     0.89102,     0.89101,       0.891,       0.891,     0.89099,     0.89098,     0.89098,     0.89097,     0.89096,     0.89096,     0.89095,     0.89094,     0.89094,     0.89093,     0.89092,     0.89092,     0.89091,      0.8909,      0.8909,     0.89089,     0.89088,\n",
       "            0.89088,     0.89087,     0.89086,     0.89086,     0.89085,     0.89084,     0.89084,     0.89083,     0.89082,     0.89082,     0.89081,      0.8908,      0.8908,     0.89079,     0.89078,     0.89078,     0.89077,     0.89076,     0.89076,     0.89075,     0.89074,     0.89074,     0.89073,\n",
       "            0.89072,     0.89072,     0.89071,      0.8907,      0.8907,     0.89069,     0.89068,     0.89068,     0.89067,     0.89066,     0.89066,     0.89065,     0.89064,     0.89064,     0.89063,     0.89062,     0.89062,     0.89061,      0.8906,      0.8906,     0.89059,     0.89058,     0.89058,\n",
       "            0.89057,     0.89056,     0.89056,     0.89055,     0.89054,     0.89054,     0.89053,     0.89052,     0.89052,       0.892,     0.89648,     0.89705,     0.89704,     0.89704,     0.89703,     0.89702,     0.89701,       0.897,       0.897,     0.89699,     0.89698,     0.89697,     0.89697,\n",
       "            0.89696,     0.89695,     0.89694,     0.89693,     0.89693,     0.89692,     0.89691,      0.8969,     0.89689,     0.89689,     0.89688,     0.89687,     0.89686,     0.89686,     0.89685,     0.89684,     0.89683,     0.89682,     0.89682,     0.89681,      0.8968,     0.89679,     0.89678,\n",
       "            0.89678,     0.89677,     0.89676,     0.89675,     0.89675,     0.89674,     0.89673,     0.89672,     0.89671,     0.89671,      0.8967,     0.89669,     0.89668,     0.89667,     0.89667,     0.89666,     0.89665,     0.89664,     0.89664,     0.89663,     0.89662,     0.89661,      0.8966,\n",
       "             0.8966,     0.89659,     0.89658,     0.89657,     0.89656,     0.89656,     0.89655,     0.89654,     0.89653,     0.89653,     0.89652,     0.89651,      0.8965,     0.89649,     0.89649,     0.89648,     0.89647,     0.89646,     0.89645,     0.89645,     0.89644,     0.89643,     0.89642,\n",
       "            0.89642,     0.89641,      0.8964,     0.89639,     0.89638,     0.89638,     0.89637,     0.89636,     0.89635,     0.89635,     0.89634,     0.89633,     0.89632,     0.89631,     0.89631,      0.8963,     0.89587,     0.89547,     0.89531,     0.89515,     0.89499,     0.89482,      0.8941,\n",
       "            0.89445,      0.8948,     0.89515,      0.8955,     0.89585,      0.8962,     0.89655,      0.8969,     0.89725,      0.8976,     0.89795,      0.8983,     0.89865,       0.899,     0.89935,      0.8997,     0.90004,     0.90039,     0.90074,     0.90039,         0.9,     0.89947,     0.89921,\n",
       "            0.89918,     0.89914,     0.89911,     0.89908,     0.89905,     0.89902,     0.89899,     0.89895,     0.89892,     0.89889,     0.89886,     0.89883,      0.8988,     0.89876,     0.89873,      0.8987,     0.89867,     0.89864,     0.89861,     0.89858,     0.89854,     0.89851,     0.89848,\n",
       "            0.89845,     0.89832,     0.89814,     0.89795,     0.89777,     0.89828,     0.90071,     0.90315,     0.90497,     0.90559,     0.90621,     0.90683,     0.90744,     0.90806,     0.90868,      0.9093,     0.90992,     0.91053,     0.91115,     0.91177,      0.9119,     0.91174,     0.91157,\n",
       "            0.91141,     0.91127,      0.9112,     0.91112,     0.91105,     0.91098,      0.9109,     0.91083,     0.91076,     0.91068,     0.91061,     0.91427,     0.91902,     0.92097,     0.92291,     0.92485,     0.92555,     0.92543,     0.92532,      0.9252,     0.92509,     0.92484,     0.92649,\n",
       "            0.94011,      0.9399,     0.93969,      0.9392,     0.93897,     0.93879,     0.93861,     0.93846,     0.93833,     0.93819,     0.93805,     0.93797,     0.93789,     0.93781,     0.93773,     0.93764,     0.93756,     0.93738,     0.93834,     0.94416,     0.94526,       0.945,     0.94467,\n",
       "            0.94432,     0.94396,     0.94344,     0.94332,     0.94323,     0.94315,     0.94306,     0.94298,     0.94289,     0.94273,      0.9425,     0.94171,     0.94148,     0.94125,      0.9409,     0.94525,     0.94936,     0.94919,     0.94901,     0.95869,     0.95847,     0.95816,     0.95725,\n",
       "            0.95648,     0.95639,      0.9563,     0.95622,     0.95613,     0.95603,     0.95578,     0.95553,     0.95533,     0.95512,     0.95448,     0.95412,     0.95386,     0.95364,     0.95277,     0.95226,     0.95187,      0.9505,     0.95019,     0.94882,      0.9484,     0.94806,     0.94631,\n",
       "            0.94556,     0.94493,     0.94639,     0.95702,     0.95572,     0.95545,      0.9543,     0.95351,     0.95296,     0.95225,     0.95173,     0.94975,     0.94727,     0.94695,     0.94662,     0.96014,     0.96232,     0.96008,     0.95838,     0.95745,     0.95602,     0.95118,     0.95035,\n",
       "             0.9734,     0.97293,     0.97254,     0.97114,     0.96932,     0.96233,     0.95917,     0.95693,           1,           1,           1,           1,           1,           1,           1,           1,           1,           1,           1,           1,           1,           1,           1,\n",
       "                  1,           1,           1,           1,           1,           1,           1,           1,           1,           1,           1,           1,           1,           1,           1,           1,           1,           1,           1,           1,           1,           1,           1,\n",
       "                  1,           1,           1,           1,           1,           1,           1,           1,           1,           1,           1]]), 'Confidence', 'Precision'], [array([          0,    0.001001,    0.002002,    0.003003,    0.004004,    0.005005,    0.006006,    0.007007,    0.008008,    0.009009,     0.01001,    0.011011,    0.012012,    0.013013,    0.014014,    0.015015,    0.016016,    0.017017,    0.018018,    0.019019,     0.02002,    0.021021,    0.022022,    0.023023,\n",
       "          0.024024,    0.025025,    0.026026,    0.027027,    0.028028,    0.029029,     0.03003,    0.031031,    0.032032,    0.033033,    0.034034,    0.035035,    0.036036,    0.037037,    0.038038,    0.039039,     0.04004,    0.041041,    0.042042,    0.043043,    0.044044,    0.045045,    0.046046,    0.047047,\n",
       "          0.048048,    0.049049,     0.05005,    0.051051,    0.052052,    0.053053,    0.054054,    0.055055,    0.056056,    0.057057,    0.058058,    0.059059,     0.06006,    0.061061,    0.062062,    0.063063,    0.064064,    0.065065,    0.066066,    0.067067,    0.068068,    0.069069,     0.07007,    0.071071,\n",
       "          0.072072,    0.073073,    0.074074,    0.075075,    0.076076,    0.077077,    0.078078,    0.079079,     0.08008,    0.081081,    0.082082,    0.083083,    0.084084,    0.085085,    0.086086,    0.087087,    0.088088,    0.089089,     0.09009,    0.091091,    0.092092,    0.093093,    0.094094,    0.095095,\n",
       "          0.096096,    0.097097,    0.098098,    0.099099,      0.1001,      0.1011,      0.1021,      0.1031,      0.1041,     0.10511,     0.10611,     0.10711,     0.10811,     0.10911,     0.11011,     0.11111,     0.11211,     0.11311,     0.11411,     0.11512,     0.11612,     0.11712,     0.11812,     0.11912,\n",
       "           0.12012,     0.12112,     0.12212,     0.12312,     0.12412,     0.12513,     0.12613,     0.12713,     0.12813,     0.12913,     0.13013,     0.13113,     0.13213,     0.13313,     0.13413,     0.13514,     0.13614,     0.13714,     0.13814,     0.13914,     0.14014,     0.14114,     0.14214,     0.14314,\n",
       "           0.14414,     0.14515,     0.14615,     0.14715,     0.14815,     0.14915,     0.15015,     0.15115,     0.15215,     0.15315,     0.15415,     0.15516,     0.15616,     0.15716,     0.15816,     0.15916,     0.16016,     0.16116,     0.16216,     0.16316,     0.16416,     0.16517,     0.16617,     0.16717,\n",
       "           0.16817,     0.16917,     0.17017,     0.17117,     0.17217,     0.17317,     0.17417,     0.17518,     0.17618,     0.17718,     0.17818,     0.17918,     0.18018,     0.18118,     0.18218,     0.18318,     0.18418,     0.18519,     0.18619,     0.18719,     0.18819,     0.18919,     0.19019,     0.19119,\n",
       "           0.19219,     0.19319,     0.19419,      0.1952,      0.1962,      0.1972,      0.1982,      0.1992,      0.2002,      0.2012,      0.2022,      0.2032,      0.2042,     0.20521,     0.20621,     0.20721,     0.20821,     0.20921,     0.21021,     0.21121,     0.21221,     0.21321,     0.21421,     0.21522,\n",
       "           0.21622,     0.21722,     0.21822,     0.21922,     0.22022,     0.22122,     0.22222,     0.22322,     0.22422,     0.22523,     0.22623,     0.22723,     0.22823,     0.22923,     0.23023,     0.23123,     0.23223,     0.23323,     0.23423,     0.23524,     0.23624,     0.23724,     0.23824,     0.23924,\n",
       "           0.24024,     0.24124,     0.24224,     0.24324,     0.24424,     0.24525,     0.24625,     0.24725,     0.24825,     0.24925,     0.25025,     0.25125,     0.25225,     0.25325,     0.25425,     0.25526,     0.25626,     0.25726,     0.25826,     0.25926,     0.26026,     0.26126,     0.26226,     0.26326,\n",
       "           0.26426,     0.26527,     0.26627,     0.26727,     0.26827,     0.26927,     0.27027,     0.27127,     0.27227,     0.27327,     0.27427,     0.27528,     0.27628,     0.27728,     0.27828,     0.27928,     0.28028,     0.28128,     0.28228,     0.28328,     0.28428,     0.28529,     0.28629,     0.28729,\n",
       "           0.28829,     0.28929,     0.29029,     0.29129,     0.29229,     0.29329,     0.29429,      0.2953,      0.2963,      0.2973,      0.2983,      0.2993,      0.3003,      0.3013,      0.3023,      0.3033,      0.3043,     0.30531,     0.30631,     0.30731,     0.30831,     0.30931,     0.31031,     0.31131,\n",
       "           0.31231,     0.31331,     0.31431,     0.31532,     0.31632,     0.31732,     0.31832,     0.31932,     0.32032,     0.32132,     0.32232,     0.32332,     0.32432,     0.32533,     0.32633,     0.32733,     0.32833,     0.32933,     0.33033,     0.33133,     0.33233,     0.33333,     0.33433,     0.33534,\n",
       "           0.33634,     0.33734,     0.33834,     0.33934,     0.34034,     0.34134,     0.34234,     0.34334,     0.34434,     0.34535,     0.34635,     0.34735,     0.34835,     0.34935,     0.35035,     0.35135,     0.35235,     0.35335,     0.35435,     0.35536,     0.35636,     0.35736,     0.35836,     0.35936,\n",
       "           0.36036,     0.36136,     0.36236,     0.36336,     0.36436,     0.36537,     0.36637,     0.36737,     0.36837,     0.36937,     0.37037,     0.37137,     0.37237,     0.37337,     0.37437,     0.37538,     0.37638,     0.37738,     0.37838,     0.37938,     0.38038,     0.38138,     0.38238,     0.38338,\n",
       "           0.38438,     0.38539,     0.38639,     0.38739,     0.38839,     0.38939,     0.39039,     0.39139,     0.39239,     0.39339,     0.39439,      0.3954,      0.3964,      0.3974,      0.3984,      0.3994,      0.4004,      0.4014,      0.4024,      0.4034,      0.4044,     0.40541,     0.40641,     0.40741,\n",
       "           0.40841,     0.40941,     0.41041,     0.41141,     0.41241,     0.41341,     0.41441,     0.41542,     0.41642,     0.41742,     0.41842,     0.41942,     0.42042,     0.42142,     0.42242,     0.42342,     0.42442,     0.42543,     0.42643,     0.42743,     0.42843,     0.42943,     0.43043,     0.43143,\n",
       "           0.43243,     0.43343,     0.43443,     0.43544,     0.43644,     0.43744,     0.43844,     0.43944,     0.44044,     0.44144,     0.44244,     0.44344,     0.44444,     0.44545,     0.44645,     0.44745,     0.44845,     0.44945,     0.45045,     0.45145,     0.45245,     0.45345,     0.45445,     0.45546,\n",
       "           0.45646,     0.45746,     0.45846,     0.45946,     0.46046,     0.46146,     0.46246,     0.46346,     0.46446,     0.46547,     0.46647,     0.46747,     0.46847,     0.46947,     0.47047,     0.47147,     0.47247,     0.47347,     0.47447,     0.47548,     0.47648,     0.47748,     0.47848,     0.47948,\n",
       "           0.48048,     0.48148,     0.48248,     0.48348,     0.48448,     0.48549,     0.48649,     0.48749,     0.48849,     0.48949,     0.49049,     0.49149,     0.49249,     0.49349,     0.49449,      0.4955,      0.4965,      0.4975,      0.4985,      0.4995,      0.5005,      0.5015,      0.5025,      0.5035,\n",
       "            0.5045,     0.50551,     0.50651,     0.50751,     0.50851,     0.50951,     0.51051,     0.51151,     0.51251,     0.51351,     0.51451,     0.51552,     0.51652,     0.51752,     0.51852,     0.51952,     0.52052,     0.52152,     0.52252,     0.52352,     0.52452,     0.52553,     0.52653,     0.52753,\n",
       "           0.52853,     0.52953,     0.53053,     0.53153,     0.53253,     0.53353,     0.53453,     0.53554,     0.53654,     0.53754,     0.53854,     0.53954,     0.54054,     0.54154,     0.54254,     0.54354,     0.54454,     0.54555,     0.54655,     0.54755,     0.54855,     0.54955,     0.55055,     0.55155,\n",
       "           0.55255,     0.55355,     0.55455,     0.55556,     0.55656,     0.55756,     0.55856,     0.55956,     0.56056,     0.56156,     0.56256,     0.56356,     0.56456,     0.56557,     0.56657,     0.56757,     0.56857,     0.56957,     0.57057,     0.57157,     0.57257,     0.57357,     0.57457,     0.57558,\n",
       "           0.57658,     0.57758,     0.57858,     0.57958,     0.58058,     0.58158,     0.58258,     0.58358,     0.58458,     0.58559,     0.58659,     0.58759,     0.58859,     0.58959,     0.59059,     0.59159,     0.59259,     0.59359,     0.59459,      0.5956,      0.5966,      0.5976,      0.5986,      0.5996,\n",
       "            0.6006,      0.6016,      0.6026,      0.6036,      0.6046,     0.60561,     0.60661,     0.60761,     0.60861,     0.60961,     0.61061,     0.61161,     0.61261,     0.61361,     0.61461,     0.61562,     0.61662,     0.61762,     0.61862,     0.61962,     0.62062,     0.62162,     0.62262,     0.62362,\n",
       "           0.62462,     0.62563,     0.62663,     0.62763,     0.62863,     0.62963,     0.63063,     0.63163,     0.63263,     0.63363,     0.63463,     0.63564,     0.63664,     0.63764,     0.63864,     0.63964,     0.64064,     0.64164,     0.64264,     0.64364,     0.64464,     0.64565,     0.64665,     0.64765,\n",
       "           0.64865,     0.64965,     0.65065,     0.65165,     0.65265,     0.65365,     0.65465,     0.65566,     0.65666,     0.65766,     0.65866,     0.65966,     0.66066,     0.66166,     0.66266,     0.66366,     0.66466,     0.66567,     0.66667,     0.66767,     0.66867,     0.66967,     0.67067,     0.67167,\n",
       "           0.67267,     0.67367,     0.67467,     0.67568,     0.67668,     0.67768,     0.67868,     0.67968,     0.68068,     0.68168,     0.68268,     0.68368,     0.68468,     0.68569,     0.68669,     0.68769,     0.68869,     0.68969,     0.69069,     0.69169,     0.69269,     0.69369,     0.69469,      0.6957,\n",
       "            0.6967,      0.6977,      0.6987,      0.6997,      0.7007,      0.7017,      0.7027,      0.7037,      0.7047,     0.70571,     0.70671,     0.70771,     0.70871,     0.70971,     0.71071,     0.71171,     0.71271,     0.71371,     0.71471,     0.71572,     0.71672,     0.71772,     0.71872,     0.71972,\n",
       "           0.72072,     0.72172,     0.72272,     0.72372,     0.72472,     0.72573,     0.72673,     0.72773,     0.72873,     0.72973,     0.73073,     0.73173,     0.73273,     0.73373,     0.73473,     0.73574,     0.73674,     0.73774,     0.73874,     0.73974,     0.74074,     0.74174,     0.74274,     0.74374,\n",
       "           0.74474,     0.74575,     0.74675,     0.74775,     0.74875,     0.74975,     0.75075,     0.75175,     0.75275,     0.75375,     0.75475,     0.75576,     0.75676,     0.75776,     0.75876,     0.75976,     0.76076,     0.76176,     0.76276,     0.76376,     0.76476,     0.76577,     0.76677,     0.76777,\n",
       "           0.76877,     0.76977,     0.77077,     0.77177,     0.77277,     0.77377,     0.77477,     0.77578,     0.77678,     0.77778,     0.77878,     0.77978,     0.78078,     0.78178,     0.78278,     0.78378,     0.78478,     0.78579,     0.78679,     0.78779,     0.78879,     0.78979,     0.79079,     0.79179,\n",
       "           0.79279,     0.79379,     0.79479,      0.7958,      0.7968,      0.7978,      0.7988,      0.7998,      0.8008,      0.8018,      0.8028,      0.8038,      0.8048,     0.80581,     0.80681,     0.80781,     0.80881,     0.80981,     0.81081,     0.81181,     0.81281,     0.81381,     0.81481,     0.81582,\n",
       "           0.81682,     0.81782,     0.81882,     0.81982,     0.82082,     0.82182,     0.82282,     0.82382,     0.82482,     0.82583,     0.82683,     0.82783,     0.82883,     0.82983,     0.83083,     0.83183,     0.83283,     0.83383,     0.83483,     0.83584,     0.83684,     0.83784,     0.83884,     0.83984,\n",
       "           0.84084,     0.84184,     0.84284,     0.84384,     0.84484,     0.84585,     0.84685,     0.84785,     0.84885,     0.84985,     0.85085,     0.85185,     0.85285,     0.85385,     0.85485,     0.85586,     0.85686,     0.85786,     0.85886,     0.85986,     0.86086,     0.86186,     0.86286,     0.86386,\n",
       "           0.86486,     0.86587,     0.86687,     0.86787,     0.86887,     0.86987,     0.87087,     0.87187,     0.87287,     0.87387,     0.87487,     0.87588,     0.87688,     0.87788,     0.87888,     0.87988,     0.88088,     0.88188,     0.88288,     0.88388,     0.88488,     0.88589,     0.88689,     0.88789,\n",
       "           0.88889,     0.88989,     0.89089,     0.89189,     0.89289,     0.89389,     0.89489,      0.8959,      0.8969,      0.8979,      0.8989,      0.8999,      0.9009,      0.9019,      0.9029,      0.9039,      0.9049,     0.90591,     0.90691,     0.90791,     0.90891,     0.90991,     0.91091,     0.91191,\n",
       "           0.91291,     0.91391,     0.91491,     0.91592,     0.91692,     0.91792,     0.91892,     0.91992,     0.92092,     0.92192,     0.92292,     0.92392,     0.92492,     0.92593,     0.92693,     0.92793,     0.92893,     0.92993,     0.93093,     0.93193,     0.93293,     0.93393,     0.93493,     0.93594,\n",
       "           0.93694,     0.93794,     0.93894,     0.93994,     0.94094,     0.94194,     0.94294,     0.94394,     0.94494,     0.94595,     0.94695,     0.94795,     0.94895,     0.94995,     0.95095,     0.95195,     0.95295,     0.95395,     0.95495,     0.95596,     0.95696,     0.95796,     0.95896,     0.95996,\n",
       "           0.96096,     0.96196,     0.96296,     0.96396,     0.96496,     0.96597,     0.96697,     0.96797,     0.96897,     0.96997,     0.97097,     0.97197,     0.97297,     0.97397,     0.97497,     0.97598,     0.97698,     0.97798,     0.97898,     0.97998,     0.98098,     0.98198,     0.98298,     0.98398,\n",
       "           0.98498,     0.98599,     0.98699,     0.98799,     0.98899,     0.98999,     0.99099,     0.99199,     0.99299,     0.99399,     0.99499,       0.996,       0.997,       0.998,       0.999,           1]), array([[    0.94702,     0.94702,      0.9404,      0.9404,     0.93377,     0.92715,     0.92715,     0.92053,     0.91735,     0.91391,     0.91391,     0.91391,     0.91391,     0.91391,     0.91391,     0.91391,     0.91391,     0.91391,     0.91391,     0.91391,     0.91391,     0.91391,     0.91391,\n",
       "            0.91391,     0.91391,     0.90728,     0.90728,     0.90728,     0.90728,     0.90728,     0.90728,     0.90728,     0.90728,     0.90728,     0.90728,     0.90728,     0.90728,     0.90728,     0.90728,     0.90728,     0.90728,     0.90728,     0.90728,     0.90728,     0.90728,     0.90728,\n",
       "            0.90728,     0.90728,     0.90728,     0.90728,     0.90728,     0.90728,     0.90728,     0.90728,     0.90066,     0.90066,     0.90066,     0.90066,     0.90066,     0.89404,     0.89404,     0.89404,     0.89404,     0.89404,     0.89404,     0.89404,     0.89404,     0.89404,     0.89404,\n",
       "            0.89404,     0.89404,     0.89404,     0.89404,     0.89404,     0.89404,     0.89404,     0.89404,     0.89404,     0.89404,     0.89404,     0.89404,     0.89404,     0.89404,     0.89404,     0.89404,     0.89404,     0.89404,     0.89404,     0.89404,     0.89404,     0.89404,     0.89404,\n",
       "            0.89404,     0.89404,     0.89404,     0.89404,     0.89404,     0.89404,     0.89404,     0.89404,     0.89404,     0.89404,     0.89404,     0.89404,     0.89404,     0.89404,     0.89404,     0.89404,     0.89404,     0.89404,     0.89404,     0.89404,     0.89404,     0.89404,     0.89404,\n",
       "            0.89404,     0.89404,     0.89404,     0.89404,     0.89404,     0.89404,     0.89404,     0.89404,     0.89404,     0.89404,     0.89404,     0.89165,     0.88893,     0.88697,     0.88597,     0.88496,     0.88396,     0.88295,     0.88194,     0.88094,     0.88079,     0.88079,     0.88079,\n",
       "            0.88079,     0.88079,     0.88079,     0.88079,     0.88079,     0.88079,     0.88079,     0.88079,     0.88079,     0.88079,     0.88079,     0.88079,     0.88079,     0.88079,     0.88079,      0.8807,     0.88041,     0.88012,     0.87983,     0.87953,     0.87924,     0.87895,     0.87866,\n",
       "            0.87837,     0.87807,     0.87778,     0.87749,      0.8772,     0.87691,     0.87661,     0.87632,     0.87603,     0.87574,     0.87545,     0.87515,     0.87486,     0.87457,     0.87428,     0.87417,     0.87417,     0.87417,     0.87367,      0.8714,     0.86914,     0.86755,     0.86755,\n",
       "            0.86755,     0.86755,     0.86755,     0.86755,     0.86755,     0.86755,     0.86755,     0.86755,     0.86755,      0.8667,     0.85584,      0.8543,      0.8543,      0.8543,      0.8543,      0.8543,      0.8543,      0.8543,      0.8543,      0.8543,      0.8543,      0.8543,      0.8543,\n",
       "             0.8543,      0.8543,      0.8543,      0.8543,      0.8543,      0.8543,      0.8543,      0.8543,      0.8543,      0.8543,      0.8543,      0.8543,      0.8543,      0.8543,      0.8543,      0.8543,      0.8543,      0.8543,      0.8543,      0.8543,      0.8543,      0.8543,      0.8543,\n",
       "             0.8543,      0.8543,      0.8543,      0.8543,      0.8543,      0.8543,      0.8543,      0.8543,      0.8543,      0.8543,      0.8543,      0.8543,      0.8543,      0.8543,      0.8543,      0.8543,      0.8543,      0.8543,      0.8543,      0.8543,      0.8543,      0.8543,     0.85423,\n",
       "             0.8541,     0.85397,     0.85384,     0.85371,     0.85357,     0.85344,     0.85331,     0.85318,     0.85305,     0.85291,     0.85278,     0.85265,     0.85252,     0.85239,     0.85226,     0.85212,     0.85199,     0.85186,     0.85173,      0.8516,     0.85147,     0.85133,      0.8512,\n",
       "            0.85107,     0.85094,     0.85081,     0.85067,     0.85054,     0.85041,     0.85028,     0.85015,     0.85002,     0.84988,     0.84975,     0.84962,     0.84949,     0.84936,     0.84922,     0.84909,     0.84896,     0.84883,      0.8487,     0.84857,     0.84843,      0.8483,     0.84817,\n",
       "            0.84804,     0.84791,     0.84777,     0.84763,     0.84746,     0.84729,     0.84712,     0.84695,     0.84678,     0.84661,     0.84644,     0.84626,     0.84609,     0.84592,     0.84575,     0.84558,     0.84541,     0.84524,     0.84507,      0.8449,     0.84473,     0.84456,     0.84439,\n",
       "            0.84422,     0.84404,     0.84387,      0.8437,     0.84353,     0.84336,     0.84319,     0.84302,     0.84285,     0.84268,     0.84251,     0.84234,     0.84217,       0.842,     0.84182,     0.84165,     0.84148,     0.84131,     0.84114,     0.84101,      0.8409,      0.8408,      0.8407,\n",
       "             0.8406,     0.84049,     0.84039,     0.84029,     0.84019,     0.84008,     0.83998,     0.83988,     0.83978,     0.83967,     0.83957,     0.83947,     0.83937,     0.83926,     0.83916,     0.83906,     0.83896,     0.83885,     0.83875,     0.83865,     0.83855,     0.83844,     0.83834,\n",
       "            0.83824,     0.83814,     0.83803,     0.83793,     0.83783,     0.83773,     0.83762,     0.83752,     0.83742,     0.83732,     0.83722,     0.83711,     0.83701,     0.83691,     0.83681,      0.8367,      0.8366,      0.8365,      0.8364,     0.83629,     0.83619,     0.83609,     0.83599,\n",
       "            0.83588,     0.83578,     0.83568,     0.83558,     0.83547,     0.83537,     0.83527,     0.83517,     0.83506,     0.83496,     0.83486,     0.83476,     0.83465,     0.83455,     0.83445,     0.83444,     0.83444,     0.83444,     0.83444,     0.83444,     0.83444,     0.83444,     0.83444,\n",
       "            0.83444,     0.83444,     0.83444,     0.83444,     0.83444,     0.83444,     0.83444,     0.83444,     0.83444,     0.83444,     0.83444,     0.83444,     0.83444,     0.83444,     0.83444,     0.83444,     0.83444,     0.83444,     0.83444,     0.83444,     0.83444,     0.83444,     0.83444,\n",
       "            0.83444,     0.83444,     0.83444,     0.83444,     0.83444,     0.83444,     0.83444,     0.83444,     0.83444,     0.83444,     0.83444,     0.83444,     0.83444,     0.83444,     0.83444,     0.83444,     0.83444,     0.83444,     0.83444,     0.83444,     0.83444,     0.83444,     0.83444,\n",
       "            0.83444,     0.83444,     0.83444,     0.83444,     0.83433,     0.83415,     0.83397,     0.83379,     0.83362,     0.83344,     0.83326,     0.83308,      0.8329,     0.83272,     0.83254,     0.83237,     0.83219,     0.83201,     0.83183,     0.83165,     0.83147,     0.83129,     0.83112,\n",
       "            0.83094,     0.83076,     0.83058,      0.8304,     0.83022,     0.83004,     0.82986,     0.82969,     0.82951,     0.82933,     0.82915,     0.82897,     0.82879,     0.82861,     0.82844,     0.82826,     0.82808,      0.8279,     0.82781,     0.82781,     0.82781,     0.82763,     0.82732,\n",
       "            0.82701,      0.8267,      0.8264,     0.82609,     0.82578,     0.82547,     0.82516,     0.82485,     0.82454,     0.82424,     0.82393,     0.82362,     0.82331,       0.823,     0.82269,     0.82238,     0.82208,     0.82177,     0.82146,     0.82109,     0.82034,     0.81958,     0.81883,\n",
       "            0.81807,     0.81732,     0.81656,     0.81581,     0.81506,     0.81455,     0.81449,     0.81444,     0.81438,     0.81433,     0.81427,     0.81422,     0.81416,      0.8141,     0.81405,     0.81399,     0.81394,     0.81388,     0.81383,     0.81377,     0.81372,     0.81366,      0.8136,\n",
       "            0.81355,     0.81349,     0.81344,     0.81338,     0.81333,     0.81327,     0.81321,     0.81316,      0.8131,     0.81305,     0.81299,     0.81294,     0.81288,     0.81282,     0.81277,     0.81271,     0.81266,      0.8126,     0.81255,     0.81249,     0.81244,     0.81238,     0.81232,\n",
       "            0.81227,     0.81221,     0.81216,      0.8121,     0.81205,     0.81199,     0.81193,     0.81188,     0.81182,     0.81177,     0.81171,     0.81166,      0.8116,     0.81155,     0.81149,     0.81143,     0.81138,     0.81132,     0.81127,     0.81121,     0.81116,      0.8111,     0.81104,\n",
       "            0.81099,     0.81093,     0.81088,     0.81082,     0.81077,     0.81071,     0.81065,      0.8106,     0.81054,     0.81049,     0.81043,     0.81038,     0.81032,     0.81027,     0.81021,     0.81015,      0.8101,     0.81004,     0.80999,     0.80993,     0.80988,     0.80982,     0.80976,\n",
       "            0.80971,     0.80965,      0.8096,     0.80954,     0.80949,     0.80943,     0.80938,     0.80932,     0.80926,     0.80921,     0.80915,      0.8091,     0.80904,     0.80899,     0.80893,     0.80887,     0.80882,     0.80876,     0.80871,     0.80865,      0.8086,     0.80854,     0.80848,\n",
       "            0.80843,     0.80837,     0.80832,     0.80826,     0.80821,     0.80815,      0.8081,     0.80804,     0.80798,     0.80795,     0.80795,     0.80789,     0.80782,     0.80775,     0.80768,     0.80761,     0.80755,     0.80748,     0.80741,     0.80734,     0.80727,     0.80721,     0.80714,\n",
       "            0.80707,       0.807,     0.80693,     0.80686,      0.8068,     0.80673,     0.80666,     0.80659,     0.80652,     0.80645,     0.80639,     0.80632,     0.80625,     0.80618,     0.80611,     0.80605,     0.80598,     0.80591,     0.80584,     0.80577,      0.8057,     0.80564,     0.80557,\n",
       "             0.8055,     0.80543,     0.80536,      0.8053,     0.80523,     0.80516,     0.80509,     0.80502,     0.80495,     0.80489,     0.80482,     0.80475,     0.80468,     0.80461,     0.80454,     0.80448,     0.80441,     0.80434,     0.80427,      0.8042,     0.80414,     0.80407,       0.804,\n",
       "            0.80393,     0.80386,     0.80379,     0.80373,     0.80366,     0.80359,     0.80352,     0.80345,     0.80338,     0.80332,     0.80325,     0.80318,     0.80311,     0.80304,     0.80298,     0.80291,     0.80284,     0.80277,      0.8027,     0.80263,     0.80257,      0.8025,     0.80243,\n",
       "            0.80236,     0.80229,     0.80223,     0.80216,     0.80209,     0.80202,     0.80195,     0.80188,     0.80182,     0.80175,     0.80168,     0.80161,     0.80154,     0.80147,     0.80141,     0.80134,     0.79771,     0.79425,     0.79289,     0.79153,     0.79017,     0.78882,     0.78146,\n",
       "            0.78146,     0.78146,     0.78146,     0.78146,     0.78146,     0.78146,     0.78146,     0.78146,     0.78146,     0.78146,     0.78146,     0.78146,     0.78146,     0.78146,     0.78146,     0.78146,     0.78146,     0.78146,     0.78146,     0.77825,     0.77485,     0.77033,     0.76807,\n",
       "             0.7678,     0.76754,     0.76727,     0.76701,     0.76674,     0.76647,     0.76621,     0.76594,     0.76567,     0.76541,     0.76514,     0.76488,     0.76461,     0.76434,     0.76408,     0.76381,     0.76355,     0.76328,     0.76301,     0.76275,     0.76248,     0.76221,     0.76195,\n",
       "            0.76168,      0.7606,     0.75909,     0.75759,     0.75608,     0.75497,     0.75497,     0.75497,     0.75497,     0.75497,     0.75497,     0.75497,     0.75497,     0.75497,     0.75497,     0.75497,     0.75497,     0.75497,     0.75497,     0.75497,     0.75402,     0.75251,       0.751,\n",
       "            0.74949,     0.74818,      0.7475,     0.74682,     0.74615,     0.74547,     0.74479,     0.74411,     0.74343,     0.74275,     0.74207,     0.74172,     0.74172,     0.74172,     0.74172,     0.74172,     0.74097,     0.73974,     0.73851,     0.73727,     0.73604,     0.73347,     0.72848,\n",
       "            0.72769,     0.72498,     0.72226,     0.71608,     0.71325,     0.71099,     0.70873,       0.707,      0.7053,     0.70361,     0.70194,     0.70097,         0.7,     0.69903,     0.69806,     0.69709,     0.69612,      0.6939,     0.68874,     0.68874,      0.6861,     0.68271,     0.67838,\n",
       "            0.67385,     0.66933,     0.66277,     0.66129,     0.66024,      0.6592,     0.65815,     0.65711,     0.65607,     0.65405,     0.65133,     0.64199,     0.63928,     0.63656,     0.63257,     0.62914,     0.62081,     0.61855,     0.61629,     0.61474,     0.61135,     0.60664,     0.59323,\n",
       "            0.58224,     0.58101,     0.57977,     0.57854,     0.57731,     0.57592,     0.57252,     0.56921,      0.5665,     0.56378,     0.55542,     0.55089,     0.54769,     0.54497,     0.53445,     0.52838,     0.52385,      0.5087,      0.5053,     0.49109,     0.48693,     0.48353,      0.4669,\n",
       "            0.46011,     0.45453,     0.45033,     0.44241,     0.42881,      0.4261,     0.41492,     0.40751,      0.4025,     0.39625,     0.39173,     0.37551,      0.3569,     0.35464,     0.35238,     0.35099,     0.33826,     0.31856,     0.30499,     0.29802,     0.28792,     0.25806,     0.25354,\n",
       "            0.24239,       0.238,     0.23461,     0.22287,     0.20929,     0.16922,     0.15565,     0.14719,     0.13378,     0.11492,    0.094717,    0.070372,    0.054319,     0.04355,    0.033789,    0.029888,    0.026493,    0.018172,    0.016475,    0.014778,           0,           0,           0,\n",
       "                  0,           0,           0,           0,           0,           0,           0,           0,           0,           0,           0,           0,           0,           0,           0,           0,           0,           0,           0,           0,           0,           0,           0,\n",
       "                  0,           0,           0,           0,           0,           0,           0,           0,           0,           0,           0]]), 'Confidence', 'Recall']]\n",
       "fitness: 0.8313070478928215\n",
       "keys: ['metrics/precision(B)', 'metrics/recall(B)', 'metrics/mAP50(B)', 'metrics/mAP50-95(B)']\n",
       "maps: array([     0.8241])\n",
       "names: {0: 'barbell'}\n",
       "plot: True\n",
       "results_dict: {'metrics/precision(B)': 0.8833132261823256, 'metrics/recall(B)': 0.852255940116803, 'metrics/mAP50(B)': 0.8961823785245929, 'metrics/mAP50-95(B)': 0.8240986778226247, 'fitness': 0.8313070478928215}\n",
       "save_dir: PosixPath('/users/eleves-a/2022/amine.chraibi/AI-Deadlift-Analysis/runs/detect/train4')\n",
       "speed: {'preprocess': 0.669879572732108, 'inference': 0.771939754486084, 'loss': 0.00036898113432384675, 'postprocess': 0.5219152995518276}\n",
       "task: 'detect'"
      ]
     },
     "execution_count": 33,
     "metadata": {},
     "output_type": "execute_result"
    }
   ],
   "source": [
    "# Fine-tune YOLO model\n",
    "model.train(\n",
    "    data=\"/users/eleves-a/2022/amine.chraibi/AI-Deadlift-Analysis/dataset/barbell-detector.v12i.yolov11/data.yaml\",  \n",
    "    epochs=50,           \n",
    "    batch=16,             \n",
    "    imgsz=640            \n",
    ")\n"
   ]
  },
  {
   "cell_type": "code",
   "execution_count": 34,
   "metadata": {},
   "outputs": [
    {
     "name": "stdout",
     "output_type": "stream",
     "text": [
      "Ultralytics 8.3.34 🚀 Python-3.9.19 torch-2.5.1+cu124 CUDA:0 (NVIDIA RTX A5000, 24219MiB)\n",
      "YOLO11n summary (fused): 238 layers, 2,582,347 parameters, 0 gradients, 6.3 GFLOPs\n"
     ]
    },
    {
     "name": "stderr",
     "output_type": "stream",
     "text": [
      "\u001b[34m\u001b[1mval: \u001b[0mScanning /users/eleves-a/2022/amine.chraibi/AI-Deadlift-Analysis/dataset/barbell-detector.v12i.yolov11/valid/labels.cache... 84 images, 0 backgrounds, 0 corrupt: 100%|██████████| 84/84 [00:00<?, ?it/s]\n",
      "                 Class     Images  Instances      Box(P          R      mAP50  mAP50-95): 100%|██████████| 6/6 [00:00<00:00,  7.25it/s]\n"
     ]
    },
    {
     "name": "stdout",
     "output_type": "stream",
     "text": [
      "                   all         84        151      0.878      0.854      0.896      0.826\n",
      "Speed: 0.3ms preprocess, 4.5ms inference, 0.0ms loss, 1.8ms postprocess per image\n",
      "Results saved to \u001b[1m/users/eleves-a/2022/amine.chraibi/AI-Deadlift-Analysis/runs/detect/train42\u001b[0m\n",
      "ultralytics.utils.metrics.DetMetrics object with attributes:\n",
      "\n",
      "ap_class_index: array([0])\n",
      "box: ultralytics.utils.metrics.Metric object\n",
      "confusion_matrix: <ultralytics.utils.metrics.ConfusionMatrix object at 0x7fe6fc777fa0>\n",
      "curves: ['Precision-Recall(B)', 'F1-Confidence(B)', 'Precision-Confidence(B)', 'Recall-Confidence(B)']\n",
      "curves_results: [[array([          0,    0.001001,    0.002002,    0.003003,    0.004004,    0.005005,    0.006006,    0.007007,    0.008008,    0.009009,     0.01001,    0.011011,    0.012012,    0.013013,    0.014014,    0.015015,    0.016016,    0.017017,    0.018018,    0.019019,     0.02002,    0.021021,    0.022022,    0.023023,\n",
      "          0.024024,    0.025025,    0.026026,    0.027027,    0.028028,    0.029029,     0.03003,    0.031031,    0.032032,    0.033033,    0.034034,    0.035035,    0.036036,    0.037037,    0.038038,    0.039039,     0.04004,    0.041041,    0.042042,    0.043043,    0.044044,    0.045045,    0.046046,    0.047047,\n",
      "          0.048048,    0.049049,     0.05005,    0.051051,    0.052052,    0.053053,    0.054054,    0.055055,    0.056056,    0.057057,    0.058058,    0.059059,     0.06006,    0.061061,    0.062062,    0.063063,    0.064064,    0.065065,    0.066066,    0.067067,    0.068068,    0.069069,     0.07007,    0.071071,\n",
      "          0.072072,    0.073073,    0.074074,    0.075075,    0.076076,    0.077077,    0.078078,    0.079079,     0.08008,    0.081081,    0.082082,    0.083083,    0.084084,    0.085085,    0.086086,    0.087087,    0.088088,    0.089089,     0.09009,    0.091091,    0.092092,    0.093093,    0.094094,    0.095095,\n",
      "          0.096096,    0.097097,    0.098098,    0.099099,      0.1001,      0.1011,      0.1021,      0.1031,      0.1041,     0.10511,     0.10611,     0.10711,     0.10811,     0.10911,     0.11011,     0.11111,     0.11211,     0.11311,     0.11411,     0.11512,     0.11612,     0.11712,     0.11812,     0.11912,\n",
      "           0.12012,     0.12112,     0.12212,     0.12312,     0.12412,     0.12513,     0.12613,     0.12713,     0.12813,     0.12913,     0.13013,     0.13113,     0.13213,     0.13313,     0.13413,     0.13514,     0.13614,     0.13714,     0.13814,     0.13914,     0.14014,     0.14114,     0.14214,     0.14314,\n",
      "           0.14414,     0.14515,     0.14615,     0.14715,     0.14815,     0.14915,     0.15015,     0.15115,     0.15215,     0.15315,     0.15415,     0.15516,     0.15616,     0.15716,     0.15816,     0.15916,     0.16016,     0.16116,     0.16216,     0.16316,     0.16416,     0.16517,     0.16617,     0.16717,\n",
      "           0.16817,     0.16917,     0.17017,     0.17117,     0.17217,     0.17317,     0.17417,     0.17518,     0.17618,     0.17718,     0.17818,     0.17918,     0.18018,     0.18118,     0.18218,     0.18318,     0.18418,     0.18519,     0.18619,     0.18719,     0.18819,     0.18919,     0.19019,     0.19119,\n",
      "           0.19219,     0.19319,     0.19419,      0.1952,      0.1962,      0.1972,      0.1982,      0.1992,      0.2002,      0.2012,      0.2022,      0.2032,      0.2042,     0.20521,     0.20621,     0.20721,     0.20821,     0.20921,     0.21021,     0.21121,     0.21221,     0.21321,     0.21421,     0.21522,\n",
      "           0.21622,     0.21722,     0.21822,     0.21922,     0.22022,     0.22122,     0.22222,     0.22322,     0.22422,     0.22523,     0.22623,     0.22723,     0.22823,     0.22923,     0.23023,     0.23123,     0.23223,     0.23323,     0.23423,     0.23524,     0.23624,     0.23724,     0.23824,     0.23924,\n",
      "           0.24024,     0.24124,     0.24224,     0.24324,     0.24424,     0.24525,     0.24625,     0.24725,     0.24825,     0.24925,     0.25025,     0.25125,     0.25225,     0.25325,     0.25425,     0.25526,     0.25626,     0.25726,     0.25826,     0.25926,     0.26026,     0.26126,     0.26226,     0.26326,\n",
      "           0.26426,     0.26527,     0.26627,     0.26727,     0.26827,     0.26927,     0.27027,     0.27127,     0.27227,     0.27327,     0.27427,     0.27528,     0.27628,     0.27728,     0.27828,     0.27928,     0.28028,     0.28128,     0.28228,     0.28328,     0.28428,     0.28529,     0.28629,     0.28729,\n",
      "           0.28829,     0.28929,     0.29029,     0.29129,     0.29229,     0.29329,     0.29429,      0.2953,      0.2963,      0.2973,      0.2983,      0.2993,      0.3003,      0.3013,      0.3023,      0.3033,      0.3043,     0.30531,     0.30631,     0.30731,     0.30831,     0.30931,     0.31031,     0.31131,\n",
      "           0.31231,     0.31331,     0.31431,     0.31532,     0.31632,     0.31732,     0.31832,     0.31932,     0.32032,     0.32132,     0.32232,     0.32332,     0.32432,     0.32533,     0.32633,     0.32733,     0.32833,     0.32933,     0.33033,     0.33133,     0.33233,     0.33333,     0.33433,     0.33534,\n",
      "           0.33634,     0.33734,     0.33834,     0.33934,     0.34034,     0.34134,     0.34234,     0.34334,     0.34434,     0.34535,     0.34635,     0.34735,     0.34835,     0.34935,     0.35035,     0.35135,     0.35235,     0.35335,     0.35435,     0.35536,     0.35636,     0.35736,     0.35836,     0.35936,\n",
      "           0.36036,     0.36136,     0.36236,     0.36336,     0.36436,     0.36537,     0.36637,     0.36737,     0.36837,     0.36937,     0.37037,     0.37137,     0.37237,     0.37337,     0.37437,     0.37538,     0.37638,     0.37738,     0.37838,     0.37938,     0.38038,     0.38138,     0.38238,     0.38338,\n",
      "           0.38438,     0.38539,     0.38639,     0.38739,     0.38839,     0.38939,     0.39039,     0.39139,     0.39239,     0.39339,     0.39439,      0.3954,      0.3964,      0.3974,      0.3984,      0.3994,      0.4004,      0.4014,      0.4024,      0.4034,      0.4044,     0.40541,     0.40641,     0.40741,\n",
      "           0.40841,     0.40941,     0.41041,     0.41141,     0.41241,     0.41341,     0.41441,     0.41542,     0.41642,     0.41742,     0.41842,     0.41942,     0.42042,     0.42142,     0.42242,     0.42342,     0.42442,     0.42543,     0.42643,     0.42743,     0.42843,     0.42943,     0.43043,     0.43143,\n",
      "           0.43243,     0.43343,     0.43443,     0.43544,     0.43644,     0.43744,     0.43844,     0.43944,     0.44044,     0.44144,     0.44244,     0.44344,     0.44444,     0.44545,     0.44645,     0.44745,     0.44845,     0.44945,     0.45045,     0.45145,     0.45245,     0.45345,     0.45445,     0.45546,\n",
      "           0.45646,     0.45746,     0.45846,     0.45946,     0.46046,     0.46146,     0.46246,     0.46346,     0.46446,     0.46547,     0.46647,     0.46747,     0.46847,     0.46947,     0.47047,     0.47147,     0.47247,     0.47347,     0.47447,     0.47548,     0.47648,     0.47748,     0.47848,     0.47948,\n",
      "           0.48048,     0.48148,     0.48248,     0.48348,     0.48448,     0.48549,     0.48649,     0.48749,     0.48849,     0.48949,     0.49049,     0.49149,     0.49249,     0.49349,     0.49449,      0.4955,      0.4965,      0.4975,      0.4985,      0.4995,      0.5005,      0.5015,      0.5025,      0.5035,\n",
      "            0.5045,     0.50551,     0.50651,     0.50751,     0.50851,     0.50951,     0.51051,     0.51151,     0.51251,     0.51351,     0.51451,     0.51552,     0.51652,     0.51752,     0.51852,     0.51952,     0.52052,     0.52152,     0.52252,     0.52352,     0.52452,     0.52553,     0.52653,     0.52753,\n",
      "           0.52853,     0.52953,     0.53053,     0.53153,     0.53253,     0.53353,     0.53453,     0.53554,     0.53654,     0.53754,     0.53854,     0.53954,     0.54054,     0.54154,     0.54254,     0.54354,     0.54454,     0.54555,     0.54655,     0.54755,     0.54855,     0.54955,     0.55055,     0.55155,\n",
      "           0.55255,     0.55355,     0.55455,     0.55556,     0.55656,     0.55756,     0.55856,     0.55956,     0.56056,     0.56156,     0.56256,     0.56356,     0.56456,     0.56557,     0.56657,     0.56757,     0.56857,     0.56957,     0.57057,     0.57157,     0.57257,     0.57357,     0.57457,     0.57558,\n",
      "           0.57658,     0.57758,     0.57858,     0.57958,     0.58058,     0.58158,     0.58258,     0.58358,     0.58458,     0.58559,     0.58659,     0.58759,     0.58859,     0.58959,     0.59059,     0.59159,     0.59259,     0.59359,     0.59459,      0.5956,      0.5966,      0.5976,      0.5986,      0.5996,\n",
      "            0.6006,      0.6016,      0.6026,      0.6036,      0.6046,     0.60561,     0.60661,     0.60761,     0.60861,     0.60961,     0.61061,     0.61161,     0.61261,     0.61361,     0.61461,     0.61562,     0.61662,     0.61762,     0.61862,     0.61962,     0.62062,     0.62162,     0.62262,     0.62362,\n",
      "           0.62462,     0.62563,     0.62663,     0.62763,     0.62863,     0.62963,     0.63063,     0.63163,     0.63263,     0.63363,     0.63463,     0.63564,     0.63664,     0.63764,     0.63864,     0.63964,     0.64064,     0.64164,     0.64264,     0.64364,     0.64464,     0.64565,     0.64665,     0.64765,\n",
      "           0.64865,     0.64965,     0.65065,     0.65165,     0.65265,     0.65365,     0.65465,     0.65566,     0.65666,     0.65766,     0.65866,     0.65966,     0.66066,     0.66166,     0.66266,     0.66366,     0.66466,     0.66567,     0.66667,     0.66767,     0.66867,     0.66967,     0.67067,     0.67167,\n",
      "           0.67267,     0.67367,     0.67467,     0.67568,     0.67668,     0.67768,     0.67868,     0.67968,     0.68068,     0.68168,     0.68268,     0.68368,     0.68468,     0.68569,     0.68669,     0.68769,     0.68869,     0.68969,     0.69069,     0.69169,     0.69269,     0.69369,     0.69469,      0.6957,\n",
      "            0.6967,      0.6977,      0.6987,      0.6997,      0.7007,      0.7017,      0.7027,      0.7037,      0.7047,     0.70571,     0.70671,     0.70771,     0.70871,     0.70971,     0.71071,     0.71171,     0.71271,     0.71371,     0.71471,     0.71572,     0.71672,     0.71772,     0.71872,     0.71972,\n",
      "           0.72072,     0.72172,     0.72272,     0.72372,     0.72472,     0.72573,     0.72673,     0.72773,     0.72873,     0.72973,     0.73073,     0.73173,     0.73273,     0.73373,     0.73473,     0.73574,     0.73674,     0.73774,     0.73874,     0.73974,     0.74074,     0.74174,     0.74274,     0.74374,\n",
      "           0.74474,     0.74575,     0.74675,     0.74775,     0.74875,     0.74975,     0.75075,     0.75175,     0.75275,     0.75375,     0.75475,     0.75576,     0.75676,     0.75776,     0.75876,     0.75976,     0.76076,     0.76176,     0.76276,     0.76376,     0.76476,     0.76577,     0.76677,     0.76777,\n",
      "           0.76877,     0.76977,     0.77077,     0.77177,     0.77277,     0.77377,     0.77477,     0.77578,     0.77678,     0.77778,     0.77878,     0.77978,     0.78078,     0.78178,     0.78278,     0.78378,     0.78478,     0.78579,     0.78679,     0.78779,     0.78879,     0.78979,     0.79079,     0.79179,\n",
      "           0.79279,     0.79379,     0.79479,      0.7958,      0.7968,      0.7978,      0.7988,      0.7998,      0.8008,      0.8018,      0.8028,      0.8038,      0.8048,     0.80581,     0.80681,     0.80781,     0.80881,     0.80981,     0.81081,     0.81181,     0.81281,     0.81381,     0.81481,     0.81582,\n",
      "           0.81682,     0.81782,     0.81882,     0.81982,     0.82082,     0.82182,     0.82282,     0.82382,     0.82482,     0.82583,     0.82683,     0.82783,     0.82883,     0.82983,     0.83083,     0.83183,     0.83283,     0.83383,     0.83483,     0.83584,     0.83684,     0.83784,     0.83884,     0.83984,\n",
      "           0.84084,     0.84184,     0.84284,     0.84384,     0.84484,     0.84585,     0.84685,     0.84785,     0.84885,     0.84985,     0.85085,     0.85185,     0.85285,     0.85385,     0.85485,     0.85586,     0.85686,     0.85786,     0.85886,     0.85986,     0.86086,     0.86186,     0.86286,     0.86386,\n",
      "           0.86486,     0.86587,     0.86687,     0.86787,     0.86887,     0.86987,     0.87087,     0.87187,     0.87287,     0.87387,     0.87487,     0.87588,     0.87688,     0.87788,     0.87888,     0.87988,     0.88088,     0.88188,     0.88288,     0.88388,     0.88488,     0.88589,     0.88689,     0.88789,\n",
      "           0.88889,     0.88989,     0.89089,     0.89189,     0.89289,     0.89389,     0.89489,      0.8959,      0.8969,      0.8979,      0.8989,      0.8999,      0.9009,      0.9019,      0.9029,      0.9039,      0.9049,     0.90591,     0.90691,     0.90791,     0.90891,     0.90991,     0.91091,     0.91191,\n",
      "           0.91291,     0.91391,     0.91491,     0.91592,     0.91692,     0.91792,     0.91892,     0.91992,     0.92092,     0.92192,     0.92292,     0.92392,     0.92492,     0.92593,     0.92693,     0.92793,     0.92893,     0.92993,     0.93093,     0.93193,     0.93293,     0.93393,     0.93493,     0.93594,\n",
      "           0.93694,     0.93794,     0.93894,     0.93994,     0.94094,     0.94194,     0.94294,     0.94394,     0.94494,     0.94595,     0.94695,     0.94795,     0.94895,     0.94995,     0.95095,     0.95195,     0.95295,     0.95395,     0.95495,     0.95596,     0.95696,     0.95796,     0.95896,     0.95996,\n",
      "           0.96096,     0.96196,     0.96296,     0.96396,     0.96496,     0.96597,     0.96697,     0.96797,     0.96897,     0.96997,     0.97097,     0.97197,     0.97297,     0.97397,     0.97497,     0.97598,     0.97698,     0.97798,     0.97898,     0.97998,     0.98098,     0.98198,     0.98298,     0.98398,\n",
      "           0.98498,     0.98599,     0.98699,     0.98799,     0.98899,     0.98999,     0.99099,     0.99199,     0.99299,     0.99399,     0.99499,       0.996,       0.997,       0.998,       0.999,           1]), array([[          1,           1,           1,           1,           1,           1,           1,           1,           1,           1,           1,           1,           1,           1,           1,           1,           1,           1,           1,           1,           1,           1,           1,\n",
      "                  1,           1,           1,           1,           1,           1,           1,           1,           1,           1,           1,           1,           1,           1,           1,           1,           1,           1,           1,           1,           1,           1,           1,\n",
      "                  1,           1,           1,           1,           1,           1,           1,           1,           1,           1,           1,           1,           1,           1,           1,           1,           1,           1,           1,           1,           1,           1,           1,\n",
      "                  1,           1,           1,           1,           1,           1,           1,           1,           1,           1,           1,           1,           1,           1,           1,           1,           1,           1,           1,           1,           1,           1,           1,\n",
      "                  1,           1,           1,           1,           1,           1,           1,           1,           1,           1,           1,           1,           1,           1,           1,           1,           1,           1,           1,           1,           1,           1,           1,\n",
      "                  1,           1,           1,           1,           1,           1,           1,           1,           1,           1,           1,           1,           1,           1,           1,           1,           1,           1,     0.97368,     0.97368,     0.97368,     0.97368,     0.97368,\n",
      "            0.97368,     0.97368,     0.97368,     0.97368,     0.97368,     0.97368,     0.97368,     0.97368,     0.97368,     0.97368,     0.97368,     0.97368,     0.97368,     0.97368,     0.97368,     0.97368,     0.97368,     0.97368,     0.97368,     0.97368,     0.97368,     0.97368,     0.97368,\n",
      "            0.97368,     0.97368,     0.97368,     0.97368,     0.97368,     0.97368,     0.97368,     0.97368,     0.97368,     0.97368,     0.97368,     0.97368,     0.97368,     0.97368,     0.97368,     0.97368,     0.97368,     0.97368,     0.97368,     0.97368,     0.97368,     0.97368,     0.97368,\n",
      "            0.97368,     0.97368,     0.97368,     0.97368,     0.97368,     0.97368,     0.97368,     0.97368,     0.97368,     0.97368,     0.97368,     0.97368,     0.97368,     0.97368,     0.97368,     0.97368,     0.97368,     0.97368,     0.97368,     0.97368,     0.97368,     0.97368,     0.97368,\n",
      "            0.97368,     0.97368,     0.97368,     0.97368,     0.97368,     0.97368,     0.97368,     0.97368,     0.97368,     0.97368,     0.97368,     0.97368,     0.97368,     0.97368,     0.97368,     0.97368,     0.97368,     0.97368,     0.97368,     0.97368,     0.97368,     0.97368,     0.97368,\n",
      "            0.97368,     0.97368,     0.97368,     0.97368,     0.97368,     0.97368,     0.97368,     0.97368,     0.97368,     0.97368,     0.97368,     0.97368,     0.97368,     0.97368,     0.97368,     0.96364,     0.96364,     0.96364,     0.96364,     0.96364,     0.96364,     0.96364,     0.96364,\n",
      "            0.96364,     0.96364,     0.96364,     0.96364,     0.96364,     0.96364,     0.96364,     0.96364,     0.96364,     0.96364,     0.96364,     0.96364,     0.96364,     0.96364,     0.96364,     0.96364,     0.96364,     0.96364,     0.96364,     0.96364,     0.96364,     0.96364,     0.96364,\n",
      "            0.96364,     0.96364,     0.96364,     0.96364,     0.96364,     0.96364,     0.96364,     0.96364,     0.96364,     0.96364,     0.96364,     0.96364,     0.96364,     0.96364,     0.96364,     0.96364,     0.96364,     0.96364,     0.96364,     0.96364,     0.96364,     0.96364,     0.96364,\n",
      "            0.96364,     0.96364,     0.96364,     0.96364,     0.96364,     0.96364,     0.96364,     0.96364,     0.96364,     0.96364,     0.96364,     0.96364,     0.96364,     0.96364,     0.96364,     0.96364,     0.96364,     0.96364,     0.96364,     0.96364,     0.96364,     0.96364,     0.96364,\n",
      "            0.96364,     0.96364,     0.96364,     0.96364,     0.96364,     0.96364,     0.96364,     0.96364,     0.96364,     0.96364,     0.96364,     0.96364,     0.96364,     0.96364,     0.96364,     0.96364,     0.96364,     0.96364,     0.96364,     0.96364,     0.96364,     0.96364,     0.96364,\n",
      "            0.96364,     0.96364,     0.96364,     0.96364,     0.96364,     0.96364,     0.95876,     0.95876,     0.95876,     0.95876,     0.95876,     0.95876,     0.95876,     0.95876,     0.95876,     0.95876,     0.95876,     0.95876,     0.95876,     0.95876,     0.95876,     0.95876,     0.95876,\n",
      "            0.95876,     0.95876,     0.95876,     0.95876,     0.95876,     0.95876,     0.95876,     0.95876,     0.95876,     0.95876,     0.95876,     0.95876,     0.95876,     0.95876,     0.95876,     0.95876,     0.95876,     0.95876,     0.95876,     0.95876,     0.95876,     0.95876,     0.95876,\n",
      "            0.95876,     0.95876,     0.95876,     0.95876,     0.95876,     0.95876,     0.95876,     0.95876,     0.95876,     0.95876,     0.95876,     0.95876,     0.95876,     0.95876,     0.95876,     0.95876,     0.95876,     0.95876,     0.95876,     0.95876,     0.95876,     0.95876,     0.95876,\n",
      "            0.95876,     0.95876,     0.95876,     0.95876,     0.95876,     0.95876,     0.95876,     0.95876,     0.95876,     0.95876,     0.95876,     0.95876,     0.95876,     0.95876,     0.95876,     0.95876,     0.95876,     0.95876,     0.95876,     0.95876,     0.95876,     0.95876,     0.95876,\n",
      "            0.95876,     0.95876,     0.95876,     0.95876,     0.95876,     0.95876,     0.95876,     0.95876,     0.95876,     0.95876,     0.95876,     0.95876,     0.95876,     0.95876,     0.95876,     0.95876,     0.95876,     0.95876,     0.95876,     0.95876,     0.95876,     0.95876,     0.95876,\n",
      "            0.95876,     0.95876,     0.95876,     0.95876,     0.95876,     0.95876,     0.95876,     0.95876,     0.95876,     0.95876,     0.95876,     0.95876,     0.95876,     0.95876,     0.95876,     0.95876,     0.95876,     0.95876,     0.95876,     0.95876,     0.95876,     0.95876,     0.95876,\n",
      "            0.95876,     0.95876,     0.95876,     0.95876,     0.95876,     0.95876,     0.95876,     0.95876,     0.95876,     0.95876,     0.95876,     0.95876,     0.95876,     0.95876,     0.95876,     0.95876,     0.95876,     0.95876,     0.95876,     0.95876,     0.95876,     0.95876,     0.95876,\n",
      "            0.95876,     0.95876,     0.95876,     0.95876,     0.95876,     0.95876,     0.95876,     0.95876,     0.95876,     0.95876,     0.95876,     0.95876,     0.95876,     0.95876,     0.95876,     0.95876,     0.95876,     0.95876,     0.95876,     0.95876,     0.95876,     0.95876,     0.95876,\n",
      "            0.95876,     0.95876,     0.95876,     0.95876,     0.95876,     0.95876,     0.95876,     0.95876,     0.95876,     0.95876,     0.95876,     0.95876,     0.95876,     0.95876,     0.95876,     0.95876,     0.95876,     0.95876,     0.95876,     0.95876,     0.95876,     0.95876,     0.95876,\n",
      "            0.95876,     0.95876,     0.95876,     0.95876,     0.95876,     0.95876,     0.95876,     0.95876,     0.95876,     0.95876,     0.95876,     0.95876,     0.95876,     0.95876,     0.95876,     0.95876,     0.95876,     0.95876,     0.95876,     0.95876,     0.95876,     0.95876,     0.95876,\n",
      "            0.95876,     0.95876,     0.95876,     0.95876,     0.95876,     0.95876,     0.95876,     0.95876,     0.95876,     0.95876,     0.95876,     0.95876,     0.95876,     0.95876,     0.95876,     0.95876,     0.95876,     0.95876,     0.95876,     0.95876,     0.95876,     0.95876,     0.95876,\n",
      "            0.95876,     0.95876,     0.95876,     0.95876,     0.95876,     0.95876,     0.95876,     0.95876,     0.95876,     0.95876,     0.95876,     0.95876,     0.95876,     0.95876,     0.95876,     0.95876,     0.95876,     0.95876,        0.95,        0.95,        0.95,        0.95,        0.95,\n",
      "               0.95,        0.95,        0.95,        0.95,        0.95,        0.95,        0.95,        0.95,     0.94545,     0.94545,     0.94545,     0.94545,     0.94545,     0.94545,     0.94545,     0.94545,     0.94545,     0.94545,     0.94545,     0.94545,     0.94545,     0.94545,     0.94545,\n",
      "            0.94545,     0.94545,     0.94545,     0.94545,     0.94545,     0.94545,     0.94545,     0.94545,     0.94545,     0.94545,     0.94545,     0.94545,     0.94545,     0.94545,     0.94545,     0.94545,     0.94545,     0.94545,     0.94545,     0.94545,     0.94545,     0.94545,     0.94545,\n",
      "            0.94545,     0.94545,     0.94545,     0.94545,     0.94545,     0.94545,     0.94545,     0.94545,     0.94545,     0.94545,     0.94545,     0.94545,     0.94545,     0.94545,     0.94545,     0.94545,     0.94545,     0.94545,     0.94545,     0.94545,     0.94545,     0.94545,     0.94017,\n",
      "            0.94017,     0.94017,     0.94017,     0.94017,     0.94017,     0.94017,     0.94017,     0.94017,     0.94017,     0.94017,     0.94017,     0.94017,     0.94017,     0.94017,     0.94017,     0.94017,     0.94017,     0.94017,     0.94017,     0.94017,     0.94017,     0.94017,     0.94017,\n",
      "            0.94017,     0.94017,     0.94017,     0.94017,     0.94017,     0.94017,     0.94017,     0.94017,     0.94017,     0.94017,     0.94017,     0.94017,     0.94017,     0.94017,     0.94017,     0.92562,     0.92562,     0.92562,     0.92562,     0.92562,     0.92562,     0.92562,     0.92562,\n",
      "            0.92562,     0.92562,     0.92562,     0.92562,     0.92562,       0.912,       0.912,       0.912,       0.912,       0.912,       0.912,       0.912,       0.912,       0.912,       0.912,       0.912,       0.912,       0.912,       0.912,     0.90152,     0.90152,     0.90152,     0.90152,\n",
      "            0.90152,     0.90152,     0.90152,     0.90152,     0.90152,     0.90152,     0.90152,     0.90152,     0.90152,     0.90152,     0.90152,     0.90152,     0.90152,     0.90152,     0.90152,     0.90152,     0.90152,     0.90152,     0.90152,     0.90152,     0.90152,     0.90152,     0.90152,\n",
      "            0.90152,     0.90152,     0.90152,     0.90152,     0.90152,     0.90152,      0.8963,      0.8963,      0.8963,      0.8963,      0.8963,      0.8963,      0.8963,      0.8963,      0.8963,      0.8963,      0.8963,      0.8963,      0.8963,     0.89286,     0.89286,     0.89286,     0.89286,\n",
      "            0.89286,     0.89286,     0.89286,     0.89286,     0.89286,     0.89286,     0.89286,     0.89286,     0.89286,     0.89286,     0.89286,     0.89286,     0.89286,     0.89286,     0.89286,     0.89286,     0.89286,     0.89286,     0.89286,     0.89286,     0.89286,     0.89286,     0.88732,\n",
      "            0.88732,     0.88732,     0.88732,     0.88732,     0.88732,     0.88732,     0.88356,     0.88356,     0.88356,     0.88356,     0.88356,     0.88356,     0.88356,     0.88356,     0.88356,     0.88356,     0.88356,     0.88356,     0.88356,     0.88356,     0.88356,     0.88356,     0.88356,\n",
      "            0.88356,     0.88356,     0.88356,     0.87248,     0.87248,     0.87248,     0.87248,     0.87248,     0.87248,     0.87248,     0.86755,     0.86755,     0.86755,     0.86755,     0.86755,     0.86755,     0.86275,     0.86275,     0.86275,     0.86275,     0.86275,     0.86275,     0.86275,\n",
      "            0.85806,     0.85806,     0.85806,     0.85806,     0.85806,     0.85806,     0.84375,     0.84375,     0.84375,     0.84375,     0.84375,     0.84375,     0.84375,     0.84375,     0.84375,     0.84375,     0.84375,     0.84375,     0.84375,     0.84375,     0.80473,     0.80473,     0.80473,\n",
      "            0.80473,     0.80473,     0.80473,     0.80117,     0.80117,     0.80117,     0.80117,     0.80117,     0.80117,     0.80117,     0.74194,     0.74194,     0.74194,     0.74194,     0.74194,     0.74194,      0.6619,      0.6619,      0.6619,      0.6619,      0.6619,      0.6619,      0.6619,\n",
      "            0.63636,     0.63636,     0.63636,     0.63636,     0.63636,     0.63636,     0.63636,     0.58996,     0.58996,     0.58996,     0.58996,     0.58996,     0.58996,     0.55253,     0.55253,     0.55253,     0.55253,     0.55253,     0.55253,     0.55253,     0.37731,     0.37731,     0.37731,\n",
      "            0.37731,     0.37731,     0.37731,     0.37731,     0.34435,     0.33773,     0.33111,     0.32448,     0.31786,     0.31124,     0.30462,       0.298,     0.29137,     0.28475,     0.27813,     0.27151,     0.26488,     0.25826,     0.25164,     0.24502,      0.2384,     0.23177,     0.22515,\n",
      "            0.21853,     0.21191,     0.20529,     0.19866,     0.19204,     0.18542,      0.1788,     0.17218,     0.16555,     0.15893,     0.15231,     0.14569,     0.13906,     0.13244,     0.12582,      0.1192,     0.11258,     0.10595,    0.099332,     0.09271,    0.086088,    0.079465,    0.072843,\n",
      "           0.066221,    0.059599,    0.052977,    0.046355,    0.039733,    0.033111,    0.026488,    0.019866,    0.013244,   0.0066221,           0]]), 'Recall', 'Precision'], [array([          0,    0.001001,    0.002002,    0.003003,    0.004004,    0.005005,    0.006006,    0.007007,    0.008008,    0.009009,     0.01001,    0.011011,    0.012012,    0.013013,    0.014014,    0.015015,    0.016016,    0.017017,    0.018018,    0.019019,     0.02002,    0.021021,    0.022022,    0.023023,\n",
      "          0.024024,    0.025025,    0.026026,    0.027027,    0.028028,    0.029029,     0.03003,    0.031031,    0.032032,    0.033033,    0.034034,    0.035035,    0.036036,    0.037037,    0.038038,    0.039039,     0.04004,    0.041041,    0.042042,    0.043043,    0.044044,    0.045045,    0.046046,    0.047047,\n",
      "          0.048048,    0.049049,     0.05005,    0.051051,    0.052052,    0.053053,    0.054054,    0.055055,    0.056056,    0.057057,    0.058058,    0.059059,     0.06006,    0.061061,    0.062062,    0.063063,    0.064064,    0.065065,    0.066066,    0.067067,    0.068068,    0.069069,     0.07007,    0.071071,\n",
      "          0.072072,    0.073073,    0.074074,    0.075075,    0.076076,    0.077077,    0.078078,    0.079079,     0.08008,    0.081081,    0.082082,    0.083083,    0.084084,    0.085085,    0.086086,    0.087087,    0.088088,    0.089089,     0.09009,    0.091091,    0.092092,    0.093093,    0.094094,    0.095095,\n",
      "          0.096096,    0.097097,    0.098098,    0.099099,      0.1001,      0.1011,      0.1021,      0.1031,      0.1041,     0.10511,     0.10611,     0.10711,     0.10811,     0.10911,     0.11011,     0.11111,     0.11211,     0.11311,     0.11411,     0.11512,     0.11612,     0.11712,     0.11812,     0.11912,\n",
      "           0.12012,     0.12112,     0.12212,     0.12312,     0.12412,     0.12513,     0.12613,     0.12713,     0.12813,     0.12913,     0.13013,     0.13113,     0.13213,     0.13313,     0.13413,     0.13514,     0.13614,     0.13714,     0.13814,     0.13914,     0.14014,     0.14114,     0.14214,     0.14314,\n",
      "           0.14414,     0.14515,     0.14615,     0.14715,     0.14815,     0.14915,     0.15015,     0.15115,     0.15215,     0.15315,     0.15415,     0.15516,     0.15616,     0.15716,     0.15816,     0.15916,     0.16016,     0.16116,     0.16216,     0.16316,     0.16416,     0.16517,     0.16617,     0.16717,\n",
      "           0.16817,     0.16917,     0.17017,     0.17117,     0.17217,     0.17317,     0.17417,     0.17518,     0.17618,     0.17718,     0.17818,     0.17918,     0.18018,     0.18118,     0.18218,     0.18318,     0.18418,     0.18519,     0.18619,     0.18719,     0.18819,     0.18919,     0.19019,     0.19119,\n",
      "           0.19219,     0.19319,     0.19419,      0.1952,      0.1962,      0.1972,      0.1982,      0.1992,      0.2002,      0.2012,      0.2022,      0.2032,      0.2042,     0.20521,     0.20621,     0.20721,     0.20821,     0.20921,     0.21021,     0.21121,     0.21221,     0.21321,     0.21421,     0.21522,\n",
      "           0.21622,     0.21722,     0.21822,     0.21922,     0.22022,     0.22122,     0.22222,     0.22322,     0.22422,     0.22523,     0.22623,     0.22723,     0.22823,     0.22923,     0.23023,     0.23123,     0.23223,     0.23323,     0.23423,     0.23524,     0.23624,     0.23724,     0.23824,     0.23924,\n",
      "           0.24024,     0.24124,     0.24224,     0.24324,     0.24424,     0.24525,     0.24625,     0.24725,     0.24825,     0.24925,     0.25025,     0.25125,     0.25225,     0.25325,     0.25425,     0.25526,     0.25626,     0.25726,     0.25826,     0.25926,     0.26026,     0.26126,     0.26226,     0.26326,\n",
      "           0.26426,     0.26527,     0.26627,     0.26727,     0.26827,     0.26927,     0.27027,     0.27127,     0.27227,     0.27327,     0.27427,     0.27528,     0.27628,     0.27728,     0.27828,     0.27928,     0.28028,     0.28128,     0.28228,     0.28328,     0.28428,     0.28529,     0.28629,     0.28729,\n",
      "           0.28829,     0.28929,     0.29029,     0.29129,     0.29229,     0.29329,     0.29429,      0.2953,      0.2963,      0.2973,      0.2983,      0.2993,      0.3003,      0.3013,      0.3023,      0.3033,      0.3043,     0.30531,     0.30631,     0.30731,     0.30831,     0.30931,     0.31031,     0.31131,\n",
      "           0.31231,     0.31331,     0.31431,     0.31532,     0.31632,     0.31732,     0.31832,     0.31932,     0.32032,     0.32132,     0.32232,     0.32332,     0.32432,     0.32533,     0.32633,     0.32733,     0.32833,     0.32933,     0.33033,     0.33133,     0.33233,     0.33333,     0.33433,     0.33534,\n",
      "           0.33634,     0.33734,     0.33834,     0.33934,     0.34034,     0.34134,     0.34234,     0.34334,     0.34434,     0.34535,     0.34635,     0.34735,     0.34835,     0.34935,     0.35035,     0.35135,     0.35235,     0.35335,     0.35435,     0.35536,     0.35636,     0.35736,     0.35836,     0.35936,\n",
      "           0.36036,     0.36136,     0.36236,     0.36336,     0.36436,     0.36537,     0.36637,     0.36737,     0.36837,     0.36937,     0.37037,     0.37137,     0.37237,     0.37337,     0.37437,     0.37538,     0.37638,     0.37738,     0.37838,     0.37938,     0.38038,     0.38138,     0.38238,     0.38338,\n",
      "           0.38438,     0.38539,     0.38639,     0.38739,     0.38839,     0.38939,     0.39039,     0.39139,     0.39239,     0.39339,     0.39439,      0.3954,      0.3964,      0.3974,      0.3984,      0.3994,      0.4004,      0.4014,      0.4024,      0.4034,      0.4044,     0.40541,     0.40641,     0.40741,\n",
      "           0.40841,     0.40941,     0.41041,     0.41141,     0.41241,     0.41341,     0.41441,     0.41542,     0.41642,     0.41742,     0.41842,     0.41942,     0.42042,     0.42142,     0.42242,     0.42342,     0.42442,     0.42543,     0.42643,     0.42743,     0.42843,     0.42943,     0.43043,     0.43143,\n",
      "           0.43243,     0.43343,     0.43443,     0.43544,     0.43644,     0.43744,     0.43844,     0.43944,     0.44044,     0.44144,     0.44244,     0.44344,     0.44444,     0.44545,     0.44645,     0.44745,     0.44845,     0.44945,     0.45045,     0.45145,     0.45245,     0.45345,     0.45445,     0.45546,\n",
      "           0.45646,     0.45746,     0.45846,     0.45946,     0.46046,     0.46146,     0.46246,     0.46346,     0.46446,     0.46547,     0.46647,     0.46747,     0.46847,     0.46947,     0.47047,     0.47147,     0.47247,     0.47347,     0.47447,     0.47548,     0.47648,     0.47748,     0.47848,     0.47948,\n",
      "           0.48048,     0.48148,     0.48248,     0.48348,     0.48448,     0.48549,     0.48649,     0.48749,     0.48849,     0.48949,     0.49049,     0.49149,     0.49249,     0.49349,     0.49449,      0.4955,      0.4965,      0.4975,      0.4985,      0.4995,      0.5005,      0.5015,      0.5025,      0.5035,\n",
      "            0.5045,     0.50551,     0.50651,     0.50751,     0.50851,     0.50951,     0.51051,     0.51151,     0.51251,     0.51351,     0.51451,     0.51552,     0.51652,     0.51752,     0.51852,     0.51952,     0.52052,     0.52152,     0.52252,     0.52352,     0.52452,     0.52553,     0.52653,     0.52753,\n",
      "           0.52853,     0.52953,     0.53053,     0.53153,     0.53253,     0.53353,     0.53453,     0.53554,     0.53654,     0.53754,     0.53854,     0.53954,     0.54054,     0.54154,     0.54254,     0.54354,     0.54454,     0.54555,     0.54655,     0.54755,     0.54855,     0.54955,     0.55055,     0.55155,\n",
      "           0.55255,     0.55355,     0.55455,     0.55556,     0.55656,     0.55756,     0.55856,     0.55956,     0.56056,     0.56156,     0.56256,     0.56356,     0.56456,     0.56557,     0.56657,     0.56757,     0.56857,     0.56957,     0.57057,     0.57157,     0.57257,     0.57357,     0.57457,     0.57558,\n",
      "           0.57658,     0.57758,     0.57858,     0.57958,     0.58058,     0.58158,     0.58258,     0.58358,     0.58458,     0.58559,     0.58659,     0.58759,     0.58859,     0.58959,     0.59059,     0.59159,     0.59259,     0.59359,     0.59459,      0.5956,      0.5966,      0.5976,      0.5986,      0.5996,\n",
      "            0.6006,      0.6016,      0.6026,      0.6036,      0.6046,     0.60561,     0.60661,     0.60761,     0.60861,     0.60961,     0.61061,     0.61161,     0.61261,     0.61361,     0.61461,     0.61562,     0.61662,     0.61762,     0.61862,     0.61962,     0.62062,     0.62162,     0.62262,     0.62362,\n",
      "           0.62462,     0.62563,     0.62663,     0.62763,     0.62863,     0.62963,     0.63063,     0.63163,     0.63263,     0.63363,     0.63463,     0.63564,     0.63664,     0.63764,     0.63864,     0.63964,     0.64064,     0.64164,     0.64264,     0.64364,     0.64464,     0.64565,     0.64665,     0.64765,\n",
      "           0.64865,     0.64965,     0.65065,     0.65165,     0.65265,     0.65365,     0.65465,     0.65566,     0.65666,     0.65766,     0.65866,     0.65966,     0.66066,     0.66166,     0.66266,     0.66366,     0.66466,     0.66567,     0.66667,     0.66767,     0.66867,     0.66967,     0.67067,     0.67167,\n",
      "           0.67267,     0.67367,     0.67467,     0.67568,     0.67668,     0.67768,     0.67868,     0.67968,     0.68068,     0.68168,     0.68268,     0.68368,     0.68468,     0.68569,     0.68669,     0.68769,     0.68869,     0.68969,     0.69069,     0.69169,     0.69269,     0.69369,     0.69469,      0.6957,\n",
      "            0.6967,      0.6977,      0.6987,      0.6997,      0.7007,      0.7017,      0.7027,      0.7037,      0.7047,     0.70571,     0.70671,     0.70771,     0.70871,     0.70971,     0.71071,     0.71171,     0.71271,     0.71371,     0.71471,     0.71572,     0.71672,     0.71772,     0.71872,     0.71972,\n",
      "           0.72072,     0.72172,     0.72272,     0.72372,     0.72472,     0.72573,     0.72673,     0.72773,     0.72873,     0.72973,     0.73073,     0.73173,     0.73273,     0.73373,     0.73473,     0.73574,     0.73674,     0.73774,     0.73874,     0.73974,     0.74074,     0.74174,     0.74274,     0.74374,\n",
      "           0.74474,     0.74575,     0.74675,     0.74775,     0.74875,     0.74975,     0.75075,     0.75175,     0.75275,     0.75375,     0.75475,     0.75576,     0.75676,     0.75776,     0.75876,     0.75976,     0.76076,     0.76176,     0.76276,     0.76376,     0.76476,     0.76577,     0.76677,     0.76777,\n",
      "           0.76877,     0.76977,     0.77077,     0.77177,     0.77277,     0.77377,     0.77477,     0.77578,     0.77678,     0.77778,     0.77878,     0.77978,     0.78078,     0.78178,     0.78278,     0.78378,     0.78478,     0.78579,     0.78679,     0.78779,     0.78879,     0.78979,     0.79079,     0.79179,\n",
      "           0.79279,     0.79379,     0.79479,      0.7958,      0.7968,      0.7978,      0.7988,      0.7998,      0.8008,      0.8018,      0.8028,      0.8038,      0.8048,     0.80581,     0.80681,     0.80781,     0.80881,     0.80981,     0.81081,     0.81181,     0.81281,     0.81381,     0.81481,     0.81582,\n",
      "           0.81682,     0.81782,     0.81882,     0.81982,     0.82082,     0.82182,     0.82282,     0.82382,     0.82482,     0.82583,     0.82683,     0.82783,     0.82883,     0.82983,     0.83083,     0.83183,     0.83283,     0.83383,     0.83483,     0.83584,     0.83684,     0.83784,     0.83884,     0.83984,\n",
      "           0.84084,     0.84184,     0.84284,     0.84384,     0.84484,     0.84585,     0.84685,     0.84785,     0.84885,     0.84985,     0.85085,     0.85185,     0.85285,     0.85385,     0.85485,     0.85586,     0.85686,     0.85786,     0.85886,     0.85986,     0.86086,     0.86186,     0.86286,     0.86386,\n",
      "           0.86486,     0.86587,     0.86687,     0.86787,     0.86887,     0.86987,     0.87087,     0.87187,     0.87287,     0.87387,     0.87487,     0.87588,     0.87688,     0.87788,     0.87888,     0.87988,     0.88088,     0.88188,     0.88288,     0.88388,     0.88488,     0.88589,     0.88689,     0.88789,\n",
      "           0.88889,     0.88989,     0.89089,     0.89189,     0.89289,     0.89389,     0.89489,      0.8959,      0.8969,      0.8979,      0.8989,      0.8999,      0.9009,      0.9019,      0.9029,      0.9039,      0.9049,     0.90591,     0.90691,     0.90791,     0.90891,     0.90991,     0.91091,     0.91191,\n",
      "           0.91291,     0.91391,     0.91491,     0.91592,     0.91692,     0.91792,     0.91892,     0.91992,     0.92092,     0.92192,     0.92292,     0.92392,     0.92492,     0.92593,     0.92693,     0.92793,     0.92893,     0.92993,     0.93093,     0.93193,     0.93293,     0.93393,     0.93493,     0.93594,\n",
      "           0.93694,     0.93794,     0.93894,     0.93994,     0.94094,     0.94194,     0.94294,     0.94394,     0.94494,     0.94595,     0.94695,     0.94795,     0.94895,     0.94995,     0.95095,     0.95195,     0.95295,     0.95395,     0.95495,     0.95596,     0.95696,     0.95796,     0.95896,     0.95996,\n",
      "           0.96096,     0.96196,     0.96296,     0.96396,     0.96496,     0.96597,     0.96697,     0.96797,     0.96897,     0.96997,     0.97097,     0.97197,     0.97297,     0.97397,     0.97497,     0.97598,     0.97698,     0.97798,     0.97898,     0.97998,     0.98098,     0.98198,     0.98298,     0.98398,\n",
      "           0.98498,     0.98599,     0.98699,     0.98799,     0.98899,     0.98999,     0.99099,     0.99199,     0.99299,     0.99399,     0.99499,       0.996,       0.997,       0.998,       0.999,           1]), array([[    0.51163,     0.51163,     0.62915,     0.68264,     0.71843,     0.73755,     0.75171,     0.75956,     0.76756,     0.77338,     0.77756,     0.79212,       0.801,     0.80598,     0.80745,     0.80794,     0.80843,     0.80892,     0.80947,     0.81081,     0.81318,     0.81532,     0.81672,\n",
      "             0.8178,     0.81888,     0.81585,     0.81768,     0.82137,     0.82268,      0.8237,     0.82468,     0.82565,     0.82658,     0.82752,     0.82792,      0.8281,     0.82829,     0.82847,     0.82865,     0.82883,     0.82901,      0.8292,     0.82938,     0.82956,     0.82974,     0.82992,\n",
      "             0.8301,     0.83028,     0.83194,     0.83698,     0.84089,     0.84208,      0.8434,     0.84545,     0.85055,     0.84951,     0.84847,     0.84743,     0.84949,     0.84683,     0.84777,      0.8487,      0.8492,     0.84943,     0.84967,      0.8499,     0.85013,     0.85037,      0.8506,\n",
      "            0.85083,     0.85106,      0.8513,     0.85153,     0.85177,      0.8521,     0.85243,     0.85276,     0.85309,     0.85342,     0.85375,     0.85408,      0.8544,     0.85547,      0.8566,     0.85721,     0.85733,     0.85745,     0.85757,      0.8577,     0.85782,     0.85794,     0.85807,\n",
      "            0.85819,     0.85831,     0.85843,     0.85856,     0.85868,      0.8588,     0.85892,     0.85904,     0.85917,     0.85929,     0.85941,     0.85953,     0.85966,     0.85978,     0.86053,     0.86268,     0.86292,     0.86316,      0.8634,     0.86363,     0.86387,     0.86411,     0.86434,\n",
      "            0.86458,     0.86482,     0.86505,     0.86529,     0.86563,     0.86604,     0.86645,     0.86686,     0.86727,     0.86768,     0.86808,     0.86746,     0.86658,      0.8657,     0.86482,     0.86399,      0.8632,     0.86241,     0.86162,     0.86085,     0.86106,     0.86127,     0.86149,\n",
      "             0.8617,     0.86192,     0.86213,     0.86235,     0.86256,     0.86277,     0.86299,      0.8632,     0.86341,     0.86363,      0.8641,     0.86457,     0.86505,     0.86553,       0.866,     0.86662,     0.86928,     0.86912,     0.86896,     0.86879,     0.86863,     0.86847,     0.86831,\n",
      "            0.86815,     0.86799,     0.86782,     0.86766,      0.8675,     0.86734,     0.86718,     0.86701,     0.86685,     0.86669,     0.86653,     0.86636,      0.8662,     0.86604,     0.86588,     0.86572,     0.86564,     0.86617,      0.8667,     0.86723,     0.86776,     0.86829,     0.86483,\n",
      "            0.86508,     0.86533,     0.86559,     0.86584,     0.86609,     0.86634,     0.86659,     0.86684,     0.86709,     0.86734,     0.86684,     0.86575,     0.86653,     0.86636,     0.86619,     0.86602,     0.86584,     0.86567,      0.8655,     0.86533,     0.86516,     0.86499,     0.86482,\n",
      "            0.86465,     0.86448,     0.86431,     0.86414,     0.86396,     0.86379,     0.86362,     0.86345,     0.86328,     0.86311,     0.86294,     0.86298,     0.86314,     0.86331,     0.86347,     0.86363,      0.8638,     0.86396,     0.86412,     0.86428,     0.86445,     0.86461,     0.86477,\n",
      "            0.86493,     0.86509,     0.86526,     0.86542,     0.86558,     0.86574,     0.86589,     0.86604,     0.86619,     0.86634,     0.86649,     0.86664,     0.86679,     0.86694,     0.86709,     0.86723,     0.86738,     0.86753,     0.86768,     0.86783,     0.86798,     0.86812,     0.86827,\n",
      "            0.86842,     0.86857,     0.86867,     0.86859,     0.86851,     0.86844,     0.86836,     0.86828,      0.8682,     0.86812,     0.86804,     0.86797,     0.86789,     0.86781,     0.86773,     0.86765,     0.86757,      0.8675,     0.86742,     0.86734,     0.86726,     0.86718,      0.8671,\n",
      "            0.86702,     0.86695,     0.86687,     0.86679,     0.86671,     0.86663,     0.86655,     0.86647,      0.8664,     0.86632,     0.86624,     0.86616,     0.86608,       0.866,     0.86592,     0.86585,     0.86577,     0.86569,     0.86561,     0.86553,     0.86545,     0.86537,      0.8653,\n",
      "            0.86522,     0.86514,     0.86506,     0.86498,      0.8649,     0.86481,     0.86471,      0.8646,      0.8645,     0.86439,     0.86429,     0.86418,     0.86408,     0.86398,     0.86387,     0.86377,     0.86366,     0.86356,     0.86345,     0.86335,     0.86325,     0.86314,     0.86304,\n",
      "            0.86293,     0.86283,     0.86272,     0.86262,     0.86251,     0.86241,     0.86231,      0.8622,      0.8621,     0.86199,     0.86189,     0.86178,     0.86168,     0.86157,     0.86147,     0.86136,     0.86126,     0.86116,     0.86105,     0.86098,     0.86092,     0.86086,      0.8608,\n",
      "            0.86074,     0.86068,     0.86062,     0.86056,      0.8605,     0.86044,     0.86038,     0.86032,     0.86026,      0.8602,     0.86013,     0.86007,     0.86001,     0.85995,     0.85989,     0.85983,     0.85977,     0.85971,     0.85965,     0.85959,     0.85953,     0.85947,     0.85941,\n",
      "            0.85935,     0.85929,     0.85923,     0.85917,     0.85911,     0.85905,     0.85899,     0.85893,     0.85887,     0.85881,     0.85875,     0.85869,     0.85863,     0.85857,     0.85851,     0.85845,     0.85839,     0.85833,     0.85827,     0.85821,     0.85815,     0.85809,     0.85803,\n",
      "            0.85797,     0.85791,     0.85785,     0.85779,     0.85773,     0.85767,     0.85761,     0.85755,     0.85748,     0.85742,     0.85736,      0.8573,     0.85724,     0.85718,     0.85716,     0.85721,     0.85725,      0.8573,     0.85735,     0.85739,     0.85744,     0.85749,     0.85753,\n",
      "            0.85758,     0.85763,     0.85767,     0.85772,     0.85777,     0.85781,     0.85786,     0.85791,     0.85795,       0.858,     0.85805,     0.85809,     0.85814,     0.85819,     0.85823,     0.85828,     0.85833,     0.85837,     0.85842,     0.85847,     0.85852,     0.85856,     0.85861,\n",
      "            0.85866,      0.8587,     0.85875,      0.8588,     0.85884,     0.85889,     0.85894,     0.85898,     0.85903,     0.85908,     0.85912,     0.85917,     0.85922,     0.85926,     0.85931,     0.85935,      0.8594,     0.85945,     0.85949,     0.85954,     0.85959,     0.85963,     0.85968,\n",
      "            0.85973,     0.85977,     0.85982,     0.85987,     0.85991,     0.85996,     0.86001,     0.86005,     0.85999,     0.85987,     0.85975,     0.85963,     0.85951,     0.85939,     0.85927,     0.85915,     0.85903,     0.85891,     0.85879,     0.85867,     0.85855,     0.85843,     0.85831,\n",
      "            0.85819,     0.85807,     0.85795,     0.85783,     0.85771,     0.85759,     0.85747,     0.85735,     0.85723,     0.85711,     0.85699,     0.85687,     0.85675,     0.85663,     0.85651,     0.85639,     0.85627,     0.85621,     0.85656,     0.85692,     0.85727,     0.85763,     0.85798,\n",
      "            0.85834,     0.85869,     0.85904,      0.8589,     0.85864,     0.85839,     0.85814,     0.85788,     0.85763,     0.85737,     0.85712,     0.85686,     0.85661,     0.85635,      0.8561,     0.85584,     0.85559,     0.85533,     0.85504,     0.85468,     0.85432,     0.85395,     0.85359,\n",
      "            0.85323,     0.85287,      0.8525,     0.85214,     0.85178,     0.85141,      0.8512,     0.85116,     0.85113,      0.8511,     0.85106,     0.85103,       0.851,     0.85097,     0.85093,      0.8509,     0.85087,     0.85083,      0.8508,     0.85077,     0.85073,      0.8507,     0.85067,\n",
      "            0.85064,      0.8506,     0.85057,     0.85054,      0.8505,     0.85047,     0.85044,      0.8504,     0.85037,     0.85034,      0.8503,     0.85027,     0.85024,     0.85021,     0.85017,     0.85014,     0.85011,     0.85007,     0.85004,     0.85001,     0.84997,     0.84994,     0.84991,\n",
      "            0.84987,     0.84984,     0.84981,     0.84978,     0.84974,     0.84971,     0.84968,     0.84964,     0.84961,     0.84958,     0.84954,     0.84951,     0.84948,     0.84944,     0.84941,     0.84938,     0.84935,     0.84931,     0.84928,     0.84925,     0.84921,     0.84918,     0.84915,\n",
      "            0.84911,     0.84908,     0.84905,     0.84901,     0.84898,     0.84895,     0.84892,     0.84888,     0.84885,     0.84882,     0.84878,     0.84875,     0.84872,     0.84868,     0.84865,     0.84862,     0.84858,     0.84855,     0.84852,     0.84848,     0.84845,     0.84842,     0.84838,\n",
      "            0.84835,     0.84832,     0.84829,     0.84825,     0.84822,     0.84819,     0.84815,     0.84812,     0.84809,     0.84805,     0.84802,     0.84799,     0.84795,     0.84792,     0.84789,     0.84785,     0.84782,     0.84779,     0.84775,     0.84772,     0.84769,     0.84766,     0.84762,\n",
      "            0.84759,     0.84756,     0.84752,     0.84749,     0.84746,     0.84742,     0.84739,     0.84736,     0.84732,     0.84729,     0.84726,     0.84722,     0.84348,     0.84323,     0.84327,      0.8433,     0.84333,     0.84336,     0.84339,     0.84342,     0.84345,     0.84348,     0.84351,\n",
      "            0.84355,     0.84358,     0.84361,     0.84364,     0.84367,      0.8437,     0.84373,     0.84376,     0.84379,     0.84382,     0.84386,     0.84389,     0.84392,     0.84395,     0.84398,     0.84401,     0.84404,     0.84407,      0.8441,     0.84413,     0.84417,      0.8442,     0.84423,\n",
      "            0.84426,     0.84429,     0.84432,     0.84435,     0.84438,     0.84441,     0.84444,     0.84448,     0.84451,     0.84454,     0.84457,      0.8446,     0.84463,     0.84466,     0.84469,     0.84472,     0.84475,     0.84479,     0.84482,     0.84485,     0.84488,     0.84491,     0.84494,\n",
      "            0.84497,       0.845,     0.84503,     0.84506,     0.84509,     0.84513,     0.84516,     0.84519,     0.84522,     0.84525,     0.84528,     0.84531,     0.84534,     0.84537,      0.8454,     0.84543,     0.84547,      0.8455,     0.84553,     0.84556,     0.84559,     0.84562,     0.84565,\n",
      "            0.84568,     0.84571,     0.84574,     0.84577,     0.84581,     0.84584,     0.84587,      0.8459,     0.84593,     0.84596,     0.84599,     0.84602,     0.84605,     0.84608,     0.84611,     0.84614,     0.84494,      0.8432,     0.84173,     0.84073,     0.83973,     0.83872,      0.8386,\n",
      "            0.84048,     0.84081,     0.84057,     0.84033,     0.84009,     0.83985,     0.83961,     0.83937,     0.83912,     0.83888,     0.83864,      0.8384,     0.83816,     0.83792,     0.83767,     0.83743,     0.83719,     0.83695,     0.83568,     0.83402,     0.83218,     0.82975,     0.82849,\n",
      "            0.82832,     0.82815,     0.82799,     0.82782,     0.82765,     0.82749,     0.82732,     0.82715,     0.82699,     0.82682,     0.82665,     0.82649,     0.82632,     0.82615,     0.82599,     0.82582,     0.82565,     0.82548,     0.82532,     0.82515,     0.82498,     0.82482,     0.82465,\n",
      "            0.82448,     0.82409,     0.82327,     0.82245,     0.82162,      0.8208,     0.82046,     0.82197,     0.82317,     0.82342,     0.82367,     0.82392,     0.82417,     0.82442,     0.82466,     0.82491,     0.82516,     0.82541,     0.82566,     0.82591,     0.82584,     0.82491,     0.82399,\n",
      "            0.82306,     0.82214,     0.82151,     0.82103,     0.82055,     0.82007,      0.8196,     0.81912,     0.81864,     0.81816,     0.81768,      0.8185,        0.82,      0.8211,       0.822,     0.82289,     0.82328,     0.82241,     0.82153,     0.82065,     0.81977,     0.81771,     0.81589,\n",
      "            0.82076,     0.81913,      0.8175,     0.81452,     0.81118,     0.80954,      0.8079,     0.80633,     0.80477,     0.80321,     0.80248,     0.80186,     0.80124,     0.80061,     0.79999,     0.79937,     0.79874,     0.79666,     0.79425,     0.79673,     0.79499,     0.79324,     0.78993,\n",
      "             0.7862,     0.78358,     0.77983,     0.77773,     0.77695,     0.77617,     0.77538,      0.7746,     0.77381,     0.77232,     0.77018,     0.76454,     0.76123,     0.75859,     0.75626,     0.75408,     0.75328,     0.75021,       0.748,     0.74924,     0.74688,     0.74353,     0.73422,\n",
      "            0.72396,     0.72301,     0.72206,     0.72112,     0.72017,     0.71921,     0.71688,     0.71416,     0.71192,     0.70978,     0.70266,     0.69727,     0.69522,     0.69318,     0.68523,     0.67999,       0.676,     0.66356,     0.66032,      0.6459,     0.64213,     0.63654,     0.62598,\n",
      "            0.62003,     0.61487,     0.61092,      0.6034,     0.59211,     0.58902,     0.57788,     0.57106,      0.5664,     0.55949,     0.55573,     0.54045,     0.51907,     0.51644,     0.51379,     0.50704,      0.5005,     0.48283,      0.4624,     0.45542,     0.44422,      0.4204,     0.40007,\n",
      "            0.38933,     0.38154,     0.37727,      0.3647,     0.34244,     0.28849,     0.26936,     0.25607,     0.23342,     0.20703,       0.173,     0.13228,     0.10171,    0.084327,    0.065475,    0.058312,    0.051959,    0.035805,    0.032339,     0.02886,    0.015976,           0,           0,\n",
      "                  0,           0,           0,           0,           0,           0,           0,           0,           0,           0,           0,           0,           0,           0,           0,           0,           0,           0,           0,           0,           0,           0,           0,\n",
      "                  0,           0,           0,           0,           0,           0,           0,           0,           0,           0,           0]]), 'Confidence', 'F1'], [array([          0,    0.001001,    0.002002,    0.003003,    0.004004,    0.005005,    0.006006,    0.007007,    0.008008,    0.009009,     0.01001,    0.011011,    0.012012,    0.013013,    0.014014,    0.015015,    0.016016,    0.017017,    0.018018,    0.019019,     0.02002,    0.021021,    0.022022,    0.023023,\n",
      "          0.024024,    0.025025,    0.026026,    0.027027,    0.028028,    0.029029,     0.03003,    0.031031,    0.032032,    0.033033,    0.034034,    0.035035,    0.036036,    0.037037,    0.038038,    0.039039,     0.04004,    0.041041,    0.042042,    0.043043,    0.044044,    0.045045,    0.046046,    0.047047,\n",
      "          0.048048,    0.049049,     0.05005,    0.051051,    0.052052,    0.053053,    0.054054,    0.055055,    0.056056,    0.057057,    0.058058,    0.059059,     0.06006,    0.061061,    0.062062,    0.063063,    0.064064,    0.065065,    0.066066,    0.067067,    0.068068,    0.069069,     0.07007,    0.071071,\n",
      "          0.072072,    0.073073,    0.074074,    0.075075,    0.076076,    0.077077,    0.078078,    0.079079,     0.08008,    0.081081,    0.082082,    0.083083,    0.084084,    0.085085,    0.086086,    0.087087,    0.088088,    0.089089,     0.09009,    0.091091,    0.092092,    0.093093,    0.094094,    0.095095,\n",
      "          0.096096,    0.097097,    0.098098,    0.099099,      0.1001,      0.1011,      0.1021,      0.1031,      0.1041,     0.10511,     0.10611,     0.10711,     0.10811,     0.10911,     0.11011,     0.11111,     0.11211,     0.11311,     0.11411,     0.11512,     0.11612,     0.11712,     0.11812,     0.11912,\n",
      "           0.12012,     0.12112,     0.12212,     0.12312,     0.12412,     0.12513,     0.12613,     0.12713,     0.12813,     0.12913,     0.13013,     0.13113,     0.13213,     0.13313,     0.13413,     0.13514,     0.13614,     0.13714,     0.13814,     0.13914,     0.14014,     0.14114,     0.14214,     0.14314,\n",
      "           0.14414,     0.14515,     0.14615,     0.14715,     0.14815,     0.14915,     0.15015,     0.15115,     0.15215,     0.15315,     0.15415,     0.15516,     0.15616,     0.15716,     0.15816,     0.15916,     0.16016,     0.16116,     0.16216,     0.16316,     0.16416,     0.16517,     0.16617,     0.16717,\n",
      "           0.16817,     0.16917,     0.17017,     0.17117,     0.17217,     0.17317,     0.17417,     0.17518,     0.17618,     0.17718,     0.17818,     0.17918,     0.18018,     0.18118,     0.18218,     0.18318,     0.18418,     0.18519,     0.18619,     0.18719,     0.18819,     0.18919,     0.19019,     0.19119,\n",
      "           0.19219,     0.19319,     0.19419,      0.1952,      0.1962,      0.1972,      0.1982,      0.1992,      0.2002,      0.2012,      0.2022,      0.2032,      0.2042,     0.20521,     0.20621,     0.20721,     0.20821,     0.20921,     0.21021,     0.21121,     0.21221,     0.21321,     0.21421,     0.21522,\n",
      "           0.21622,     0.21722,     0.21822,     0.21922,     0.22022,     0.22122,     0.22222,     0.22322,     0.22422,     0.22523,     0.22623,     0.22723,     0.22823,     0.22923,     0.23023,     0.23123,     0.23223,     0.23323,     0.23423,     0.23524,     0.23624,     0.23724,     0.23824,     0.23924,\n",
      "           0.24024,     0.24124,     0.24224,     0.24324,     0.24424,     0.24525,     0.24625,     0.24725,     0.24825,     0.24925,     0.25025,     0.25125,     0.25225,     0.25325,     0.25425,     0.25526,     0.25626,     0.25726,     0.25826,     0.25926,     0.26026,     0.26126,     0.26226,     0.26326,\n",
      "           0.26426,     0.26527,     0.26627,     0.26727,     0.26827,     0.26927,     0.27027,     0.27127,     0.27227,     0.27327,     0.27427,     0.27528,     0.27628,     0.27728,     0.27828,     0.27928,     0.28028,     0.28128,     0.28228,     0.28328,     0.28428,     0.28529,     0.28629,     0.28729,\n",
      "           0.28829,     0.28929,     0.29029,     0.29129,     0.29229,     0.29329,     0.29429,      0.2953,      0.2963,      0.2973,      0.2983,      0.2993,      0.3003,      0.3013,      0.3023,      0.3033,      0.3043,     0.30531,     0.30631,     0.30731,     0.30831,     0.30931,     0.31031,     0.31131,\n",
      "           0.31231,     0.31331,     0.31431,     0.31532,     0.31632,     0.31732,     0.31832,     0.31932,     0.32032,     0.32132,     0.32232,     0.32332,     0.32432,     0.32533,     0.32633,     0.32733,     0.32833,     0.32933,     0.33033,     0.33133,     0.33233,     0.33333,     0.33433,     0.33534,\n",
      "           0.33634,     0.33734,     0.33834,     0.33934,     0.34034,     0.34134,     0.34234,     0.34334,     0.34434,     0.34535,     0.34635,     0.34735,     0.34835,     0.34935,     0.35035,     0.35135,     0.35235,     0.35335,     0.35435,     0.35536,     0.35636,     0.35736,     0.35836,     0.35936,\n",
      "           0.36036,     0.36136,     0.36236,     0.36336,     0.36436,     0.36537,     0.36637,     0.36737,     0.36837,     0.36937,     0.37037,     0.37137,     0.37237,     0.37337,     0.37437,     0.37538,     0.37638,     0.37738,     0.37838,     0.37938,     0.38038,     0.38138,     0.38238,     0.38338,\n",
      "           0.38438,     0.38539,     0.38639,     0.38739,     0.38839,     0.38939,     0.39039,     0.39139,     0.39239,     0.39339,     0.39439,      0.3954,      0.3964,      0.3974,      0.3984,      0.3994,      0.4004,      0.4014,      0.4024,      0.4034,      0.4044,     0.40541,     0.40641,     0.40741,\n",
      "           0.40841,     0.40941,     0.41041,     0.41141,     0.41241,     0.41341,     0.41441,     0.41542,     0.41642,     0.41742,     0.41842,     0.41942,     0.42042,     0.42142,     0.42242,     0.42342,     0.42442,     0.42543,     0.42643,     0.42743,     0.42843,     0.42943,     0.43043,     0.43143,\n",
      "           0.43243,     0.43343,     0.43443,     0.43544,     0.43644,     0.43744,     0.43844,     0.43944,     0.44044,     0.44144,     0.44244,     0.44344,     0.44444,     0.44545,     0.44645,     0.44745,     0.44845,     0.44945,     0.45045,     0.45145,     0.45245,     0.45345,     0.45445,     0.45546,\n",
      "           0.45646,     0.45746,     0.45846,     0.45946,     0.46046,     0.46146,     0.46246,     0.46346,     0.46446,     0.46547,     0.46647,     0.46747,     0.46847,     0.46947,     0.47047,     0.47147,     0.47247,     0.47347,     0.47447,     0.47548,     0.47648,     0.47748,     0.47848,     0.47948,\n",
      "           0.48048,     0.48148,     0.48248,     0.48348,     0.48448,     0.48549,     0.48649,     0.48749,     0.48849,     0.48949,     0.49049,     0.49149,     0.49249,     0.49349,     0.49449,      0.4955,      0.4965,      0.4975,      0.4985,      0.4995,      0.5005,      0.5015,      0.5025,      0.5035,\n",
      "            0.5045,     0.50551,     0.50651,     0.50751,     0.50851,     0.50951,     0.51051,     0.51151,     0.51251,     0.51351,     0.51451,     0.51552,     0.51652,     0.51752,     0.51852,     0.51952,     0.52052,     0.52152,     0.52252,     0.52352,     0.52452,     0.52553,     0.52653,     0.52753,\n",
      "           0.52853,     0.52953,     0.53053,     0.53153,     0.53253,     0.53353,     0.53453,     0.53554,     0.53654,     0.53754,     0.53854,     0.53954,     0.54054,     0.54154,     0.54254,     0.54354,     0.54454,     0.54555,     0.54655,     0.54755,     0.54855,     0.54955,     0.55055,     0.55155,\n",
      "           0.55255,     0.55355,     0.55455,     0.55556,     0.55656,     0.55756,     0.55856,     0.55956,     0.56056,     0.56156,     0.56256,     0.56356,     0.56456,     0.56557,     0.56657,     0.56757,     0.56857,     0.56957,     0.57057,     0.57157,     0.57257,     0.57357,     0.57457,     0.57558,\n",
      "           0.57658,     0.57758,     0.57858,     0.57958,     0.58058,     0.58158,     0.58258,     0.58358,     0.58458,     0.58559,     0.58659,     0.58759,     0.58859,     0.58959,     0.59059,     0.59159,     0.59259,     0.59359,     0.59459,      0.5956,      0.5966,      0.5976,      0.5986,      0.5996,\n",
      "            0.6006,      0.6016,      0.6026,      0.6036,      0.6046,     0.60561,     0.60661,     0.60761,     0.60861,     0.60961,     0.61061,     0.61161,     0.61261,     0.61361,     0.61461,     0.61562,     0.61662,     0.61762,     0.61862,     0.61962,     0.62062,     0.62162,     0.62262,     0.62362,\n",
      "           0.62462,     0.62563,     0.62663,     0.62763,     0.62863,     0.62963,     0.63063,     0.63163,     0.63263,     0.63363,     0.63463,     0.63564,     0.63664,     0.63764,     0.63864,     0.63964,     0.64064,     0.64164,     0.64264,     0.64364,     0.64464,     0.64565,     0.64665,     0.64765,\n",
      "           0.64865,     0.64965,     0.65065,     0.65165,     0.65265,     0.65365,     0.65465,     0.65566,     0.65666,     0.65766,     0.65866,     0.65966,     0.66066,     0.66166,     0.66266,     0.66366,     0.66466,     0.66567,     0.66667,     0.66767,     0.66867,     0.66967,     0.67067,     0.67167,\n",
      "           0.67267,     0.67367,     0.67467,     0.67568,     0.67668,     0.67768,     0.67868,     0.67968,     0.68068,     0.68168,     0.68268,     0.68368,     0.68468,     0.68569,     0.68669,     0.68769,     0.68869,     0.68969,     0.69069,     0.69169,     0.69269,     0.69369,     0.69469,      0.6957,\n",
      "            0.6967,      0.6977,      0.6987,      0.6997,      0.7007,      0.7017,      0.7027,      0.7037,      0.7047,     0.70571,     0.70671,     0.70771,     0.70871,     0.70971,     0.71071,     0.71171,     0.71271,     0.71371,     0.71471,     0.71572,     0.71672,     0.71772,     0.71872,     0.71972,\n",
      "           0.72072,     0.72172,     0.72272,     0.72372,     0.72472,     0.72573,     0.72673,     0.72773,     0.72873,     0.72973,     0.73073,     0.73173,     0.73273,     0.73373,     0.73473,     0.73574,     0.73674,     0.73774,     0.73874,     0.73974,     0.74074,     0.74174,     0.74274,     0.74374,\n",
      "           0.74474,     0.74575,     0.74675,     0.74775,     0.74875,     0.74975,     0.75075,     0.75175,     0.75275,     0.75375,     0.75475,     0.75576,     0.75676,     0.75776,     0.75876,     0.75976,     0.76076,     0.76176,     0.76276,     0.76376,     0.76476,     0.76577,     0.76677,     0.76777,\n",
      "           0.76877,     0.76977,     0.77077,     0.77177,     0.77277,     0.77377,     0.77477,     0.77578,     0.77678,     0.77778,     0.77878,     0.77978,     0.78078,     0.78178,     0.78278,     0.78378,     0.78478,     0.78579,     0.78679,     0.78779,     0.78879,     0.78979,     0.79079,     0.79179,\n",
      "           0.79279,     0.79379,     0.79479,      0.7958,      0.7968,      0.7978,      0.7988,      0.7998,      0.8008,      0.8018,      0.8028,      0.8038,      0.8048,     0.80581,     0.80681,     0.80781,     0.80881,     0.80981,     0.81081,     0.81181,     0.81281,     0.81381,     0.81481,     0.81582,\n",
      "           0.81682,     0.81782,     0.81882,     0.81982,     0.82082,     0.82182,     0.82282,     0.82382,     0.82482,     0.82583,     0.82683,     0.82783,     0.82883,     0.82983,     0.83083,     0.83183,     0.83283,     0.83383,     0.83483,     0.83584,     0.83684,     0.83784,     0.83884,     0.83984,\n",
      "           0.84084,     0.84184,     0.84284,     0.84384,     0.84484,     0.84585,     0.84685,     0.84785,     0.84885,     0.84985,     0.85085,     0.85185,     0.85285,     0.85385,     0.85485,     0.85586,     0.85686,     0.85786,     0.85886,     0.85986,     0.86086,     0.86186,     0.86286,     0.86386,\n",
      "           0.86486,     0.86587,     0.86687,     0.86787,     0.86887,     0.86987,     0.87087,     0.87187,     0.87287,     0.87387,     0.87487,     0.87588,     0.87688,     0.87788,     0.87888,     0.87988,     0.88088,     0.88188,     0.88288,     0.88388,     0.88488,     0.88589,     0.88689,     0.88789,\n",
      "           0.88889,     0.88989,     0.89089,     0.89189,     0.89289,     0.89389,     0.89489,      0.8959,      0.8969,      0.8979,      0.8989,      0.8999,      0.9009,      0.9019,      0.9029,      0.9039,      0.9049,     0.90591,     0.90691,     0.90791,     0.90891,     0.90991,     0.91091,     0.91191,\n",
      "           0.91291,     0.91391,     0.91491,     0.91592,     0.91692,     0.91792,     0.91892,     0.91992,     0.92092,     0.92192,     0.92292,     0.92392,     0.92492,     0.92593,     0.92693,     0.92793,     0.92893,     0.92993,     0.93093,     0.93193,     0.93293,     0.93393,     0.93493,     0.93594,\n",
      "           0.93694,     0.93794,     0.93894,     0.93994,     0.94094,     0.94194,     0.94294,     0.94394,     0.94494,     0.94595,     0.94695,     0.94795,     0.94895,     0.94995,     0.95095,     0.95195,     0.95295,     0.95395,     0.95495,     0.95596,     0.95696,     0.95796,     0.95896,     0.95996,\n",
      "           0.96096,     0.96196,     0.96296,     0.96396,     0.96496,     0.96597,     0.96697,     0.96797,     0.96897,     0.96997,     0.97097,     0.97197,     0.97297,     0.97397,     0.97497,     0.97598,     0.97698,     0.97798,     0.97898,     0.97998,     0.98098,     0.98198,     0.98298,     0.98398,\n",
      "           0.98498,     0.98599,     0.98699,     0.98799,     0.98899,     0.98999,     0.99099,     0.99199,     0.99299,     0.99399,     0.99499,       0.996,       0.997,       0.998,       0.999,           1]), array([[    0.35049,     0.35049,      0.4727,     0.53579,     0.58379,     0.61233,      0.6321,     0.64651,     0.66161,     0.67032,     0.67661,     0.69897,     0.71292,     0.72084,      0.7232,     0.72399,     0.72478,     0.72557,     0.72645,     0.72862,     0.73245,     0.73593,     0.73822,\n",
      "            0.73999,     0.74175,     0.74116,     0.74419,     0.75032,     0.75251,     0.75422,     0.75586,     0.75749,     0.75906,     0.76064,     0.76133,     0.76164,     0.76194,     0.76225,     0.76256,     0.76287,     0.76318,     0.76348,     0.76379,      0.7641,     0.76441,     0.76472,\n",
      "            0.76502,     0.76533,     0.76815,     0.77679,     0.78355,     0.78561,     0.78792,     0.79151,     0.80105,     0.80071,     0.80037,     0.80002,     0.80383,     0.80436,     0.80605,     0.80774,     0.80864,     0.80907,     0.80949,     0.80991,     0.81034,     0.81076,     0.81118,\n",
      "            0.81161,     0.81203,     0.81245,     0.81288,     0.81332,     0.81392,     0.81452,     0.81512,     0.81573,     0.81633,     0.81693,     0.81753,     0.81813,     0.82009,     0.82217,     0.82329,     0.82352,     0.82374,     0.82397,     0.82419,     0.82442,     0.82465,     0.82487,\n",
      "             0.8251,     0.82533,     0.82555,     0.82578,     0.82601,     0.82623,     0.82646,     0.82669,     0.82691,     0.82714,     0.82737,     0.82759,     0.82782,     0.82805,     0.82943,     0.83345,      0.8339,     0.83434,     0.83478,     0.83523,     0.83567,     0.83611,     0.83656,\n",
      "              0.837,     0.83744,     0.83789,     0.83833,     0.83897,     0.83974,     0.84051,     0.84128,     0.84205,     0.84282,     0.84359,     0.84356,     0.84332,     0.84309,     0.84285,     0.84263,     0.84241,      0.8422,     0.84198,     0.84178,     0.84219,      0.8426,     0.84301,\n",
      "            0.84342,     0.84383,     0.84424,     0.84465,     0.84506,     0.84547,     0.84589,      0.8463,     0.84671,     0.84712,     0.84802,     0.84894,     0.84986,     0.85078,      0.8517,      0.8529,     0.85806,     0.85802,     0.85798,     0.85794,      0.8579,     0.85786,     0.85782,\n",
      "            0.85778,     0.85774,      0.8577,     0.85766,     0.85762,     0.85758,     0.85754,      0.8575,     0.85746,     0.85742,     0.85738,     0.85734,      0.8573,     0.85726,     0.85722,     0.85718,     0.85728,     0.85832,     0.85936,      0.8604,     0.86144,     0.86248,     0.86213,\n",
      "            0.86263,     0.86313,     0.86363,     0.86413,     0.86463,     0.86513,     0.86562,     0.86612,     0.86662,     0.86712,     0.86738,     0.87063,     0.87245,     0.87241,     0.87237,     0.87233,      0.8723,     0.87226,     0.87222,     0.87218,     0.87214,      0.8721,     0.87206,\n",
      "            0.87202,     0.87199,     0.87195,     0.87191,     0.87187,     0.87183,     0.87179,     0.87175,     0.87171,     0.87167,     0.87164,     0.87184,     0.87217,      0.8725,     0.87283,     0.87317,      0.8735,     0.87383,     0.87417,      0.8745,     0.87483,     0.87516,      0.8755,\n",
      "            0.87583,     0.87616,     0.87649,     0.87683,     0.87716,     0.87749,      0.8778,     0.87811,     0.87842,     0.87872,     0.87903,     0.87933,     0.87964,     0.87995,     0.88025,     0.88056,     0.88087,     0.88117,     0.88148,     0.88179,     0.88209,      0.8824,      0.8827,\n",
      "            0.88301,     0.88332,     0.88356,     0.88354,     0.88353,     0.88351,     0.88349,     0.88348,     0.88346,     0.88344,     0.88343,     0.88341,     0.88339,     0.88338,     0.88336,     0.88334,     0.88333,     0.88331,     0.88329,     0.88328,     0.88326,     0.88324,     0.88323,\n",
      "            0.88321,      0.8832,     0.88318,     0.88316,     0.88315,     0.88313,     0.88311,      0.8831,     0.88308,     0.88306,     0.88305,     0.88303,     0.88301,       0.883,     0.88298,     0.88296,     0.88295,     0.88293,     0.88291,      0.8829,     0.88288,     0.88287,     0.88285,\n",
      "            0.88283,     0.88282,      0.8828,     0.88278,     0.88277,     0.88275,     0.88272,      0.8827,     0.88268,     0.88266,     0.88264,     0.88261,     0.88259,     0.88257,     0.88255,     0.88253,      0.8825,     0.88248,     0.88246,     0.88244,     0.88242,     0.88239,     0.88237,\n",
      "            0.88235,     0.88233,      0.8823,     0.88228,     0.88226,     0.88224,     0.88222,     0.88219,     0.88217,     0.88215,     0.88213,     0.88211,     0.88208,     0.88206,     0.88204,     0.88202,       0.882,     0.88197,     0.88195,     0.88194,     0.88192,     0.88191,      0.8819,\n",
      "            0.88188,     0.88187,     0.88186,     0.88185,     0.88183,     0.88182,     0.88181,     0.88179,     0.88178,     0.88177,     0.88176,     0.88174,     0.88173,     0.88172,      0.8817,     0.88169,     0.88168,     0.88167,     0.88165,     0.88164,     0.88163,     0.88161,      0.8816,\n",
      "            0.88159,     0.88158,     0.88156,     0.88155,     0.88154,     0.88153,     0.88151,      0.8815,     0.88149,     0.88147,     0.88146,     0.88145,     0.88144,     0.88142,     0.88141,      0.8814,     0.88138,     0.88137,     0.88136,     0.88135,     0.88133,     0.88132,     0.88131,\n",
      "            0.88129,     0.88128,     0.88127,     0.88126,     0.88124,     0.88123,     0.88122,      0.8812,     0.88119,     0.88118,     0.88117,     0.88115,     0.88114,     0.88113,     0.88115,     0.88125,     0.88135,     0.88145,     0.88155,     0.88165,     0.88175,     0.88185,     0.88194,\n",
      "            0.88204,     0.88214,     0.88224,     0.88234,     0.88244,     0.88254,     0.88264,     0.88274,     0.88284,     0.88293,     0.88303,     0.88313,     0.88323,     0.88333,     0.88343,     0.88353,     0.88363,     0.88373,     0.88383,     0.88392,     0.88402,     0.88412,     0.88422,\n",
      "            0.88432,     0.88442,     0.88452,     0.88462,     0.88472,     0.88482,     0.88492,     0.88501,     0.88511,     0.88521,     0.88531,     0.88541,     0.88551,     0.88561,     0.88571,     0.88581,     0.88591,       0.886,      0.8861,      0.8862,      0.8863,      0.8864,      0.8865,\n",
      "             0.8866,      0.8867,      0.8868,      0.8869,       0.887,     0.88709,     0.88719,     0.88729,     0.88731,     0.88728,     0.88726,     0.88723,     0.88721,     0.88718,     0.88716,     0.88714,     0.88711,     0.88709,     0.88706,     0.88704,     0.88701,     0.88699,     0.88696,\n",
      "            0.88694,     0.88691,     0.88689,     0.88687,     0.88684,     0.88682,     0.88679,     0.88677,     0.88674,     0.88672,     0.88669,     0.88667,     0.88664,     0.88662,      0.8866,     0.88657,     0.88655,     0.88662,     0.88738,     0.88814,     0.88891,     0.88967,     0.89043,\n",
      "            0.89119,     0.89196,     0.89272,     0.89282,     0.89277,     0.89272,     0.89267,     0.89262,     0.89257,     0.89252,     0.89247,     0.89242,     0.89237,     0.89232,     0.89227,     0.89222,     0.89217,     0.89212,     0.89206,     0.89199,     0.89192,     0.89185,     0.89177,\n",
      "             0.8917,     0.89163,     0.89156,     0.89149,     0.89142,     0.89134,      0.8913,     0.89129,     0.89129,     0.89128,     0.89128,     0.89127,     0.89126,     0.89126,     0.89125,     0.89124,     0.89124,     0.89123,     0.89122,     0.89122,     0.89121,      0.8912,      0.8912,\n",
      "            0.89119,     0.89118,     0.89118,     0.89117,     0.89116,     0.89116,     0.89115,     0.89114,     0.89114,     0.89113,     0.89112,     0.89112,     0.89111,      0.8911,      0.8911,     0.89109,     0.89108,     0.89108,     0.89107,     0.89106,     0.89106,     0.89105,     0.89104,\n",
      "            0.89104,     0.89103,     0.89102,     0.89102,     0.89101,     0.89101,       0.891,     0.89099,     0.89099,     0.89098,     0.89097,     0.89097,     0.89096,     0.89095,     0.89095,     0.89094,     0.89093,     0.89093,     0.89092,     0.89091,     0.89091,      0.8909,     0.89089,\n",
      "            0.89089,     0.89088,     0.89087,     0.89087,     0.89086,     0.89085,     0.89085,     0.89084,     0.89083,     0.89083,     0.89082,     0.89081,     0.89081,      0.8908,     0.89079,     0.89079,     0.89078,     0.89077,     0.89077,     0.89076,     0.89075,     0.89075,     0.89074,\n",
      "            0.89074,     0.89073,     0.89072,     0.89072,     0.89071,      0.8907,      0.8907,     0.89069,     0.89068,     0.89068,     0.89067,     0.89066,     0.89066,     0.89065,     0.89064,     0.89064,     0.89063,     0.89062,     0.89062,     0.89061,      0.8906,      0.8906,     0.89059,\n",
      "            0.89058,     0.89058,     0.89057,     0.89056,     0.89056,     0.89055,     0.89054,     0.89054,     0.89053,     0.89052,     0.89052,     0.89051,     0.88976,     0.88977,     0.88984,     0.88991,     0.88998,     0.89005,     0.89012,     0.89019,     0.89025,     0.89032,     0.89039,\n",
      "            0.89046,     0.89053,      0.8906,     0.89067,     0.89074,     0.89081,     0.89088,     0.89095,     0.89102,     0.89109,     0.89115,     0.89122,     0.89129,     0.89136,     0.89143,      0.8915,     0.89157,     0.89164,     0.89171,     0.89178,     0.89185,     0.89192,     0.89198,\n",
      "            0.89205,     0.89212,     0.89219,     0.89226,     0.89233,      0.8924,     0.89247,     0.89254,     0.89261,     0.89268,     0.89275,     0.89282,     0.89288,     0.89295,     0.89302,     0.89309,     0.89316,     0.89323,      0.8933,     0.89337,     0.89344,     0.89351,     0.89358,\n",
      "            0.89365,     0.89371,     0.89378,     0.89385,     0.89392,     0.89399,     0.89406,     0.89413,      0.8942,     0.89427,     0.89434,     0.89441,     0.89448,     0.89455,     0.89461,     0.89468,     0.89475,     0.89482,     0.89489,     0.89496,     0.89503,      0.8951,     0.89517,\n",
      "            0.89524,     0.89531,     0.89538,     0.89545,     0.89551,     0.89558,     0.89565,     0.89572,     0.89579,     0.89586,     0.89593,       0.896,     0.89607,     0.89614,     0.89621,     0.89628,     0.89606,     0.89573,     0.89545,     0.89526,     0.89506,     0.89487,     0.89605,\n",
      "            0.90034,     0.90148,     0.90144,     0.90139,     0.90135,     0.90131,     0.90126,     0.90122,     0.90117,     0.90113,     0.90109,     0.90104,       0.901,     0.90095,     0.90091,     0.90086,     0.90082,     0.90078,     0.90054,     0.90024,     0.89989,     0.89944,     0.89921,\n",
      "            0.89918,     0.89915,     0.89911,     0.89908,     0.89905,     0.89902,     0.89899,     0.89896,     0.89893,      0.8989,     0.89886,     0.89883,      0.8988,     0.89877,     0.89874,     0.89871,     0.89868,     0.89865,     0.89861,     0.89858,     0.89855,     0.89852,     0.89849,\n",
      "            0.89846,     0.89838,     0.89823,     0.89807,     0.89792,     0.89776,     0.89839,     0.90204,     0.90491,     0.90552,     0.90612,     0.90673,     0.90733,     0.90793,     0.90854,     0.90914,     0.90975,     0.91035,     0.91096,     0.91156,     0.91196,      0.9118,     0.91165,\n",
      "             0.9115,     0.91134,     0.91124,     0.91116,     0.91108,       0.911,     0.91092,     0.91084,     0.91076,     0.91068,      0.9106,     0.91302,     0.91675,     0.91951,     0.92176,     0.92401,     0.92558,     0.92546,     0.92533,     0.92521,     0.92508,     0.92479,     0.92714,\n",
      "            0.94016,     0.93996,     0.93977,     0.93942,     0.93903,     0.93883,     0.93864,     0.93845,     0.93826,     0.93807,     0.93799,     0.93791,     0.93783,     0.93776,     0.93768,     0.93761,     0.93753,     0.93728,     0.93793,     0.94543,     0.94524,     0.94505,     0.94469,\n",
      "            0.94428,       0.944,     0.94358,     0.94334,     0.94325,     0.94317,     0.94308,     0.94299,      0.9429,     0.94273,     0.94248,     0.94183,     0.94145,     0.94114,     0.94086,     0.94094,     0.94962,     0.94931,     0.94908,      0.9587,      0.9585,     0.95821,     0.95741,\n",
      "            0.95649,     0.95641,     0.95632,     0.95623,     0.95615,     0.95606,     0.95585,      0.9556,     0.95539,     0.95519,     0.95452,       0.954,      0.9538,      0.9536,     0.95282,     0.95229,     0.95189,     0.95059,     0.95025,     0.94867,     0.94825,     0.94762,     0.94639,\n",
      "            0.94568,     0.94506,     0.94457,     0.95685,     0.95573,     0.95541,     0.95425,     0.95352,     0.95301,     0.95224,     0.95181,     0.95002,     0.94735,       0.947,     0.94665,     0.96294,     0.96231,     0.96054,     0.95834,     0.95755,     0.95622,     0.95318,     0.95031,\n",
      "             0.9735,     0.97285,     0.97248,     0.97134,     0.96913,     0.96242,     0.95943,      0.9571,     0.98202,           1,           1,           1,           1,           1,           1,           1,           1,           1,           1,           1,           1,           1,           1,\n",
      "                  1,           1,           1,           1,           1,           1,           1,           1,           1,           1,           1,           1,           1,           1,           1,           1,           1,           1,           1,           1,           1,           1,           1,\n",
      "                  1,           1,           1,           1,           1,           1,           1,           1,           1,           1,           1]]), 'Confidence', 'Precision'], [array([          0,    0.001001,    0.002002,    0.003003,    0.004004,    0.005005,    0.006006,    0.007007,    0.008008,    0.009009,     0.01001,    0.011011,    0.012012,    0.013013,    0.014014,    0.015015,    0.016016,    0.017017,    0.018018,    0.019019,     0.02002,    0.021021,    0.022022,    0.023023,\n",
      "          0.024024,    0.025025,    0.026026,    0.027027,    0.028028,    0.029029,     0.03003,    0.031031,    0.032032,    0.033033,    0.034034,    0.035035,    0.036036,    0.037037,    0.038038,    0.039039,     0.04004,    0.041041,    0.042042,    0.043043,    0.044044,    0.045045,    0.046046,    0.047047,\n",
      "          0.048048,    0.049049,     0.05005,    0.051051,    0.052052,    0.053053,    0.054054,    0.055055,    0.056056,    0.057057,    0.058058,    0.059059,     0.06006,    0.061061,    0.062062,    0.063063,    0.064064,    0.065065,    0.066066,    0.067067,    0.068068,    0.069069,     0.07007,    0.071071,\n",
      "          0.072072,    0.073073,    0.074074,    0.075075,    0.076076,    0.077077,    0.078078,    0.079079,     0.08008,    0.081081,    0.082082,    0.083083,    0.084084,    0.085085,    0.086086,    0.087087,    0.088088,    0.089089,     0.09009,    0.091091,    0.092092,    0.093093,    0.094094,    0.095095,\n",
      "          0.096096,    0.097097,    0.098098,    0.099099,      0.1001,      0.1011,      0.1021,      0.1031,      0.1041,     0.10511,     0.10611,     0.10711,     0.10811,     0.10911,     0.11011,     0.11111,     0.11211,     0.11311,     0.11411,     0.11512,     0.11612,     0.11712,     0.11812,     0.11912,\n",
      "           0.12012,     0.12112,     0.12212,     0.12312,     0.12412,     0.12513,     0.12613,     0.12713,     0.12813,     0.12913,     0.13013,     0.13113,     0.13213,     0.13313,     0.13413,     0.13514,     0.13614,     0.13714,     0.13814,     0.13914,     0.14014,     0.14114,     0.14214,     0.14314,\n",
      "           0.14414,     0.14515,     0.14615,     0.14715,     0.14815,     0.14915,     0.15015,     0.15115,     0.15215,     0.15315,     0.15415,     0.15516,     0.15616,     0.15716,     0.15816,     0.15916,     0.16016,     0.16116,     0.16216,     0.16316,     0.16416,     0.16517,     0.16617,     0.16717,\n",
      "           0.16817,     0.16917,     0.17017,     0.17117,     0.17217,     0.17317,     0.17417,     0.17518,     0.17618,     0.17718,     0.17818,     0.17918,     0.18018,     0.18118,     0.18218,     0.18318,     0.18418,     0.18519,     0.18619,     0.18719,     0.18819,     0.18919,     0.19019,     0.19119,\n",
      "           0.19219,     0.19319,     0.19419,      0.1952,      0.1962,      0.1972,      0.1982,      0.1992,      0.2002,      0.2012,      0.2022,      0.2032,      0.2042,     0.20521,     0.20621,     0.20721,     0.20821,     0.20921,     0.21021,     0.21121,     0.21221,     0.21321,     0.21421,     0.21522,\n",
      "           0.21622,     0.21722,     0.21822,     0.21922,     0.22022,     0.22122,     0.22222,     0.22322,     0.22422,     0.22523,     0.22623,     0.22723,     0.22823,     0.22923,     0.23023,     0.23123,     0.23223,     0.23323,     0.23423,     0.23524,     0.23624,     0.23724,     0.23824,     0.23924,\n",
      "           0.24024,     0.24124,     0.24224,     0.24324,     0.24424,     0.24525,     0.24625,     0.24725,     0.24825,     0.24925,     0.25025,     0.25125,     0.25225,     0.25325,     0.25425,     0.25526,     0.25626,     0.25726,     0.25826,     0.25926,     0.26026,     0.26126,     0.26226,     0.26326,\n",
      "           0.26426,     0.26527,     0.26627,     0.26727,     0.26827,     0.26927,     0.27027,     0.27127,     0.27227,     0.27327,     0.27427,     0.27528,     0.27628,     0.27728,     0.27828,     0.27928,     0.28028,     0.28128,     0.28228,     0.28328,     0.28428,     0.28529,     0.28629,     0.28729,\n",
      "           0.28829,     0.28929,     0.29029,     0.29129,     0.29229,     0.29329,     0.29429,      0.2953,      0.2963,      0.2973,      0.2983,      0.2993,      0.3003,      0.3013,      0.3023,      0.3033,      0.3043,     0.30531,     0.30631,     0.30731,     0.30831,     0.30931,     0.31031,     0.31131,\n",
      "           0.31231,     0.31331,     0.31431,     0.31532,     0.31632,     0.31732,     0.31832,     0.31932,     0.32032,     0.32132,     0.32232,     0.32332,     0.32432,     0.32533,     0.32633,     0.32733,     0.32833,     0.32933,     0.33033,     0.33133,     0.33233,     0.33333,     0.33433,     0.33534,\n",
      "           0.33634,     0.33734,     0.33834,     0.33934,     0.34034,     0.34134,     0.34234,     0.34334,     0.34434,     0.34535,     0.34635,     0.34735,     0.34835,     0.34935,     0.35035,     0.35135,     0.35235,     0.35335,     0.35435,     0.35536,     0.35636,     0.35736,     0.35836,     0.35936,\n",
      "           0.36036,     0.36136,     0.36236,     0.36336,     0.36436,     0.36537,     0.36637,     0.36737,     0.36837,     0.36937,     0.37037,     0.37137,     0.37237,     0.37337,     0.37437,     0.37538,     0.37638,     0.37738,     0.37838,     0.37938,     0.38038,     0.38138,     0.38238,     0.38338,\n",
      "           0.38438,     0.38539,     0.38639,     0.38739,     0.38839,     0.38939,     0.39039,     0.39139,     0.39239,     0.39339,     0.39439,      0.3954,      0.3964,      0.3974,      0.3984,      0.3994,      0.4004,      0.4014,      0.4024,      0.4034,      0.4044,     0.40541,     0.40641,     0.40741,\n",
      "           0.40841,     0.40941,     0.41041,     0.41141,     0.41241,     0.41341,     0.41441,     0.41542,     0.41642,     0.41742,     0.41842,     0.41942,     0.42042,     0.42142,     0.42242,     0.42342,     0.42442,     0.42543,     0.42643,     0.42743,     0.42843,     0.42943,     0.43043,     0.43143,\n",
      "           0.43243,     0.43343,     0.43443,     0.43544,     0.43644,     0.43744,     0.43844,     0.43944,     0.44044,     0.44144,     0.44244,     0.44344,     0.44444,     0.44545,     0.44645,     0.44745,     0.44845,     0.44945,     0.45045,     0.45145,     0.45245,     0.45345,     0.45445,     0.45546,\n",
      "           0.45646,     0.45746,     0.45846,     0.45946,     0.46046,     0.46146,     0.46246,     0.46346,     0.46446,     0.46547,     0.46647,     0.46747,     0.46847,     0.46947,     0.47047,     0.47147,     0.47247,     0.47347,     0.47447,     0.47548,     0.47648,     0.47748,     0.47848,     0.47948,\n",
      "           0.48048,     0.48148,     0.48248,     0.48348,     0.48448,     0.48549,     0.48649,     0.48749,     0.48849,     0.48949,     0.49049,     0.49149,     0.49249,     0.49349,     0.49449,      0.4955,      0.4965,      0.4975,      0.4985,      0.4995,      0.5005,      0.5015,      0.5025,      0.5035,\n",
      "            0.5045,     0.50551,     0.50651,     0.50751,     0.50851,     0.50951,     0.51051,     0.51151,     0.51251,     0.51351,     0.51451,     0.51552,     0.51652,     0.51752,     0.51852,     0.51952,     0.52052,     0.52152,     0.52252,     0.52352,     0.52452,     0.52553,     0.52653,     0.52753,\n",
      "           0.52853,     0.52953,     0.53053,     0.53153,     0.53253,     0.53353,     0.53453,     0.53554,     0.53654,     0.53754,     0.53854,     0.53954,     0.54054,     0.54154,     0.54254,     0.54354,     0.54454,     0.54555,     0.54655,     0.54755,     0.54855,     0.54955,     0.55055,     0.55155,\n",
      "           0.55255,     0.55355,     0.55455,     0.55556,     0.55656,     0.55756,     0.55856,     0.55956,     0.56056,     0.56156,     0.56256,     0.56356,     0.56456,     0.56557,     0.56657,     0.56757,     0.56857,     0.56957,     0.57057,     0.57157,     0.57257,     0.57357,     0.57457,     0.57558,\n",
      "           0.57658,     0.57758,     0.57858,     0.57958,     0.58058,     0.58158,     0.58258,     0.58358,     0.58458,     0.58559,     0.58659,     0.58759,     0.58859,     0.58959,     0.59059,     0.59159,     0.59259,     0.59359,     0.59459,      0.5956,      0.5966,      0.5976,      0.5986,      0.5996,\n",
      "            0.6006,      0.6016,      0.6026,      0.6036,      0.6046,     0.60561,     0.60661,     0.60761,     0.60861,     0.60961,     0.61061,     0.61161,     0.61261,     0.61361,     0.61461,     0.61562,     0.61662,     0.61762,     0.61862,     0.61962,     0.62062,     0.62162,     0.62262,     0.62362,\n",
      "           0.62462,     0.62563,     0.62663,     0.62763,     0.62863,     0.62963,     0.63063,     0.63163,     0.63263,     0.63363,     0.63463,     0.63564,     0.63664,     0.63764,     0.63864,     0.63964,     0.64064,     0.64164,     0.64264,     0.64364,     0.64464,     0.64565,     0.64665,     0.64765,\n",
      "           0.64865,     0.64965,     0.65065,     0.65165,     0.65265,     0.65365,     0.65465,     0.65566,     0.65666,     0.65766,     0.65866,     0.65966,     0.66066,     0.66166,     0.66266,     0.66366,     0.66466,     0.66567,     0.66667,     0.66767,     0.66867,     0.66967,     0.67067,     0.67167,\n",
      "           0.67267,     0.67367,     0.67467,     0.67568,     0.67668,     0.67768,     0.67868,     0.67968,     0.68068,     0.68168,     0.68268,     0.68368,     0.68468,     0.68569,     0.68669,     0.68769,     0.68869,     0.68969,     0.69069,     0.69169,     0.69269,     0.69369,     0.69469,      0.6957,\n",
      "            0.6967,      0.6977,      0.6987,      0.6997,      0.7007,      0.7017,      0.7027,      0.7037,      0.7047,     0.70571,     0.70671,     0.70771,     0.70871,     0.70971,     0.71071,     0.71171,     0.71271,     0.71371,     0.71471,     0.71572,     0.71672,     0.71772,     0.71872,     0.71972,\n",
      "           0.72072,     0.72172,     0.72272,     0.72372,     0.72472,     0.72573,     0.72673,     0.72773,     0.72873,     0.72973,     0.73073,     0.73173,     0.73273,     0.73373,     0.73473,     0.73574,     0.73674,     0.73774,     0.73874,     0.73974,     0.74074,     0.74174,     0.74274,     0.74374,\n",
      "           0.74474,     0.74575,     0.74675,     0.74775,     0.74875,     0.74975,     0.75075,     0.75175,     0.75275,     0.75375,     0.75475,     0.75576,     0.75676,     0.75776,     0.75876,     0.75976,     0.76076,     0.76176,     0.76276,     0.76376,     0.76476,     0.76577,     0.76677,     0.76777,\n",
      "           0.76877,     0.76977,     0.77077,     0.77177,     0.77277,     0.77377,     0.77477,     0.77578,     0.77678,     0.77778,     0.77878,     0.77978,     0.78078,     0.78178,     0.78278,     0.78378,     0.78478,     0.78579,     0.78679,     0.78779,     0.78879,     0.78979,     0.79079,     0.79179,\n",
      "           0.79279,     0.79379,     0.79479,      0.7958,      0.7968,      0.7978,      0.7988,      0.7998,      0.8008,      0.8018,      0.8028,      0.8038,      0.8048,     0.80581,     0.80681,     0.80781,     0.80881,     0.80981,     0.81081,     0.81181,     0.81281,     0.81381,     0.81481,     0.81582,\n",
      "           0.81682,     0.81782,     0.81882,     0.81982,     0.82082,     0.82182,     0.82282,     0.82382,     0.82482,     0.82583,     0.82683,     0.82783,     0.82883,     0.82983,     0.83083,     0.83183,     0.83283,     0.83383,     0.83483,     0.83584,     0.83684,     0.83784,     0.83884,     0.83984,\n",
      "           0.84084,     0.84184,     0.84284,     0.84384,     0.84484,     0.84585,     0.84685,     0.84785,     0.84885,     0.84985,     0.85085,     0.85185,     0.85285,     0.85385,     0.85485,     0.85586,     0.85686,     0.85786,     0.85886,     0.85986,     0.86086,     0.86186,     0.86286,     0.86386,\n",
      "           0.86486,     0.86587,     0.86687,     0.86787,     0.86887,     0.86987,     0.87087,     0.87187,     0.87287,     0.87387,     0.87487,     0.87588,     0.87688,     0.87788,     0.87888,     0.87988,     0.88088,     0.88188,     0.88288,     0.88388,     0.88488,     0.88589,     0.88689,     0.88789,\n",
      "           0.88889,     0.88989,     0.89089,     0.89189,     0.89289,     0.89389,     0.89489,      0.8959,      0.8969,      0.8979,      0.8989,      0.8999,      0.9009,      0.9019,      0.9029,      0.9039,      0.9049,     0.90591,     0.90691,     0.90791,     0.90891,     0.90991,     0.91091,     0.91191,\n",
      "           0.91291,     0.91391,     0.91491,     0.91592,     0.91692,     0.91792,     0.91892,     0.91992,     0.92092,     0.92192,     0.92292,     0.92392,     0.92492,     0.92593,     0.92693,     0.92793,     0.92893,     0.92993,     0.93093,     0.93193,     0.93293,     0.93393,     0.93493,     0.93594,\n",
      "           0.93694,     0.93794,     0.93894,     0.93994,     0.94094,     0.94194,     0.94294,     0.94394,     0.94494,     0.94595,     0.94695,     0.94795,     0.94895,     0.94995,     0.95095,     0.95195,     0.95295,     0.95395,     0.95495,     0.95596,     0.95696,     0.95796,     0.95896,     0.95996,\n",
      "           0.96096,     0.96196,     0.96296,     0.96396,     0.96496,     0.96597,     0.96697,     0.96797,     0.96897,     0.96997,     0.97097,     0.97197,     0.97297,     0.97397,     0.97497,     0.97598,     0.97698,     0.97798,     0.97898,     0.97998,     0.98098,     0.98198,     0.98298,     0.98398,\n",
      "           0.98498,     0.98599,     0.98699,     0.98799,     0.98899,     0.98999,     0.99099,     0.99199,     0.99299,     0.99399,     0.99499,       0.996,       0.997,       0.998,       0.999,           1]), array([[    0.94702,     0.94702,      0.9404,      0.9404,     0.93377,     0.92715,     0.92715,     0.92053,     0.91391,     0.91391,     0.91391,     0.91391,     0.91391,     0.91391,     0.91391,     0.91391,     0.91391,     0.91391,     0.91391,     0.91391,     0.91391,     0.91391,     0.91391,\n",
      "            0.91391,     0.91391,     0.90728,     0.90728,     0.90728,     0.90728,     0.90728,     0.90728,     0.90728,     0.90728,     0.90728,     0.90728,     0.90728,     0.90728,     0.90728,     0.90728,     0.90728,     0.90728,     0.90728,     0.90728,     0.90728,     0.90728,     0.90728,\n",
      "            0.90728,     0.90728,     0.90728,     0.90728,     0.90728,     0.90728,     0.90728,     0.90728,     0.90658,     0.90466,     0.90273,      0.9008,     0.90066,     0.89404,     0.89404,     0.89404,     0.89404,     0.89404,     0.89404,     0.89404,     0.89404,     0.89404,     0.89404,\n",
      "            0.89404,     0.89404,     0.89404,     0.89404,     0.89404,     0.89404,     0.89404,     0.89404,     0.89404,     0.89404,     0.89404,     0.89404,     0.89404,     0.89404,     0.89404,     0.89404,     0.89404,     0.89404,     0.89404,     0.89404,     0.89404,     0.89404,     0.89404,\n",
      "            0.89404,     0.89404,     0.89404,     0.89404,     0.89404,     0.89404,     0.89404,     0.89404,     0.89404,     0.89404,     0.89404,     0.89404,     0.89404,     0.89404,     0.89404,     0.89404,     0.89404,     0.89404,     0.89404,     0.89404,     0.89404,     0.89404,     0.89404,\n",
      "            0.89404,     0.89404,     0.89404,     0.89404,     0.89404,     0.89404,     0.89404,     0.89404,     0.89404,     0.89404,     0.89404,     0.89276,     0.89116,     0.88956,     0.88796,     0.88648,     0.88505,     0.88362,     0.88219,     0.88079,     0.88079,     0.88079,     0.88079,\n",
      "            0.88079,     0.88079,     0.88079,     0.88079,     0.88079,     0.88079,     0.88079,     0.88079,     0.88079,     0.88079,     0.88079,     0.88079,     0.88079,     0.88079,     0.88079,     0.88079,     0.88079,      0.8805,     0.88021,     0.87992,     0.87964,     0.87935,     0.87906,\n",
      "            0.87877,     0.87848,     0.87819,      0.8779,     0.87761,     0.87732,     0.87703,     0.87674,     0.87645,     0.87616,     0.87587,     0.87558,     0.87529,       0.875,     0.87471,     0.87442,     0.87417,     0.87417,     0.87417,     0.87417,     0.87417,     0.87417,     0.86755,\n",
      "            0.86755,     0.86755,     0.86755,     0.86755,     0.86755,     0.86755,     0.86755,     0.86755,     0.86755,     0.86755,      0.8663,     0.86093,     0.86068,     0.86038,     0.86009,     0.85979,     0.85949,     0.85919,     0.85889,     0.85859,     0.85829,     0.85799,      0.8577,\n",
      "             0.8574,      0.8571,      0.8568,      0.8565,      0.8562,      0.8559,     0.85561,     0.85531,     0.85501,     0.85471,     0.85441,      0.8543,      0.8543,      0.8543,      0.8543,      0.8543,      0.8543,      0.8543,      0.8543,      0.8543,      0.8543,      0.8543,      0.8543,\n",
      "             0.8543,      0.8543,      0.8543,      0.8543,      0.8543,      0.8543,      0.8543,      0.8543,      0.8543,      0.8543,      0.8543,      0.8543,      0.8543,      0.8543,      0.8543,      0.8543,      0.8543,      0.8543,      0.8543,      0.8543,      0.8543,      0.8543,      0.8543,\n",
      "             0.8543,      0.8543,     0.85428,     0.85414,       0.854,     0.85387,     0.85373,      0.8536,     0.85346,     0.85332,     0.85319,     0.85305,     0.85292,     0.85278,     0.85264,     0.85251,     0.85237,     0.85224,      0.8521,     0.85196,     0.85183,     0.85169,     0.85156,\n",
      "            0.85142,     0.85128,     0.85115,     0.85101,     0.85088,     0.85074,      0.8506,     0.85047,     0.85033,     0.85019,     0.85006,     0.84992,     0.84979,     0.84965,     0.84951,     0.84938,     0.84924,     0.84911,     0.84897,     0.84883,      0.8487,     0.84856,     0.84843,\n",
      "            0.84829,     0.84815,     0.84802,     0.84788,     0.84775,     0.84759,     0.84741,     0.84723,     0.84705,     0.84687,     0.84669,     0.84651,     0.84633,     0.84615,     0.84597,     0.84579,     0.84561,     0.84543,     0.84525,     0.84507,     0.84489,     0.84471,     0.84453,\n",
      "            0.84435,     0.84417,     0.84399,     0.84381,     0.84363,     0.84345,     0.84327,     0.84309,     0.84291,     0.84273,     0.84255,     0.84238,      0.8422,     0.84202,     0.84184,     0.84166,     0.84148,      0.8413,     0.84112,     0.84099,     0.84089,     0.84078,     0.84068,\n",
      "            0.84058,     0.84048,     0.84037,     0.84027,     0.84017,     0.84006,     0.83996,     0.83986,     0.83975,     0.83965,     0.83955,     0.83945,     0.83934,     0.83924,     0.83914,     0.83903,     0.83893,     0.83883,     0.83873,     0.83862,     0.83852,     0.83842,     0.83831,\n",
      "            0.83821,     0.83811,     0.83801,      0.8379,      0.8378,      0.8377,     0.83759,     0.83749,     0.83739,     0.83728,     0.83718,     0.83708,     0.83698,     0.83687,     0.83677,     0.83667,     0.83656,     0.83646,     0.83636,     0.83626,     0.83615,     0.83605,     0.83595,\n",
      "            0.83584,     0.83574,     0.83564,     0.83554,     0.83543,     0.83533,     0.83523,     0.83512,     0.83502,     0.83492,     0.83481,     0.83471,     0.83461,     0.83451,     0.83444,     0.83444,     0.83444,     0.83444,     0.83444,     0.83444,     0.83444,     0.83444,     0.83444,\n",
      "            0.83444,     0.83444,     0.83444,     0.83444,     0.83444,     0.83444,     0.83444,     0.83444,     0.83444,     0.83444,     0.83444,     0.83444,     0.83444,     0.83444,     0.83444,     0.83444,     0.83444,     0.83444,     0.83444,     0.83444,     0.83444,     0.83444,     0.83444,\n",
      "            0.83444,     0.83444,     0.83444,     0.83444,     0.83444,     0.83444,     0.83444,     0.83444,     0.83444,     0.83444,     0.83444,     0.83444,     0.83444,     0.83444,     0.83444,     0.83444,     0.83444,     0.83444,     0.83444,     0.83444,     0.83444,     0.83444,     0.83444,\n",
      "            0.83444,     0.83444,     0.83444,     0.83444,     0.83444,     0.83444,     0.83444,     0.83444,      0.8343,      0.8341,     0.83389,     0.83369,     0.83348,     0.83328,     0.83308,     0.83287,     0.83267,     0.83247,     0.83226,     0.83206,     0.83186,     0.83165,     0.83145,\n",
      "            0.83125,     0.83104,     0.83084,     0.83064,     0.83043,     0.83023,     0.83003,     0.82982,     0.82962,     0.82942,     0.82921,     0.82901,     0.82881,      0.8286,      0.8284,      0.8282,     0.82799,     0.82781,     0.82781,     0.82781,     0.82781,     0.82781,     0.82781,\n",
      "            0.82781,     0.82781,     0.82781,     0.82746,     0.82704,     0.82661,     0.82618,     0.82575,     0.82532,     0.82489,     0.82446,     0.82403,     0.82361,     0.82318,     0.82275,     0.82232,     0.82189,     0.82146,     0.82097,     0.82036,     0.81976,     0.81915,     0.81854,\n",
      "            0.81794,     0.81733,     0.81673,     0.81612,     0.81551,     0.81491,     0.81455,     0.81449,     0.81444,     0.81438,     0.81433,     0.81427,     0.81422,     0.81416,     0.81411,     0.81405,       0.814,     0.81394,     0.81389,     0.81383,     0.81378,     0.81372,     0.81367,\n",
      "            0.81361,     0.81356,      0.8135,     0.81345,     0.81339,     0.81334,     0.81328,     0.81323,     0.81317,     0.81312,     0.81306,     0.81301,     0.81295,      0.8129,     0.81284,     0.81279,     0.81273,     0.81268,     0.81262,     0.81257,     0.81251,     0.81246,      0.8124,\n",
      "            0.81235,     0.81229,     0.81224,     0.81218,     0.81213,     0.81207,     0.81202,     0.81196,     0.81191,     0.81185,      0.8118,     0.81174,     0.81169,     0.81163,     0.81158,     0.81152,     0.81147,     0.81141,     0.81136,      0.8113,     0.81125,     0.81119,     0.81114,\n",
      "            0.81108,     0.81103,     0.81097,     0.81092,     0.81086,     0.81081,     0.81075,      0.8107,     0.81064,     0.81059,     0.81053,     0.81048,     0.81042,     0.81037,     0.81031,     0.81026,      0.8102,     0.81015,     0.81009,     0.81004,     0.80998,     0.80993,     0.80987,\n",
      "            0.80982,     0.80976,     0.80971,     0.80965,      0.8096,     0.80954,     0.80949,     0.80943,     0.80938,     0.80932,     0.80927,     0.80921,     0.80916,      0.8091,     0.80905,     0.80899,     0.80894,     0.80888,     0.80883,     0.80877,     0.80872,     0.80866,     0.80861,\n",
      "            0.80855,      0.8085,     0.80844,     0.80839,     0.80833,     0.80828,     0.80822,     0.80817,     0.80811,     0.80806,       0.808,     0.80795,     0.80178,     0.80132,     0.80132,     0.80132,     0.80132,     0.80132,     0.80132,     0.80132,     0.80132,     0.80132,     0.80132,\n",
      "            0.80132,     0.80132,     0.80132,     0.80132,     0.80132,     0.80132,     0.80132,     0.80132,     0.80132,     0.80132,     0.80132,     0.80132,     0.80132,     0.80132,     0.80132,     0.80132,     0.80132,     0.80132,     0.80132,     0.80132,     0.80132,     0.80132,     0.80132,\n",
      "            0.80132,     0.80132,     0.80132,     0.80132,     0.80132,     0.80132,     0.80132,     0.80132,     0.80132,     0.80132,     0.80132,     0.80132,     0.80132,     0.80132,     0.80132,     0.80132,     0.80132,     0.80132,     0.80132,     0.80132,     0.80132,     0.80132,     0.80132,\n",
      "            0.80132,     0.80132,     0.80132,     0.80132,     0.80132,     0.80132,     0.80132,     0.80132,     0.80132,     0.80132,     0.80132,     0.80132,     0.80132,     0.80132,     0.80132,     0.80132,     0.80132,     0.80132,     0.80132,     0.80132,     0.80132,     0.80132,     0.80132,\n",
      "            0.80132,     0.80132,     0.80132,     0.80132,     0.80132,     0.80132,     0.80132,     0.80132,     0.80132,     0.80132,     0.80132,     0.80132,     0.80132,     0.80132,     0.80132,     0.80132,     0.79933,     0.79648,     0.79409,     0.79247,     0.79084,     0.78921,     0.78808,\n",
      "            0.78808,      0.7878,     0.78741,     0.78702,     0.78663,     0.78624,     0.78585,     0.78546,     0.78507,     0.78468,     0.78429,      0.7839,     0.78351,     0.78312,     0.78273,     0.78234,     0.78195,     0.78156,     0.77953,     0.77687,     0.77394,     0.77008,     0.76808,\n",
      "            0.76781,     0.76755,     0.76729,     0.76702,     0.76676,      0.7665,     0.76623,     0.76597,     0.76571,     0.76544,     0.76518,     0.76492,     0.76466,     0.76439,     0.76413,     0.76387,      0.7636,     0.76334,     0.76308,     0.76281,     0.76255,     0.76229,     0.76202,\n",
      "            0.76176,     0.76114,     0.75985,     0.75857,     0.75728,     0.75599,     0.75497,     0.75497,     0.75497,     0.75497,     0.75497,     0.75497,     0.75497,     0.75497,     0.75497,     0.75497,     0.75497,     0.75497,     0.75497,     0.75497,     0.75458,     0.75314,     0.75171,\n",
      "            0.75027,     0.74884,     0.74786,     0.74713,     0.74639,     0.74565,     0.74492,     0.74418,     0.74345,     0.74271,     0.74198,     0.74172,     0.74172,     0.74172,     0.74172,     0.74172,     0.74134,        0.74,     0.73866,     0.73733,     0.73599,     0.73286,     0.72848,\n",
      "            0.72828,     0.72583,     0.72338,     0.71893,     0.71397,     0.71155,     0.70913,     0.70681,     0.70453,     0.70225,     0.70118,     0.70028,     0.69937,     0.69846,     0.69756,     0.69665,     0.69574,     0.69273,     0.68874,     0.68845,     0.68595,     0.68345,     0.67874,\n",
      "            0.67346,     0.66977,     0.66451,     0.66159,      0.6605,     0.65941,     0.65832,     0.65723,     0.65614,     0.65408,     0.65114,     0.64341,     0.63892,     0.63535,     0.63222,     0.62914,     0.62421,     0.62015,     0.61723,      0.6149,     0.61181,     0.60744,     0.59542,\n",
      "            0.58238,     0.58118,     0.57999,      0.5788,     0.57761,     0.57642,     0.57351,     0.57012,     0.56734,     0.56469,     0.55596,     0.54941,     0.54695,     0.54448,     0.53498,     0.52879,      0.5241,     0.50967,     0.50596,     0.48963,     0.48542,     0.47922,     0.46765,\n",
      "            0.46121,     0.45567,     0.45145,     0.44063,     0.42892,     0.42575,     0.41442,     0.40758,     0.40294,     0.39611,     0.39243,     0.37765,     0.35747,     0.35502,     0.35257,     0.34412,      0.3382,     0.32246,     0.30471,     0.29875,     0.28931,     0.26967,     0.25337,\n",
      "            0.24332,      0.2373,     0.23403,      0.2245,     0.20796,     0.16968,     0.15667,     0.14781,     0.13245,     0.11547,    0.094693,    0.070824,    0.053581,    0.044019,    0.033845,    0.030032,    0.026672,    0.018229,    0.016435,    0.014641,   0.0080524,           0,           0,\n",
      "                  0,           0,           0,           0,           0,           0,           0,           0,           0,           0,           0,           0,           0,           0,           0,           0,           0,           0,           0,           0,           0,           0,           0,\n",
      "                  0,           0,           0,           0,           0,           0,           0,           0,           0,           0,           0]]), 'Confidence', 'Recall']]\n",
      "fitness: 0.833325564041037\n",
      "keys: ['metrics/precision(B)', 'metrics/recall(B)', 'metrics/mAP50(B)', 'metrics/mAP50-95(B)']\n",
      "maps: array([    0.82636])\n",
      "names: {0: 'barbell'}\n",
      "plot: True\n",
      "results_dict: {'metrics/precision(B)': 0.8784155519597034, 'metrics/recall(B)': 0.8543046357615894, 'metrics/mAP50(B)': 0.8960274115310731, 'metrics/mAP50-95(B)': 0.8263586920976996, 'fitness': 0.833325564041037}\n",
      "save_dir: PosixPath('/users/eleves-a/2022/amine.chraibi/AI-Deadlift-Analysis/runs/detect/train42')\n",
      "speed: {'preprocess': 0.2816376231965565, 'inference': 4.549369925544376, 'loss': 0.0006811959402901786, 'postprocess': 1.7782137507484073}\n",
      "task: 'detect'\n"
     ]
    }
   ],
   "source": [
    "metrics = model.val(data=\"/users/eleves-a/2022/amine.chraibi/AI-Deadlift-Analysis/dataset/barbell-detector.v12i.yolov11/data.yaml\") \n",
    "print(metrics) "
   ]
  },
  {
   "cell_type": "code",
   "execution_count": 35,
   "metadata": {},
   "outputs": [
    {
     "name": "stdout",
     "output_type": "stream",
     "text": [
      "\n",
      "image 1/1 /users/eleves-a/2022/amine.chraibi/AI-Deadlift-Analysis/dataset/barbell-detector.v12i.yolov11/test/images/1_png.rf.fa126845e4ad50f1cf67ce85b9a8b1d4.jpg: 640x640 1 barbell, 6.5ms\n",
      "Speed: 1.7ms preprocess, 6.5ms inference, 1.0ms postprocess per image at shape (1, 3, 640, 640)\n",
      "Results saved to \u001b[1m/users/eleves-a/2022/amine.chraibi/AI-Deadlift-Analysis/runs/detect/train43\u001b[0m\n"
     ]
    }
   ],
   "source": [
    "results = model.predict(\n",
    "    source=\"/users/eleves-a/2022/amine.chraibi/AI-Deadlift-Analysis/dataset/barbell-detector.v12i.yolov11/test/images/1_png.rf.fa126845e4ad50f1cf67ce85b9a8b1d4.jpg\",\n",
    "    imgsz=640,\n",
    "    conf=0.25,\n",
    "    save=True  \n",
    ")\n"
   ]
  },
  {
   "cell_type": "code",
   "execution_count": 36,
   "metadata": {},
   "outputs": [
    {
     "name": "stdout",
     "output_type": "stream",
     "text": [
      "Ultralytics 8.3.34 🚀 Python-3.9.19 torch-2.5.1+cu124 CPU (Intel Xeon W-1270P 3.80GHz)\n",
      "\n",
      "\u001b[34m\u001b[1mPyTorch:\u001b[0m starting from '/users/eleves-a/2022/amine.chraibi/AI-Deadlift-Analysis/runs/detect/train4/weights/best.pt' with input shape (1, 3, 640, 640) BCHW and output shape(s) (1, 5, 8400) (5.2 MB)\n",
      "\u001b[31m\u001b[1mrequirements:\u001b[0m Ultralytics requirements ['onnx>=1.12.0', 'onnxslim', 'onnxruntime-gpu'] not found, attempting AutoUpdate...\n",
      "Collecting onnx>=1.12.0\n",
      "  Downloading onnx-1.17.0-cp39-cp39-manylinux_2_17_x86_64.manylinux2014_x86_64.whl.metadata (16 kB)\n",
      "Collecting onnxslim\n",
      "  Downloading onnxslim-0.1.39-py3-none-any.whl.metadata (2.9 kB)\n",
      "Collecting onnxruntime-gpu\n",
      "  Downloading onnxruntime_gpu-1.19.2-cp39-cp39-manylinux_2_27_x86_64.manylinux_2_28_x86_64.whl.metadata (4.5 kB)\n",
      "Requirement already satisfied: numpy>=1.20 in ./.venv/lib/python3.9/site-packages (from onnx>=1.12.0) (1.26.1)\n",
      "Requirement already satisfied: protobuf>=3.20.2 in ./.venv/lib/python3.9/site-packages (from onnx>=1.12.0) (5.28.3)\n",
      "Requirement already satisfied: sympy in ./.venv/lib/python3.9/site-packages (from onnxslim) (1.13.1)\n",
      "Requirement already satisfied: packaging in ./.venv/lib/python3.9/site-packages (from onnxslim) (24.2)\n",
      "Collecting coloredlogs (from onnxruntime-gpu)\n",
      "  Downloading coloredlogs-15.0.1-py2.py3-none-any.whl.metadata (12 kB)\n",
      "Requirement already satisfied: flatbuffers in ./.venv/lib/python3.9/site-packages (from onnxruntime-gpu) (24.3.25)\n",
      "Requirement already satisfied: humanfriendly>=9.1 in ./.venv/lib/python3.9/site-packages (from coloredlogs->onnxruntime-gpu) (10.0)\n",
      "Requirement already satisfied: mpmath<1.4,>=1.1.0 in ./.venv/lib/python3.9/site-packages (from sympy->onnxslim) (1.3.0)\n",
      "Downloading onnx-1.17.0-cp39-cp39-manylinux_2_17_x86_64.manylinux2014_x86_64.whl (16.0 MB)\n",
      "\u001b[2K   \u001b[90m━━━━━━━━━━━━━━━━━━━━━━━━━━━━━━━━━━━━━━━━\u001b[0m \u001b[32m16.0/16.0 MB\u001b[0m \u001b[31m109.3 MB/s\u001b[0m eta \u001b[36m0:00:00\u001b[0m\n",
      "\u001b[?25hDownloading onnxslim-0.1.39-py3-none-any.whl (141 kB)\n",
      "Downloading onnxruntime_gpu-1.19.2-cp39-cp39-manylinux_2_27_x86_64.manylinux_2_28_x86_64.whl (226.2 MB)\n",
      "\u001b[2K   \u001b[90m━━━━━━━━━━━━━━━━━━━━━━━━━━━━━━━━━━━━━━━\u001b[0m \u001b[32m226.2/226.2 MB\u001b[0m \u001b[31m116.5 MB/s\u001b[0m eta \u001b[36m0:00:00\u001b[0ma \u001b[36m0:00:01\u001b[0m\n",
      "\u001b[?25hDownloading coloredlogs-15.0.1-py2.py3-none-any.whl (46 kB)\n",
      "Installing collected packages: onnx, coloredlogs, onnxslim, onnxruntime-gpu\n",
      "Successfully installed coloredlogs-15.0.1 onnx-1.17.0 onnxruntime-gpu-1.19.2 onnxslim-0.1.39\n",
      "\n",
      "\u001b[31m\u001b[1mrequirements:\u001b[0m AutoUpdate success ✅ 23.5s, installed 3 packages: ['onnx>=1.12.0', 'onnxslim', 'onnxruntime-gpu']\n",
      "\u001b[31m\u001b[1mrequirements:\u001b[0m ⚠️ \u001b[1mRestart runtime or rerun command for updates to take effect\u001b[0m\n",
      "\n",
      "\n",
      "\u001b[34m\u001b[1mONNX:\u001b[0m starting export with onnx 1.17.0 opset 19...\n",
      "\u001b[34m\u001b[1mONNX:\u001b[0m slimming with onnxslim 0.1.39...\n",
      "\u001b[34m\u001b[1mONNX:\u001b[0m export success ✅ 24.5s, saved as '/users/eleves-a/2022/amine.chraibi/AI-Deadlift-Analysis/runs/detect/train4/weights/best.onnx' (10.1 MB)\n",
      "\n",
      "Export complete (24.6s)\n",
      "Results saved to \u001b[1m/users/eleves-a/2022/amine.chraibi/AI-Deadlift-Analysis/runs/detect/train4/weights\u001b[0m\n",
      "Predict:         yolo predict task=detect model=/users/eleves-a/2022/amine.chraibi/AI-Deadlift-Analysis/runs/detect/train4/weights/best.onnx imgsz=640  \n",
      "Validate:        yolo val task=detect model=/users/eleves-a/2022/amine.chraibi/AI-Deadlift-Analysis/runs/detect/train4/weights/best.onnx imgsz=640 data=/users/eleves-a/2022/amine.chraibi/AI-Deadlift-Analysis/dataset/barbell-detector.v12i.yolov11/data.yaml  \n",
      "Visualize:       https://netron.app\n"
     ]
    },
    {
     "data": {
      "text/plain": [
       "'/users/eleves-a/2022/amine.chraibi/AI-Deadlift-Analysis/runs/detect/train4/weights/best.onnx'"
      ]
     },
     "execution_count": 36,
     "metadata": {},
     "output_type": "execute_result"
    }
   ],
   "source": [
    "model.export(format=\"onnx\")"
   ]
  },
  {
   "cell_type": "code",
   "execution_count": null,
   "metadata": {},
   "outputs": [],
   "source": []
  }
 ],
 "metadata": {
  "kernelspec": {
   "display_name": ".venv",
   "language": "python",
   "name": "python3"
  },
  "language_info": {
   "codemirror_mode": {
    "name": "ipython",
    "version": 3
   },
   "file_extension": ".py",
   "mimetype": "text/x-python",
   "name": "python",
   "nbconvert_exporter": "python",
   "pygments_lexer": "ipython3",
   "version": "3.9.19"
  }
 },
 "nbformat": 4,
 "nbformat_minor": 2
}
